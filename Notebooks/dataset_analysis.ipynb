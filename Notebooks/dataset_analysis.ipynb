{
 "cells": [
  {
   "cell_type": "code",
   "execution_count": 3,
   "id": "initial_id",
   "metadata": {
    "collapsed": true,
    "ExecuteTime": {
     "end_time": "2023-11-21T15:01:24.629177Z",
     "start_time": "2023-11-21T15:01:24.624177400Z"
    }
   },
   "outputs": [],
   "source": [
    "import numpy as np"
   ]
  },
  {
   "cell_type": "code",
   "execution_count": 4,
   "outputs": [
    {
     "ename": "BadZipFile",
     "evalue": "File is not a zip file",
     "output_type": "error",
     "traceback": [
      "\u001B[1;31m---------------------------------------------------------------------------\u001B[0m",
      "\u001B[1;31mBadZipFile\u001B[0m                                Traceback (most recent call last)",
      "Cell \u001B[1;32mIn[4], line 1\u001B[0m\n\u001B[1;32m----> 1\u001B[0m data \u001B[38;5;241m=\u001B[39m \u001B[43mnp\u001B[49m\u001B[38;5;241;43m.\u001B[39;49m\u001B[43mload\u001B[49m\u001B[43m(\u001B[49m\u001B[38;5;124;43m\"\u001B[39;49m\u001B[38;5;124;43m../Data/musicnet.npz\u001B[39;49m\u001B[38;5;124;43m\"\u001B[39;49m\u001B[43m,\u001B[49m\u001B[43m \u001B[49m\u001B[43mencoding\u001B[49m\u001B[38;5;241;43m=\u001B[39;49m\u001B[38;5;124;43m\"\u001B[39;49m\u001B[38;5;124;43mlatin1\u001B[39;49m\u001B[38;5;124;43m\"\u001B[39;49m\u001B[43m,\u001B[49m\u001B[43m \u001B[49m\u001B[43mallow_pickle\u001B[49m\u001B[38;5;241;43m=\u001B[39;49m\u001B[38;5;28;43;01mTrue\u001B[39;49;00m\u001B[43m)\u001B[49m\n\u001B[0;32m      3\u001B[0m \u001B[38;5;28;01mfor\u001B[39;00m file \u001B[38;5;129;01min\u001B[39;00m data\u001B[38;5;241m.\u001B[39mfiles:\n\u001B[0;32m      4\u001B[0m     \u001B[38;5;28mprint\u001B[39m(file)\n",
      "File \u001B[1;32m~\\AppData\\Roaming\\Python\\Python310\\site-packages\\numpy\\lib\\npyio.py:444\u001B[0m, in \u001B[0;36mload\u001B[1;34m(file, mmap_mode, allow_pickle, fix_imports, encoding, max_header_size)\u001B[0m\n\u001B[0;32m    440\u001B[0m \u001B[38;5;28;01mif\u001B[39;00m magic\u001B[38;5;241m.\u001B[39mstartswith(_ZIP_PREFIX) \u001B[38;5;129;01mor\u001B[39;00m magic\u001B[38;5;241m.\u001B[39mstartswith(_ZIP_SUFFIX):\n\u001B[0;32m    441\u001B[0m     \u001B[38;5;66;03m# zip-file (assume .npz)\u001B[39;00m\n\u001B[0;32m    442\u001B[0m     \u001B[38;5;66;03m# Potentially transfer file ownership to NpzFile\u001B[39;00m\n\u001B[0;32m    443\u001B[0m     stack\u001B[38;5;241m.\u001B[39mpop_all()\n\u001B[1;32m--> 444\u001B[0m     ret \u001B[38;5;241m=\u001B[39m \u001B[43mNpzFile\u001B[49m\u001B[43m(\u001B[49m\u001B[43mfid\u001B[49m\u001B[43m,\u001B[49m\u001B[43m \u001B[49m\u001B[43mown_fid\u001B[49m\u001B[38;5;241;43m=\u001B[39;49m\u001B[43mown_fid\u001B[49m\u001B[43m,\u001B[49m\u001B[43m \u001B[49m\u001B[43mallow_pickle\u001B[49m\u001B[38;5;241;43m=\u001B[39;49m\u001B[43mallow_pickle\u001B[49m\u001B[43m,\u001B[49m\n\u001B[0;32m    445\u001B[0m \u001B[43m                  \u001B[49m\u001B[43mpickle_kwargs\u001B[49m\u001B[38;5;241;43m=\u001B[39;49m\u001B[43mpickle_kwargs\u001B[49m\u001B[43m,\u001B[49m\n\u001B[0;32m    446\u001B[0m \u001B[43m                  \u001B[49m\u001B[43mmax_header_size\u001B[49m\u001B[38;5;241;43m=\u001B[39;49m\u001B[43mmax_header_size\u001B[49m\u001B[43m)\u001B[49m\n\u001B[0;32m    447\u001B[0m     \u001B[38;5;28;01mreturn\u001B[39;00m ret\n\u001B[0;32m    448\u001B[0m \u001B[38;5;28;01melif\u001B[39;00m magic \u001B[38;5;241m==\u001B[39m \u001B[38;5;28mformat\u001B[39m\u001B[38;5;241m.\u001B[39mMAGIC_PREFIX:\n\u001B[0;32m    449\u001B[0m     \u001B[38;5;66;03m# .npy file\u001B[39;00m\n",
      "File \u001B[1;32m~\\AppData\\Roaming\\Python\\Python310\\site-packages\\numpy\\lib\\npyio.py:190\u001B[0m, in \u001B[0;36mNpzFile.__init__\u001B[1;34m(self, fid, own_fid, allow_pickle, pickle_kwargs, max_header_size)\u001B[0m\n\u001B[0;32m    185\u001B[0m \u001B[38;5;28;01mdef\u001B[39;00m \u001B[38;5;21m__init__\u001B[39m(\u001B[38;5;28mself\u001B[39m, fid, own_fid\u001B[38;5;241m=\u001B[39m\u001B[38;5;28;01mFalse\u001B[39;00m, allow_pickle\u001B[38;5;241m=\u001B[39m\u001B[38;5;28;01mFalse\u001B[39;00m,\n\u001B[0;32m    186\u001B[0m              pickle_kwargs\u001B[38;5;241m=\u001B[39m\u001B[38;5;28;01mNone\u001B[39;00m, \u001B[38;5;241m*\u001B[39m,\n\u001B[0;32m    187\u001B[0m              max_header_size\u001B[38;5;241m=\u001B[39m\u001B[38;5;28mformat\u001B[39m\u001B[38;5;241m.\u001B[39m_MAX_HEADER_SIZE):\n\u001B[0;32m    188\u001B[0m     \u001B[38;5;66;03m# Import is postponed to here since zipfile depends on gzip, an\u001B[39;00m\n\u001B[0;32m    189\u001B[0m     \u001B[38;5;66;03m# optional component of the so-called standard library.\u001B[39;00m\n\u001B[1;32m--> 190\u001B[0m     _zip \u001B[38;5;241m=\u001B[39m \u001B[43mzipfile_factory\u001B[49m\u001B[43m(\u001B[49m\u001B[43mfid\u001B[49m\u001B[43m)\u001B[49m\n\u001B[0;32m    191\u001B[0m     \u001B[38;5;28mself\u001B[39m\u001B[38;5;241m.\u001B[39m_files \u001B[38;5;241m=\u001B[39m _zip\u001B[38;5;241m.\u001B[39mnamelist()\n\u001B[0;32m    192\u001B[0m     \u001B[38;5;28mself\u001B[39m\u001B[38;5;241m.\u001B[39mfiles \u001B[38;5;241m=\u001B[39m []\n",
      "File \u001B[1;32m~\\AppData\\Roaming\\Python\\Python310\\site-packages\\numpy\\lib\\npyio.py:103\u001B[0m, in \u001B[0;36mzipfile_factory\u001B[1;34m(file, *args, **kwargs)\u001B[0m\n\u001B[0;32m    101\u001B[0m \u001B[38;5;28;01mimport\u001B[39;00m \u001B[38;5;21;01mzipfile\u001B[39;00m\n\u001B[0;32m    102\u001B[0m kwargs[\u001B[38;5;124m'\u001B[39m\u001B[38;5;124mallowZip64\u001B[39m\u001B[38;5;124m'\u001B[39m] \u001B[38;5;241m=\u001B[39m \u001B[38;5;28;01mTrue\u001B[39;00m\n\u001B[1;32m--> 103\u001B[0m \u001B[38;5;28;01mreturn\u001B[39;00m zipfile\u001B[38;5;241m.\u001B[39mZipFile(file, \u001B[38;5;241m*\u001B[39margs, \u001B[38;5;241m*\u001B[39m\u001B[38;5;241m*\u001B[39mkwargs)\n",
      "File \u001B[1;32m~\\anaconda3\\envs\\torch_gpu\\lib\\zipfile.py:1269\u001B[0m, in \u001B[0;36mZipFile.__init__\u001B[1;34m(self, file, mode, compression, allowZip64, compresslevel, strict_timestamps)\u001B[0m\n\u001B[0;32m   1267\u001B[0m \u001B[38;5;28;01mtry\u001B[39;00m:\n\u001B[0;32m   1268\u001B[0m     \u001B[38;5;28;01mif\u001B[39;00m mode \u001B[38;5;241m==\u001B[39m \u001B[38;5;124m'\u001B[39m\u001B[38;5;124mr\u001B[39m\u001B[38;5;124m'\u001B[39m:\n\u001B[1;32m-> 1269\u001B[0m         \u001B[38;5;28;43mself\u001B[39;49m\u001B[38;5;241;43m.\u001B[39;49m\u001B[43m_RealGetContents\u001B[49m\u001B[43m(\u001B[49m\u001B[43m)\u001B[49m\n\u001B[0;32m   1270\u001B[0m     \u001B[38;5;28;01melif\u001B[39;00m mode \u001B[38;5;129;01min\u001B[39;00m (\u001B[38;5;124m'\u001B[39m\u001B[38;5;124mw\u001B[39m\u001B[38;5;124m'\u001B[39m, \u001B[38;5;124m'\u001B[39m\u001B[38;5;124mx\u001B[39m\u001B[38;5;124m'\u001B[39m):\n\u001B[0;32m   1271\u001B[0m         \u001B[38;5;66;03m# set the modified flag so central directory gets written\u001B[39;00m\n\u001B[0;32m   1272\u001B[0m         \u001B[38;5;66;03m# even if no files are added to the archive\u001B[39;00m\n\u001B[0;32m   1273\u001B[0m         \u001B[38;5;28mself\u001B[39m\u001B[38;5;241m.\u001B[39m_didModify \u001B[38;5;241m=\u001B[39m \u001B[38;5;28;01mTrue\u001B[39;00m\n",
      "File \u001B[1;32m~\\anaconda3\\envs\\torch_gpu\\lib\\zipfile.py:1336\u001B[0m, in \u001B[0;36mZipFile._RealGetContents\u001B[1;34m(self)\u001B[0m\n\u001B[0;32m   1334\u001B[0m     \u001B[38;5;28;01mraise\u001B[39;00m BadZipFile(\u001B[38;5;124m\"\u001B[39m\u001B[38;5;124mFile is not a zip file\u001B[39m\u001B[38;5;124m\"\u001B[39m)\n\u001B[0;32m   1335\u001B[0m \u001B[38;5;28;01mif\u001B[39;00m \u001B[38;5;129;01mnot\u001B[39;00m endrec:\n\u001B[1;32m-> 1336\u001B[0m     \u001B[38;5;28;01mraise\u001B[39;00m BadZipFile(\u001B[38;5;124m\"\u001B[39m\u001B[38;5;124mFile is not a zip file\u001B[39m\u001B[38;5;124m\"\u001B[39m)\n\u001B[0;32m   1337\u001B[0m \u001B[38;5;28;01mif\u001B[39;00m \u001B[38;5;28mself\u001B[39m\u001B[38;5;241m.\u001B[39mdebug \u001B[38;5;241m>\u001B[39m \u001B[38;5;241m1\u001B[39m:\n\u001B[0;32m   1338\u001B[0m     \u001B[38;5;28mprint\u001B[39m(endrec)\n",
      "\u001B[1;31mBadZipFile\u001B[0m: File is not a zip file"
     ]
    }
   ],
   "source": [
    "data = np.load(\"../Data/musicnet.npz\", encoding=\"latin1\", allow_pickle=True)\n",
    "\n",
    "for file in data.files:\n",
    "    print(file)\n",
    "    print(data[file][0].shape)\n",
    "    print(data[file][0])\n",
    "    print(data[file][1])\n",
    "    break"
   ],
   "metadata": {
    "collapsed": false,
    "ExecuteTime": {
     "end_time": "2023-11-21T15:01:24.754177600Z",
     "start_time": "2023-11-21T15:01:24.631177900Z"
    }
   },
   "id": "9dd215d4f3a747f0"
  },
  {
   "cell_type": "code",
   "execution_count": null,
   "outputs": [],
   "source": [
    "file = data.files[0]\n",
    "X = data[file][0]\n",
    "print(file)\n",
    "print(len(X))"
   ],
   "metadata": {
    "collapsed": false,
    "ExecuteTime": {
     "start_time": "2023-11-21T15:01:24.755177600Z"
    }
   },
   "id": "83ea21be8dd2e4f2"
  },
  {
   "cell_type": "code",
   "execution_count": null,
   "outputs": [],
   "source": [
    "file = data.files[0]\n",
    "labels = data[file][1]\n",
    "for label in labels:\n",
    "    print(label[0])\n",
    "    print(label[1])\n",
    "    print(label[2][0])\n",
    "    break"
   ],
   "metadata": {
    "collapsed": false,
    "ExecuteTime": {
     "end_time": "2023-11-21T15:01:24.756177900Z",
     "start_time": "2023-11-21T15:01:24.755177600Z"
    }
   },
   "id": "18543612f44c1a66"
  },
  {
   "cell_type": "code",
   "execution_count": null,
   "outputs": [],
   "source": [
    "import pandas as pd\n",
    "import os"
   ],
   "metadata": {
    "collapsed": false,
    "ExecuteTime": {
     "start_time": "2023-11-21T15:01:24.756177900Z"
    }
   },
   "id": "3f73a5bf054e89a5"
  },
  {
   "cell_type": "code",
   "execution_count": null,
   "outputs": [],
   "source": [
    "instruments_set = set()\n",
    "for file in os.listdir(\"musicnet/test_labels\"):\n",
    "    data = pd.read_csv(\"musicnet/test_labels/\" + file)\n",
    "    instruments_set = instruments_set.union(set(data[\"instrument\"].unique()))\n",
    "\n",
    "for file in os.listdir(\"musicnet/train_labels\"):\n",
    "    data = pd.read_csv(\"musicnet/train_labels/\" + file)\n",
    "    instruments_set = instruments_set.union(set(data[\"instrument\"].unique()))\n",
    "        \n",
    "print(instruments_set)"
   ],
   "metadata": {
    "collapsed": false,
    "ExecuteTime": {
     "start_time": "2023-11-21T15:01:24.757178Z"
    }
   },
   "id": "27793fe112b02f54"
  },
  {
   "cell_type": "code",
   "execution_count": null,
   "outputs": [],
   "source": [
    "instruments_mapping = {}\n",
    "for i, instrument in enumerate(instruments_set):\n",
    "    instruments_mapping[instrument] = i"
   ],
   "metadata": {
    "collapsed": false,
    "ExecuteTime": {
     "start_time": "2023-11-21T15:01:24.758177900Z"
    }
   },
   "id": "13a53b1fec770062"
  },
  {
   "cell_type": "code",
   "execution_count": null,
   "outputs": [],
   "source": [
    "instruments_mapping = {\n",
    "    1: 0,\n",
    "    7: 1,\n",
    "    41: 2,\n",
    "    42: 3,\n",
    "    43: 4,\n",
    "    44: 5,\n",
    "    61: 6,\n",
    "    69: 7,\n",
    "    71: 8,\n",
    "    72: 9,\n",
    "    74: 10\n",
    "}"
   ],
   "metadata": {
    "collapsed": false,
    "ExecuteTime": {
     "end_time": "2023-11-21T15:01:24.762177300Z",
     "start_time": "2023-11-21T15:01:24.759178600Z"
    }
   },
   "id": "f3060727daef0966"
  },
  {
   "cell_type": "code",
   "execution_count": null,
   "outputs": [],
   "source": [
    "import numpy as np\n",
    "import librosa\n",
    "import librosa.display\n",
    "import matplotlib.pyplot as plt\n",
    "\n",
    "# Function to convert audio waveform to spectrogram\n",
    "def audio_to_spectrogram(audio, sr, hop_length=512, n_fft=2048):\n",
    "    # Compute the spectrogram\n",
    "    S = np.abs(librosa.cqt(audio, sr=sr, hop_length=hop_length, n_fft=n_fft)\n",
    "    # Convert to decibel scale\n",
    "    S_db = librosa.amplitude_to_db(S, ref=np.max)\n",
    "    return S_db\n",
    "\n",
    "# Example of processing a single audio file from the dataset\n",
    "def process_single_file(file_id, data):\n",
    "    audio_data = data[file_id][0]  # Raw audio waveform\n",
    "    sr = 44100  # Sample rate of the MusicNet dataset is 44.1 kHz\n",
    "\n",
    "    # Convert the raw audio to a spectrogram\n",
    "    S_db = audio_to_spectrogram(audio_data, sr)\n",
    "\n",
    "    # Plot the spectrogram\n",
    "    plt.figure(figsize=(14, 5))\n",
    "    librosa.display.specshow(S_db, sr=sr, x_axis='time', y_axis='log')\n",
    "    plt.colorbar(format='%+2.0f dB')\n",
    "    plt.title('Spectrogram')\n",
    "    plt.show()\n",
    "\n",
    "    return S_db\n",
    "\n",
    "\n",
    "npz_file_path = \"musicnet.npz\"\n",
    "data = np.load(npz_file_path, allow_pickle=True, encoding=\"latin1\")\n",
    "\n",
    "file_id = '1788' if '1788' in data.files else data.files[0]  # Use the first file if '1788' is not available\n",
    "spectrogram = process_single_file(file_id, data)"
   ],
   "metadata": {
    "collapsed": false,
    "ExecuteTime": {
     "start_time": "2023-11-21T15:01:24.760178300Z"
    }
   },
   "id": "44969fa7858abfa1"
  },
  {
   "cell_type": "code",
   "execution_count": null,
   "outputs": [],
   "source": [
    "from Data.preprocessing import DataPreprocessor\n",
    "\n",
    "preprocessor = DataPreprocessor(transform_type='fft', file_path=\"../Data/musicnet.npz\", metadata_path=\"../Data/musicnet_metadata.csv\")\n",
    "X, y = preprocessor.load_data()"
   ],
   "metadata": {
    "collapsed": false,
    "ExecuteTime": {
     "start_time": "2023-11-21T15:01:24.761177500Z"
    }
   },
   "id": "52b0fecc29218692"
  },
  {
   "cell_type": "code",
   "execution_count": null,
   "outputs": [],
   "source": [
    "import numpy as np"
   ],
   "metadata": {
    "collapsed": false,
    "ExecuteTime": {
     "end_time": "2023-11-21T15:01:24.762177300Z",
     "start_time": "2023-11-21T15:01:24.762177300Z"
    }
   },
   "id": "99286b5f9f485379"
  },
  {
   "cell_type": "code",
   "execution_count": null,
   "outputs": [],
   "source": [
    "print(X[0].shape)"
   ],
   "metadata": {
    "collapsed": false,
    "ExecuteTime": {
     "start_time": "2023-11-21T15:01:24.763177300Z"
    }
   },
   "id": "53c3d69945c41a7a"
  },
  {
   "cell_type": "code",
   "execution_count": null,
   "outputs": [],
   "source": [
    "print(y.shape)"
   ],
   "metadata": {
    "collapsed": false,
    "ExecuteTime": {
     "start_time": "2023-11-21T15:01:24.763177300Z"
    }
   },
   "id": "dc7c00074d8a6bef"
  },
  {
   "cell_type": "code",
   "execution_count": null,
   "outputs": [],
   "source": [
    "print(y[0].shape)"
   ],
   "metadata": {
    "collapsed": false,
    "ExecuteTime": {
     "start_time": "2023-11-21T15:01:24.764177600Z"
    }
   },
   "id": "2dcbc50ada53523"
  },
  {
   "cell_type": "code",
   "execution_count": null,
   "outputs": [],
   "source": [
    "max_value = -np.inf\n",
    "for i in range(len(X)):\n",
    "    max_value = max(max_value, np.max(X[i]))\n",
    "print(max_value)"
   ],
   "metadata": {
    "collapsed": false,
    "ExecuteTime": {
     "start_time": "2023-11-21T15:01:24.765178400Z"
    }
   },
   "id": "4fd0d46b6f5dde80"
  },
  {
   "cell_type": "code",
   "execution_count": null,
   "outputs": [],
   "source": [],
   "metadata": {
    "collapsed": false,
    "ExecuteTime": {
     "start_time": "2023-11-21T15:01:24.765178400Z"
    }
   },
   "id": "622708afb8aa9666"
  }
 ],
 "metadata": {
  "kernelspec": {
   "display_name": "Python 3",
   "language": "python",
   "name": "python3"
  },
  "language_info": {
   "codemirror_mode": {
    "name": "ipython",
    "version": 2
   },
   "file_extension": ".py",
   "mimetype": "text/x-python",
   "name": "python",
   "nbconvert_exporter": "python",
   "pygments_lexer": "ipython2",
   "version": "2.7.6"
  }
 },
 "nbformat": 4,
 "nbformat_minor": 5
}
