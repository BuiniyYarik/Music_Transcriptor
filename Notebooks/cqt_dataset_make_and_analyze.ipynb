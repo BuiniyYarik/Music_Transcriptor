{
 "cells": [
  {
   "cell_type": "markdown",
   "source": [
    "## Analyze data preprocessed using Constant-Q Transform and create several preprocessed datasets with different hyperparameters (in particular, different number of frequency bins per octave)"
   ],
   "metadata": {
    "collapsed": false
   },
   "id": "d8565649cb89e076"
  },
  {
   "cell_type": "code",
   "execution_count": 1,
   "outputs": [],
   "source": [
    "from src.preprocessing.data_preprocessing import generate_note_labels\n",
    "from src.preprocessing.data_preprocessing import calculate_cqt_stats\n",
    "from src.preprocessing.data_preprocessing import process_files_using_cqt"
   ],
   "metadata": {
    "collapsed": false,
    "ExecuteTime": {
     "end_time": "2023-11-27T21:43:50.505999300Z",
     "start_time": "2023-11-27T21:43:49.951996100Z"
    }
   },
   "id": "19667960768c3c71"
  },
  {
   "cell_type": "code",
   "execution_count": 2,
   "outputs": [],
   "source": [
    "from src.preprocessing.data_utils import find_note_range\n",
    "from src.preprocessing.data_utils import find_max_length\n",
    "from src.preprocessing.data_utils import pad_data\n",
    "from src.preprocessing.data_utils import save_preprocessed_data\n",
    "from src.preprocessing.data_utils import spectrogram_row_to_image"
   ],
   "metadata": {
    "collapsed": false,
    "ExecuteTime": {
     "end_time": "2023-11-27T21:43:50.554001Z",
     "start_time": "2023-11-27T21:43:50.506999900Z"
    }
   },
   "id": "65a76ef72e651b7"
  },
  {
   "cell_type": "code",
   "execution_count": 3,
   "outputs": [],
   "source": [
    "# Paths to the directories\n",
    "train_data_dir = '../Data/raw/musicnet/train_data'\n",
    "train_labels_dir = '../Data/raw/musicnet/train_labels'\n",
    "test_data_dir = '../Data/raw/musicnet/test_data'\n",
    "test_labels_dir = '../Data/raw/musicnet/test_labels'"
   ],
   "metadata": {
    "collapsed": false,
    "ExecuteTime": {
     "end_time": "2023-11-27T21:43:50.570Z",
     "start_time": "2023-11-27T21:43:50.554999400Z"
    }
   },
   "id": "7380e77e0cb61c1e"
  },
  {
   "cell_type": "markdown",
   "source": [
    "### Explore notes range in dataset"
   ],
   "metadata": {
    "collapsed": false
   },
   "id": "e8c7dccb0b446f26"
  },
  {
   "cell_type": "code",
   "execution_count": 4,
   "outputs": [],
   "source": [
    "all_label_paths = [train_labels_dir, test_labels_dir]\n",
    "min_note_value, max_note_value = find_note_range(all_label_paths)\n",
    "note_range = max_note_value - min_note_value"
   ],
   "metadata": {
    "collapsed": false,
    "ExecuteTime": {
     "end_time": "2023-11-27T21:43:52.951013400Z",
     "start_time": "2023-11-27T21:43:50.571000200Z"
    }
   },
   "id": "30f75fee94f9035c"
  },
  {
   "cell_type": "code",
   "execution_count": 5,
   "outputs": [
    {
     "name": "stdout",
     "output_type": "stream",
     "text": [
      "Min note value: 21\n",
      "Max note value: 105\n",
      "Note range: 84\n"
     ]
    }
   ],
   "source": [
    "print('Min note value:', min_note_value)\n",
    "print('Max note value:', max_note_value)\n",
    "print('Note range:', note_range)"
   ],
   "metadata": {
    "collapsed": false,
    "ExecuteTime": {
     "end_time": "2023-11-27T21:43:52.969013900Z",
     "start_time": "2023-11-27T21:43:52.953013600Z"
    }
   },
   "id": "e68860d7b1cb6547"
  },
  {
   "cell_type": "markdown",
   "source": [
    "### Create preprocessed dataset with frequency bins per octave = 12"
   ],
   "metadata": {
    "collapsed": false
   },
   "id": "7564371ba3305c11"
  },
  {
   "cell_type": "markdown",
   "source": [
    "#### Initially process audio files to spectrograms and generate labels"
   ],
   "metadata": {
    "collapsed": false
   },
   "id": "13f0bc529aeac4b"
  },
  {
   "cell_type": "code",
   "execution_count": 6,
   "outputs": [
    {
     "name": "stderr",
     "output_type": "stream",
     "text": [
      "Calculating CQT stats: 100%|██████████| 320/320 [01:42<00:00,  3.13it/s]\n",
      "Processing files in '../Data/raw/musicnet/train_data' and '../Data/raw/musicnet/train_labels': 100%|██████████| 320/320 [02:03<00:00,  2.58it/s]\n",
      "Calculating CQT stats: 100%|██████████| 10/10 [00:01<00:00,  7.51it/s]\n",
      "Processing files in '../Data/raw/musicnet/test_data' and '../Data/raw/musicnet/test_labels': 100%|██████████| 10/10 [00:01<00:00,  6.24it/s]\n"
     ]
    }
   ],
   "source": [
    "train_mean, train_std_dev = calculate_cqt_stats(train_data_dir, bins_per_octave=12, data_size=320)\n",
    "X_train, y_train = process_files_using_cqt(train_data_dir, train_labels_dir, generate_note_labels, mean=train_mean, std=train_std_dev, bins_per_octave=12, data_size=320)\n",
    "\n",
    "test_mean, test_std_dev = calculate_cqt_stats(test_data_dir, bins_per_octave=12, data_size=10)\n",
    "X_test, y_test = process_files_using_cqt(test_data_dir, test_labels_dir, generate_note_labels, mean=test_mean, std=test_std_dev, bins_per_octave=12, data_size=10)"
   ],
   "metadata": {
    "collapsed": false,
    "ExecuteTime": {
     "end_time": "2023-11-27T21:47:42.088716100Z",
     "start_time": "2023-11-27T21:43:52.968013300Z"
    }
   },
   "id": "ce9f882d5530ebb4"
  },
  {
   "cell_type": "code",
   "execution_count": 7,
   "outputs": [
    {
     "name": "stdout",
     "output_type": "stream",
     "text": [
      "Number of training examples: 320\n",
      "Number of training labels: 320\n",
      "X_train[0] shape: (19254, 84)\n",
      "y_train[0] shape: (19254, 88)\n"
     ]
    }
   ],
   "source": [
    "print('Number of training examples:', len(X_train))\n",
    "print('Number of training labels:', len(y_train))\n",
    "print(f\"X_train[0] shape: {X_train[0].shape}\")\n",
    "print(f\"y_train[0] shape: {y_train[0].shape}\")"
   ],
   "metadata": {
    "collapsed": false,
    "ExecuteTime": {
     "end_time": "2023-11-27T21:47:42.104717200Z",
     "start_time": "2023-11-27T21:47:42.089717300Z"
    }
   },
   "id": "10208ed49149a3af"
  },
  {
   "cell_type": "code",
   "execution_count": 8,
   "outputs": [
    {
     "name": "stdout",
     "output_type": "stream",
     "text": [
      "Sample 1 shape: (19254, 84)\n",
      "Sample 2 shape: (10816, 84)\n",
      "Sample 3 shape: (19144, 84)\n",
      "Sample 4 shape: (15872, 84)\n",
      "Sample 5 shape: (23515, 84)\n",
      "Sample 6 shape: (14024, 84)\n",
      "Sample 7 shape: (30790, 84)\n",
      "Sample 8 shape: (21122, 84)\n",
      "Sample 9 shape: (39817, 84)\n",
      "Sample 10 shape: (29991, 84)\n",
      "Sample 11 shape: (33772, 84)\n",
      "Sample 12 shape: (20486, 84)\n",
      "Sample 13 shape: (15621, 84)\n",
      "Sample 14 shape: (9897, 84)\n",
      "Sample 15 shape: (15999, 84)\n",
      "Sample 16 shape: (30604, 84)\n",
      "Sample 17 shape: (20173, 84)\n",
      "Sample 18 shape: (28234, 84)\n",
      "Sample 19 shape: (25854, 84)\n",
      "Sample 20 shape: (18875, 84)\n",
      "Sample 21 shape: (29139, 84)\n",
      "Sample 22 shape: (18406, 84)\n",
      "Sample 23 shape: (12527, 84)\n",
      "Sample 24 shape: (27880, 84)\n",
      "Sample 25 shape: (17979, 84)\n",
      "Sample 26 shape: (13238, 84)\n",
      "Sample 27 shape: (24902, 84)\n",
      "Sample 28 shape: (31271, 84)\n",
      "Sample 29 shape: (27111, 84)\n",
      "Sample 30 shape: (22102, 84)\n",
      "Sample 31 shape: (19868, 84)\n",
      "Sample 32 shape: (13948, 84)\n",
      "Sample 33 shape: (15140, 84)\n",
      "Sample 34 shape: (20362, 84)\n",
      "Sample 35 shape: (21745, 84)\n",
      "Sample 36 shape: (15366, 84)\n",
      "Sample 37 shape: (19140, 84)\n",
      "Sample 38 shape: (21075, 84)\n",
      "Sample 39 shape: (20074, 84)\n",
      "Sample 40 shape: (25495, 84)\n",
      "Sample 41 shape: (10783, 84)\n",
      "Sample 42 shape: (17548, 84)\n",
      "Sample 43 shape: (19836, 84)\n",
      "Sample 44 shape: (10896, 84)\n",
      "Sample 45 shape: (11423, 84)\n",
      "Sample 46 shape: (18146, 84)\n",
      "Sample 47 shape: (10202, 84)\n",
      "Sample 48 shape: (16915, 84)\n",
      "Sample 49 shape: (21941, 84)\n",
      "Sample 50 shape: (15790, 84)\n",
      "Sample 51 shape: (15352, 84)\n",
      "Sample 52 shape: (14034, 84)\n",
      "Sample 53 shape: (29071, 84)\n",
      "Sample 54 shape: (15812, 84)\n",
      "Sample 55 shape: (18704, 84)\n",
      "Sample 56 shape: (17314, 84)\n",
      "Sample 57 shape: (16933, 84)\n",
      "Sample 58 shape: (20306, 84)\n",
      "Sample 59 shape: (10770, 84)\n",
      "Sample 60 shape: (15144, 84)\n",
      "Sample 61 shape: (14170, 84)\n",
      "Sample 62 shape: (10660, 84)\n",
      "Sample 63 shape: (10772, 84)\n",
      "Sample 64 shape: (15332, 84)\n",
      "Sample 65 shape: (12003, 84)\n",
      "Sample 66 shape: (10074, 84)\n",
      "Sample 67 shape: (12917, 84)\n",
      "Sample 68 shape: (14721, 84)\n",
      "Sample 69 shape: (10552, 84)\n",
      "Sample 70 shape: (16009, 84)\n",
      "Sample 71 shape: (12567, 84)\n",
      "Sample 72 shape: (38653, 84)\n",
      "Sample 73 shape: (15197, 84)\n",
      "Sample 74 shape: (17359, 84)\n",
      "Sample 75 shape: (17697, 84)\n",
      "Sample 76 shape: (11460, 84)\n",
      "Sample 77 shape: (9997, 84)\n",
      "Sample 78 shape: (12689, 84)\n",
      "Sample 79 shape: (22336, 84)\n",
      "Sample 80 shape: (11824, 84)\n",
      "Sample 81 shape: (18516, 84)\n",
      "Sample 82 shape: (16432, 84)\n",
      "Sample 83 shape: (21612, 84)\n",
      "Sample 84 shape: (35429, 84)\n",
      "Sample 85 shape: (20514, 84)\n",
      "Sample 86 shape: (25801, 84)\n",
      "Sample 87 shape: (22970, 84)\n",
      "Sample 88 shape: (38512, 84)\n",
      "Sample 89 shape: (26104, 84)\n",
      "Sample 90 shape: (8270, 84)\n",
      "Sample 91 shape: (28469, 84)\n",
      "Sample 92 shape: (20765, 84)\n",
      "Sample 93 shape: (20092, 84)\n",
      "Sample 94 shape: (19250, 84)\n",
      "Sample 95 shape: (17106, 84)\n",
      "Sample 96 shape: (27533, 84)\n",
      "Sample 97 shape: (8332, 84)\n",
      "Sample 98 shape: (26390, 84)\n",
      "Sample 99 shape: (22363, 84)\n",
      "Sample 100 shape: (21139, 84)\n",
      "Sample 101 shape: (15299, 84)\n",
      "Sample 102 shape: (21751, 84)\n",
      "Sample 103 shape: (12649, 84)\n",
      "Sample 104 shape: (9233, 84)\n",
      "Sample 105 shape: (4312, 84)\n",
      "Sample 106 shape: (6681, 84)\n",
      "Sample 107 shape: (3251, 84)\n",
      "Sample 108 shape: (8525, 84)\n",
      "Sample 109 shape: (4890, 84)\n",
      "Sample 110 shape: (5783, 84)\n",
      "Sample 111 shape: (7805, 84)\n",
      "Sample 112 shape: (6727, 84)\n",
      "Sample 113 shape: (5703, 84)\n",
      "Sample 114 shape: (3860, 84)\n",
      "Sample 115 shape: (5203, 84)\n",
      "Sample 116 shape: (6925, 84)\n",
      "Sample 117 shape: (7681, 84)\n",
      "Sample 118 shape: (10217, 84)\n",
      "Sample 119 shape: (7453, 84)\n",
      "Sample 120 shape: (4996, 84)\n",
      "Sample 121 shape: (4623, 84)\n",
      "Sample 122 shape: (5015, 84)\n",
      "Sample 123 shape: (8023, 84)\n",
      "Sample 124 shape: (8612, 84)\n",
      "Sample 125 shape: (11240, 84)\n",
      "Sample 126 shape: (13007, 84)\n",
      "Sample 127 shape: (10387, 84)\n",
      "Sample 128 shape: (8701, 84)\n",
      "Sample 129 shape: (4686, 84)\n",
      "Sample 130 shape: (9203, 84)\n",
      "Sample 131 shape: (5575, 84)\n",
      "Sample 132 shape: (4225, 84)\n",
      "Sample 133 shape: (10534, 84)\n",
      "Sample 134 shape: (3643, 84)\n",
      "Sample 135 shape: (4981, 84)\n",
      "Sample 136 shape: (3385, 84)\n",
      "Sample 137 shape: (2759, 84)\n",
      "Sample 138 shape: (4703, 84)\n",
      "Sample 139 shape: (2585, 84)\n",
      "Sample 140 shape: (5170, 84)\n",
      "Sample 141 shape: (3988, 84)\n",
      "Sample 142 shape: (10432, 84)\n",
      "Sample 143 shape: (13469, 84)\n",
      "Sample 144 shape: (8354, 84)\n",
      "Sample 145 shape: (9232, 84)\n",
      "Sample 146 shape: (3499, 84)\n",
      "Sample 147 shape: (4507, 84)\n",
      "Sample 148 shape: (13492, 84)\n",
      "Sample 149 shape: (8274, 84)\n",
      "Sample 150 shape: (9796, 84)\n",
      "Sample 151 shape: (9732, 84)\n",
      "Sample 152 shape: (8258, 84)\n",
      "Sample 153 shape: (8759, 84)\n",
      "Sample 154 shape: (3934, 84)\n",
      "Sample 155 shape: (13358, 84)\n",
      "Sample 156 shape: (9839, 84)\n",
      "Sample 157 shape: (11174, 84)\n",
      "Sample 158 shape: (12572, 84)\n",
      "Sample 159 shape: (14396, 84)\n",
      "Sample 160 shape: (10258, 84)\n",
      "Sample 161 shape: (4666, 84)\n",
      "Sample 162 shape: (8457, 84)\n",
      "Sample 163 shape: (2806, 84)\n",
      "Sample 164 shape: (5909, 84)\n",
      "Sample 165 shape: (5248, 84)\n",
      "Sample 166 shape: (2380, 84)\n",
      "Sample 167 shape: (25576, 84)\n",
      "Sample 168 shape: (24467, 84)\n",
      "Sample 169 shape: (46040, 84)\n",
      "Sample 170 shape: (27645, 84)\n",
      "Sample 171 shape: (26741, 84)\n",
      "Sample 172 shape: (9593, 84)\n",
      "Sample 173 shape: (27821, 84)\n",
      "Sample 174 shape: (23745, 84)\n",
      "Sample 175 shape: (22919, 84)\n",
      "Sample 176 shape: (17637, 84)\n",
      "Sample 177 shape: (18196, 84)\n",
      "Sample 178 shape: (8520, 84)\n",
      "Sample 179 shape: (19849, 84)\n",
      "Sample 180 shape: (8282, 84)\n",
      "Sample 181 shape: (14336, 84)\n",
      "Sample 182 shape: (19079, 84)\n",
      "Sample 183 shape: (14467, 84)\n",
      "Sample 184 shape: (21263, 84)\n",
      "Sample 185 shape: (11897, 84)\n",
      "Sample 186 shape: (15404, 84)\n",
      "Sample 187 shape: (5941, 84)\n",
      "Sample 188 shape: (13126, 84)\n",
      "Sample 189 shape: (12791, 84)\n",
      "Sample 190 shape: (17329, 84)\n",
      "Sample 191 shape: (40533, 84)\n",
      "Sample 192 shape: (18719, 84)\n",
      "Sample 193 shape: (8841, 84)\n",
      "Sample 194 shape: (9844, 84)\n",
      "Sample 195 shape: (13722, 84)\n",
      "Sample 196 shape: (9326, 84)\n",
      "Sample 197 shape: (25035, 84)\n",
      "Sample 198 shape: (33069, 84)\n",
      "Sample 199 shape: (14396, 84)\n",
      "Sample 200 shape: (24142, 84)\n",
      "Sample 201 shape: (16530, 84)\n",
      "Sample 202 shape: (9168, 84)\n",
      "Sample 203 shape: (20400, 84)\n",
      "Sample 204 shape: (19366, 84)\n",
      "Sample 205 shape: (16887, 84)\n",
      "Sample 206 shape: (20388, 84)\n",
      "Sample 207 shape: (18845, 84)\n",
      "Sample 208 shape: (16502, 84)\n",
      "Sample 209 shape: (26833, 84)\n",
      "Sample 210 shape: (39228, 84)\n",
      "Sample 211 shape: (15425, 84)\n",
      "Sample 212 shape: (17189, 84)\n",
      "Sample 213 shape: (5943, 84)\n",
      "Sample 214 shape: (26359, 84)\n",
      "Sample 215 shape: (13501, 84)\n",
      "Sample 216 shape: (5559, 84)\n",
      "Sample 217 shape: (9818, 84)\n",
      "Sample 218 shape: (9804, 84)\n",
      "Sample 219 shape: (10194, 84)\n",
      "Sample 220 shape: (10403, 84)\n",
      "Sample 221 shape: (12822, 84)\n",
      "Sample 222 shape: (8733, 84)\n",
      "Sample 223 shape: (13794, 84)\n",
      "Sample 224 shape: (8350, 84)\n",
      "Sample 225 shape: (19875, 84)\n",
      "Sample 226 shape: (29474, 84)\n",
      "Sample 227 shape: (34234, 84)\n",
      "Sample 228 shape: (7539, 84)\n",
      "Sample 229 shape: (44580, 84)\n",
      "Sample 230 shape: (33190, 84)\n",
      "Sample 231 shape: (18168, 84)\n",
      "Sample 232 shape: (21079, 84)\n",
      "Sample 233 shape: (13340, 84)\n",
      "Sample 234 shape: (13168, 84)\n",
      "Sample 235 shape: (19533, 84)\n",
      "Sample 236 shape: (9277, 84)\n",
      "Sample 237 shape: (14440, 84)\n",
      "Sample 238 shape: (20433, 84)\n",
      "Sample 239 shape: (9512, 84)\n",
      "Sample 240 shape: (13749, 84)\n",
      "Sample 241 shape: (17039, 84)\n",
      "Sample 242 shape: (15266, 84)\n",
      "Sample 243 shape: (24464, 84)\n",
      "Sample 244 shape: (15825, 84)\n",
      "Sample 245 shape: (19301, 84)\n",
      "Sample 246 shape: (14630, 84)\n",
      "Sample 247 shape: (19005, 84)\n",
      "Sample 248 shape: (22360, 84)\n",
      "Sample 249 shape: (14259, 84)\n",
      "Sample 250 shape: (20703, 84)\n",
      "Sample 251 shape: (12794, 84)\n",
      "Sample 252 shape: (12670, 84)\n",
      "Sample 253 shape: (15814, 84)\n",
      "Sample 254 shape: (11531, 84)\n",
      "Sample 255 shape: (19830, 84)\n",
      "Sample 256 shape: (21075, 84)\n",
      "Sample 257 shape: (8095, 84)\n",
      "Sample 258 shape: (9381, 84)\n",
      "Sample 259 shape: (20860, 84)\n",
      "Sample 260 shape: (19471, 84)\n",
      "Sample 261 shape: (18240, 84)\n",
      "Sample 262 shape: (17483, 84)\n",
      "Sample 263 shape: (16707, 84)\n",
      "Sample 264 shape: (32385, 84)\n",
      "Sample 265 shape: (15675, 84)\n",
      "Sample 266 shape: (24058, 84)\n",
      "Sample 267 shape: (16629, 84)\n",
      "Sample 268 shape: (19972, 84)\n",
      "Sample 269 shape: (11866, 84)\n",
      "Sample 270 shape: (24206, 84)\n",
      "Sample 271 shape: (42727, 84)\n",
      "Sample 272 shape: (23619, 84)\n",
      "Sample 273 shape: (45994, 84)\n",
      "Sample 274 shape: (12358, 84)\n",
      "Sample 275 shape: (9138, 84)\n",
      "Sample 276 shape: (11350, 84)\n",
      "Sample 277 shape: (28037, 84)\n",
      "Sample 278 shape: (7765, 84)\n",
      "Sample 279 shape: (9635, 84)\n",
      "Sample 280 shape: (32828, 84)\n",
      "Sample 281 shape: (16342, 84)\n",
      "Sample 282 shape: (14239, 84)\n",
      "Sample 283 shape: (23856, 84)\n",
      "Sample 284 shape: (17454, 84)\n",
      "Sample 285 shape: (16674, 84)\n",
      "Sample 286 shape: (20590, 84)\n",
      "Sample 287 shape: (21836, 84)\n",
      "Sample 288 shape: (23258, 84)\n",
      "Sample 289 shape: (8659, 84)\n",
      "Sample 290 shape: (14648, 84)\n",
      "Sample 291 shape: (13088, 84)\n",
      "Sample 292 shape: (12047, 84)\n",
      "Sample 293 shape: (14890, 84)\n",
      "Sample 294 shape: (17161, 84)\n",
      "Sample 295 shape: (18493, 84)\n",
      "Sample 296 shape: (22519, 84)\n",
      "Sample 297 shape: (16828, 84)\n",
      "Sample 298 shape: (7730, 84)\n",
      "Sample 299 shape: (22089, 84)\n",
      "Sample 300 shape: (13753, 84)\n",
      "Sample 301 shape: (13252, 84)\n",
      "Sample 302 shape: (14032, 84)\n",
      "Sample 303 shape: (18013, 84)\n",
      "Sample 304 shape: (29027, 84)\n",
      "Sample 305 shape: (16819, 84)\n",
      "Sample 306 shape: (24258, 84)\n",
      "Sample 307 shape: (27355, 84)\n",
      "Sample 308 shape: (15684, 84)\n",
      "Sample 309 shape: (10272, 84)\n",
      "Sample 310 shape: (6886, 84)\n",
      "Sample 311 shape: (27937, 84)\n",
      "Sample 312 shape: (21846, 84)\n",
      "Sample 313 shape: (25580, 84)\n",
      "Sample 314 shape: (13912, 84)\n",
      "Sample 315 shape: (22307, 84)\n",
      "Sample 316 shape: (14725, 84)\n",
      "Sample 317 shape: (9777, 84)\n",
      "Sample 318 shape: (4666, 84)\n",
      "Sample 319 shape: (19176, 84)\n",
      "Sample 320 shape: (20344, 84)\n"
     ]
    }
   ],
   "source": [
    "for i, sample in enumerate(X_train):\n",
    "    print(f\"Sample {i + 1} shape: {sample.shape}\")"
   ],
   "metadata": {
    "collapsed": false,
    "ExecuteTime": {
     "end_time": "2023-11-27T21:47:42.119716500Z",
     "start_time": "2023-11-27T21:47:42.105716600Z"
    }
   },
   "id": "c9b66122db1135fc"
  },
  {
   "cell_type": "markdown",
   "source": [
    "#### Pad data to the same length"
   ],
   "metadata": {
    "collapsed": false
   },
   "id": "a79a035ae5cf7882"
  },
  {
   "cell_type": "code",
   "execution_count": 9,
   "outputs": [
    {
     "name": "stdout",
     "output_type": "stream",
     "text": [
      "Max length: 46040\n"
     ]
    }
   ],
   "source": [
    "max_length = max(find_max_length(X_train), find_max_length(X_test))\n",
    "print('Max length:', max_length)"
   ],
   "metadata": {
    "collapsed": false,
    "ExecuteTime": {
     "end_time": "2023-11-27T21:47:42.138717100Z",
     "start_time": "2023-11-27T21:47:42.120716200Z"
    }
   },
   "id": "8a82e1197b7b61ab"
  },
  {
   "cell_type": "code",
   "execution_count": 10,
   "outputs": [],
   "source": [
    "X_train_padded = pad_data(X_train, max_length)\n",
    "y_train_padded = pad_data(y_train, max_length)\n",
    "X_test_padded = pad_data(X_test, max_length)\n",
    "y_test_padded = pad_data(y_test, max_length)"
   ],
   "metadata": {
    "collapsed": false,
    "ExecuteTime": {
     "end_time": "2023-11-27T21:47:48.875754800Z",
     "start_time": "2023-11-27T21:47:42.134717Z"
    }
   },
   "id": "64f8ba7f315e5d4"
  },
  {
   "cell_type": "code",
   "execution_count": 11,
   "outputs": [
    {
     "name": "stdout",
     "output_type": "stream",
     "text": [
      "X_train_padded shape: (320, 46040, 84)\n",
      "y_train_padded shape: (320, 46040, 88)\n",
      "X_test_padded shape: (10, 46040, 84)\n",
      "y_test_padded shape: (10, 46040, 88)\n"
     ]
    }
   ],
   "source": [
    "print('X_train_padded shape:', X_train_padded.shape)\n",
    "print('y_train_padded shape:', y_train_padded.shape)\n",
    "print('X_test_padded shape:', X_test_padded.shape)\n",
    "print('y_test_padded shape:', y_test_padded.shape)\n"
   ],
   "metadata": {
    "collapsed": false,
    "ExecuteTime": {
     "end_time": "2023-11-27T21:47:48.890754700Z",
     "start_time": "2023-11-27T21:47:48.875754800Z"
    }
   },
   "id": "97ad85c54406fb1b"
  },
  {
   "cell_type": "markdown",
   "source": [
    "#### Reshape data"
   ],
   "metadata": {
    "collapsed": false
   },
   "id": "34348da46e7bba1"
  },
  {
   "cell_type": "code",
   "execution_count": 12,
   "outputs": [],
   "source": [
    "X_train = X_train_padded.reshape(-1, X_train_padded.shape[2])\n",
    "y_train = y_train_padded.reshape(-1, 88)\n",
    "X_test = X_test_padded.reshape(-1, X_test_padded.shape[2])\n",
    "y_test = y_test_padded.reshape(-1, 88)"
   ],
   "metadata": {
    "collapsed": false,
    "ExecuteTime": {
     "end_time": "2023-11-27T21:47:49.109757600Z",
     "start_time": "2023-11-27T21:47:48.890754700Z"
    }
   },
   "id": "da301527694b8456"
  },
  {
   "cell_type": "code",
   "execution_count": 13,
   "outputs": [
    {
     "name": "stdout",
     "output_type": "stream",
     "text": [
      "X_train shape: (14732800, 84)\n",
      "y_train shape: (14732800, 88)\n",
      "X_test shape: (460400, 84)\n",
      "y_test shape: (460400, 88)\n"
     ]
    }
   ],
   "source": [
    "print('X_train shape:', X_train.shape)\n",
    "print('y_train shape:', y_train.shape)\n",
    "print('X_test shape:', X_test.shape)\n",
    "print('y_test shape:', y_test.shape)"
   ],
   "metadata": {
    "collapsed": false,
    "ExecuteTime": {
     "end_time": "2023-11-27T21:47:49.124756700Z",
     "start_time": "2023-11-27T21:47:49.111755900Z"
    }
   },
   "id": "5c3e826209411c3b"
  },
  {
   "cell_type": "markdown",
   "source": [
    "#### Save preprocessed data"
   ],
   "metadata": {
    "collapsed": false
   },
   "id": "5df19bd1f322f6f7"
  },
  {
   "cell_type": "code",
   "execution_count": 14,
   "outputs": [
    {
     "name": "stdout",
     "output_type": "stream",
     "text": [
      "Starting to save preprocessed data...\n",
      "Data successfully saved to ../Data/processed/cqt/bins_12/train.h5\n",
      "Starting to save preprocessed data...\n",
      "Data successfully saved to ../Data/processed/cqt/bins_12/test.h5\n"
     ]
    }
   ],
   "source": [
    "save_preprocessed_data(X_train, y_train, '../Data/processed/cqt/bins_12/', 'train.h5')\n",
    "save_preprocessed_data(X_test, y_test, '../Data/processed/cqt/bins_12/', 'test.h5')"
   ],
   "metadata": {
    "collapsed": false,
    "ExecuteTime": {
     "end_time": "2023-11-27T21:47:55.039043800Z",
     "start_time": "2023-11-27T21:47:49.128756300Z"
    }
   },
   "id": "22982ce2678a86ae"
  },
  {
   "cell_type": "markdown",
   "source": [
    "### Create preprocessed dataset with frequency bins per octave = 24"
   ],
   "metadata": {
    "collapsed": false
   },
   "id": "313eb0be2126ef42"
  },
  {
   "cell_type": "code",
   "execution_count": 15,
   "outputs": [
    {
     "name": "stderr",
     "output_type": "stream",
     "text": [
      "Calculating CQT stats: 100%|██████████| 320/320 [02:51<00:00,  1.86it/s]\n",
      "Processing files in '../Data/raw/musicnet/train_data' and '../Data/raw/musicnet/train_labels': 100%|██████████| 320/320 [03:39<00:00,  1.46it/s]\n",
      "Calculating CQT stats: 100%|██████████| 10/10 [00:02<00:00,  4.35it/s]\n",
      "Processing files in '../Data/raw/musicnet/test_data' and '../Data/raw/musicnet/test_labels': 100%|██████████| 10/10 [00:02<00:00,  3.80it/s]\n"
     ]
    }
   ],
   "source": [
    "train_mean, train_std_dev = calculate_cqt_stats(train_data_dir, bins_per_octave=24, data_size=320)\n",
    "X_train, y_train = process_files_using_cqt(train_data_dir, train_labels_dir, generate_note_labels, mean=train_mean, std=train_std_dev, bins_per_octave=24, data_size=320)\n",
    "\n",
    "test_mean, test_std_dev = calculate_cqt_stats(test_data_dir, bins_per_octave=24, data_size=10)\n",
    "X_test, y_test = process_files_using_cqt(test_data_dir, test_labels_dir, generate_note_labels, mean=test_mean, std=test_std_dev, bins_per_octave=24, data_size=10)"
   ],
   "metadata": {
    "collapsed": false,
    "ExecuteTime": {
     "end_time": "2023-11-27T21:54:31.510892200Z",
     "start_time": "2023-11-27T21:47:55.039043800Z"
    }
   },
   "id": "e08921b75eef04f2"
  },
  {
   "cell_type": "markdown",
   "source": [
    "#### Pad data to the same length"
   ],
   "metadata": {
    "collapsed": false
   },
   "id": "eb333cd8e2bbe31c"
  },
  {
   "cell_type": "code",
   "execution_count": 16,
   "outputs": [
    {
     "name": "stdout",
     "output_type": "stream",
     "text": [
      "Number of training examples: 320\n",
      "Number of training labels: 320\n",
      "X_train[0] shape: (19254, 168)\n",
      "y_train[0] shape: (19254, 88)\n"
     ]
    }
   ],
   "source": [
    "print('Number of training examples:', len(X_train))\n",
    "print('Number of training labels:', len(y_train))\n",
    "print(f\"X_train[0] shape: {X_train[0].shape}\")\n",
    "print(f\"y_train[0] shape: {y_train[0].shape}\")"
   ],
   "metadata": {
    "collapsed": false,
    "ExecuteTime": {
     "end_time": "2023-11-27T21:54:31.530892500Z",
     "start_time": "2023-11-27T21:54:31.511891900Z"
    }
   },
   "id": "bbcf3b99d592585a"
  },
  {
   "cell_type": "code",
   "execution_count": 17,
   "outputs": [
    {
     "name": "stdout",
     "output_type": "stream",
     "text": [
      "Max length: 46040\n"
     ]
    }
   ],
   "source": [
    "max_length = max(find_max_length(X_train), find_max_length(X_test))\n",
    "print('Max length:', max_length)"
   ],
   "metadata": {
    "collapsed": false,
    "ExecuteTime": {
     "end_time": "2023-11-27T21:54:31.541891400Z",
     "start_time": "2023-11-27T21:54:31.526892100Z"
    }
   },
   "id": "c1f7ad466ca62bde"
  },
  {
   "cell_type": "code",
   "execution_count": 18,
   "outputs": [],
   "source": [
    "X_train_padded = pad_data(X_train, max_length)\n",
    "y_train_padded = pad_data(y_train, max_length)\n",
    "X_test_padded = pad_data(X_test, max_length)\n",
    "y_test_padded = pad_data(y_test, max_length)"
   ],
   "metadata": {
    "collapsed": false,
    "ExecuteTime": {
     "end_time": "2023-11-27T21:55:05.025218Z",
     "start_time": "2023-11-27T21:54:31.542891600Z"
    }
   },
   "id": "529371ed3750c0c"
  },
  {
   "cell_type": "code",
   "execution_count": 19,
   "outputs": [
    {
     "name": "stdout",
     "output_type": "stream",
     "text": [
      "X_train_padded shape: (320, 46040, 168)\n",
      "y_train_padded shape: (320, 46040, 88)\n",
      "X_test_padded shape: (10, 46040, 168)\n",
      "y_test_padded shape: (10, 46040, 88)\n"
     ]
    }
   ],
   "source": [
    "print('X_train_padded shape:', X_train_padded.shape)\n",
    "print('y_train_padded shape:', y_train_padded.shape)\n",
    "print('X_test_padded shape:', X_test_padded.shape)\n",
    "print('y_test_padded shape:', y_test_padded.shape)"
   ],
   "metadata": {
    "collapsed": false,
    "ExecuteTime": {
     "end_time": "2023-11-27T21:55:05.192218Z",
     "start_time": "2023-11-27T21:55:05.035217900Z"
    }
   },
   "id": "2e5cde6dc32183f9"
  },
  {
   "cell_type": "markdown",
   "source": [
    "#### Reshape data"
   ],
   "metadata": {
    "collapsed": false
   },
   "id": "f533a5b9451af8ee"
  },
  {
   "cell_type": "code",
   "execution_count": 20,
   "outputs": [],
   "source": [
    "X_train = X_train_padded.reshape(-1, X_train_padded.shape[2])\n",
    "y_train = y_train_padded.reshape(-1, 88)\n",
    "X_test = X_test_padded.reshape(-1, X_test_padded.shape[2])\n",
    "y_test = y_test_padded.reshape(-1, 88)"
   ],
   "metadata": {
    "collapsed": false,
    "ExecuteTime": {
     "end_time": "2023-11-27T21:55:05.383219300Z",
     "start_time": "2023-11-27T21:55:05.349219700Z"
    }
   },
   "id": "aa61b558d448a890"
  },
  {
   "cell_type": "code",
   "execution_count": 21,
   "outputs": [
    {
     "name": "stdout",
     "output_type": "stream",
     "text": [
      "X_train shape: (14732800, 168)\n",
      "y_train shape: (14732800, 88)\n",
      "X_test shape: (460400, 168)\n",
      "y_test shape: (460400, 88)\n"
     ]
    }
   ],
   "source": [
    "print('X_train shape:', X_train.shape)\n",
    "print('y_train shape:', y_train.shape)\n",
    "print('X_test shape:', X_test.shape)\n",
    "print('y_test shape:', y_test.shape)"
   ],
   "metadata": {
    "collapsed": false,
    "ExecuteTime": {
     "end_time": "2023-11-27T21:55:05.385219900Z",
     "start_time": "2023-11-27T21:55:05.355221500Z"
    }
   },
   "id": "7ae6cac10440ebce"
  },
  {
   "cell_type": "markdown",
   "source": [
    "#### Save preprocessed data"
   ],
   "metadata": {
    "collapsed": false
   },
   "id": "1458a83932bd42a4"
  },
  {
   "cell_type": "code",
   "execution_count": 22,
   "outputs": [
    {
     "name": "stdout",
     "output_type": "stream",
     "text": [
      "Starting to save preprocessed data...\n",
      "Data successfully saved to ../Data/processed/cqt/bins_24/train.h5\n",
      "Starting to save preprocessed data...\n",
      "Data successfully saved to ../Data/processed/cqt/bins_24/test.h5\n"
     ]
    }
   ],
   "source": [
    "save_preprocessed_data(X_train, y_train, '../Data/processed/cqt/bins_24/', 'train.h5')\n",
    "save_preprocessed_data(X_test, y_test, '../Data/processed/cqt/bins_24/', 'test.h5')"
   ],
   "metadata": {
    "collapsed": false,
    "ExecuteTime": {
     "end_time": "2023-11-27T21:55:13.526415500Z",
     "start_time": "2023-11-27T21:55:05.369219600Z"
    }
   },
   "id": "769649474f04e0e5"
  },
  {
   "cell_type": "markdown",
   "source": [
    "### Create preprocessed dataset with frequency bins per octave = 36"
   ],
   "metadata": {
    "collapsed": false
   },
   "id": "c2b50954ea36f48b"
  },
  {
   "cell_type": "code",
   "execution_count": 23,
   "outputs": [
    {
     "name": "stderr",
     "output_type": "stream",
     "text": [
      "Calculating CQT stats: 100%|██████████| 320/320 [04:58<00:00,  1.07it/s]\n",
      "Processing files in '../Data/raw/musicnet/train_data' and '../Data/raw/musicnet/train_labels': 100%|██████████| 320/320 [05:35<00:00,  1.05s/it]\n",
      "Calculating CQT stats: 100%|██████████| 10/10 [00:04<00:00,  2.40it/s]\n",
      "Processing files in '../Data/raw/musicnet/test_data' and '../Data/raw/musicnet/test_labels': 100%|██████████| 10/10 [00:04<00:00,  2.17it/s]\n"
     ]
    }
   ],
   "source": [
    "train_mean, train_std_dev = calculate_cqt_stats(train_data_dir, bins_per_octave=36, data_size=320)\n",
    "X_train, y_train = process_files_using_cqt(train_data_dir, train_labels_dir, generate_note_labels, mean=train_mean, std=train_std_dev, bins_per_octave=36, data_size=320)\n",
    "\n",
    "test_mean, test_std_dev = calculate_cqt_stats(test_data_dir, bins_per_octave=36, data_size=10)\n",
    "X_test, y_test = process_files_using_cqt(test_data_dir, test_labels_dir, generate_note_labels, mean=test_mean, std=test_std_dev, bins_per_octave=36, data_size=10)"
   ],
   "metadata": {
    "collapsed": false,
    "ExecuteTime": {
     "end_time": "2023-11-27T22:05:56.289059100Z",
     "start_time": "2023-11-27T21:55:13.533416100Z"
    }
   },
   "id": "842c51d114267aa4"
  },
  {
   "cell_type": "code",
   "execution_count": 24,
   "outputs": [
    {
     "name": "stdout",
     "output_type": "stream",
     "text": [
      "Number of training examples: 320\n",
      "Number of training labels: 320\n",
      "X_train[0] shape: (19254, 252)\n",
      "y_train[0] shape: (19254, 88)\n"
     ]
    }
   ],
   "source": [
    "print('Number of training examples:', len(X_train))\n",
    "print('Number of training labels:', len(y_train))\n",
    "print(f\"X_train[0] shape: {X_train[0].shape}\")\n",
    "print(f\"y_train[0] shape: {y_train[0].shape}\")"
   ],
   "metadata": {
    "collapsed": false,
    "ExecuteTime": {
     "end_time": "2023-11-27T22:05:56.313657600Z",
     "start_time": "2023-11-27T22:05:56.294196400Z"
    }
   },
   "id": "84435c9e999b5438"
  },
  {
   "cell_type": "markdown",
   "source": [
    "#### Pad data to the same length"
   ],
   "metadata": {
    "collapsed": false
   },
   "id": "38b6e1de8e18b975"
  },
  {
   "cell_type": "code",
   "execution_count": 25,
   "outputs": [
    {
     "name": "stdout",
     "output_type": "stream",
     "text": [
      "Max length: 46040\n"
     ]
    }
   ],
   "source": [
    "max_length = max(find_max_length(X_train), find_max_length(X_test))\n",
    "print('Max length:', max_length)"
   ],
   "metadata": {
    "collapsed": false,
    "ExecuteTime": {
     "end_time": "2023-11-27T22:05:56.317658300Z",
     "start_time": "2023-11-27T22:05:56.305658600Z"
    }
   },
   "id": "70879f10d0b5f97d"
  },
  {
   "cell_type": "code",
   "execution_count": 26,
   "outputs": [],
   "source": [
    "X_train_padded = pad_data(X_train, max_length)\n",
    "y_train_padded = pad_data(y_train, max_length)\n",
    "X_test_padded = pad_data(X_test, max_length)\n",
    "y_test_padded = pad_data(y_test, max_length)"
   ],
   "metadata": {
    "collapsed": false,
    "ExecuteTime": {
     "end_time": "2023-11-27T22:07:16.132384Z",
     "start_time": "2023-11-27T22:05:56.319657600Z"
    }
   },
   "id": "71b1aefbd48e5cfd"
  },
  {
   "cell_type": "code",
   "execution_count": 27,
   "outputs": [
    {
     "name": "stdout",
     "output_type": "stream",
     "text": [
      "X_train_padded shape: (320, 46040, 252)\n",
      "y_train_padded shape: (320, 46040, 88)\n",
      "X_test_padded shape: (10, 46040, 252)\n",
      "y_test_padded shape: (10, 46040, 88)\n"
     ]
    }
   ],
   "source": [
    "print('X_train_padded shape:', X_train_padded.shape)\n",
    "print('y_train_padded shape:', y_train_padded.shape)\n",
    "print('X_test_padded shape:', X_test_padded.shape)\n",
    "print('y_test_padded shape:', y_test_padded.shape)"
   ],
   "metadata": {
    "collapsed": false,
    "ExecuteTime": {
     "end_time": "2023-11-27T22:07:16.156385600Z",
     "start_time": "2023-11-27T22:07:16.130383300Z"
    }
   },
   "id": "becec133ef1ecc50"
  },
  {
   "cell_type": "markdown",
   "source": [
    "#### Reshape data"
   ],
   "metadata": {
    "collapsed": false
   },
   "id": "41d6fe1b4f06d118"
  },
  {
   "cell_type": "code",
   "execution_count": 28,
   "outputs": [],
   "source": [
    "X_train = X_train_padded.reshape(-1, X_train_padded.shape[2])\n",
    "y_train = y_train_padded.reshape(-1, 88)\n",
    "X_test = X_test_padded.reshape(-1, X_test_padded.shape[2])\n",
    "y_test = y_test_padded.reshape(-1, 88)"
   ],
   "metadata": {
    "collapsed": false,
    "ExecuteTime": {
     "end_time": "2023-11-27T22:07:16.433384900Z",
     "start_time": "2023-11-27T22:07:16.145383700Z"
    }
   },
   "id": "aa08a167869dad8f"
  },
  {
   "cell_type": "code",
   "execution_count": 29,
   "outputs": [
    {
     "name": "stdout",
     "output_type": "stream",
     "text": [
      "X_train shape: (14732800, 252)\n",
      "y_train shape: (14732800, 88)\n",
      "X_test shape: (460400, 252)\n",
      "y_test shape: (460400, 88)\n"
     ]
    }
   ],
   "source": [
    "print('X_train shape:', X_train.shape)\n",
    "print('y_train shape:', y_train.shape)\n",
    "print('X_test shape:', X_test.shape)\n",
    "print('y_test shape:', y_test.shape)"
   ],
   "metadata": {
    "collapsed": false,
    "ExecuteTime": {
     "end_time": "2023-11-27T22:07:16.450385700Z",
     "start_time": "2023-11-27T22:07:16.436386700Z"
    }
   },
   "id": "fd11c741c98a18a4"
  },
  {
   "cell_type": "markdown",
   "source": [
    "#### Save preprocessed data"
   ],
   "metadata": {
    "collapsed": false
   },
   "id": "4b600db5a073740"
  },
  {
   "cell_type": "code",
   "execution_count": 30,
   "outputs": [
    {
     "name": "stdout",
     "output_type": "stream",
     "text": [
      "Starting to save preprocessed data...\n",
      "Data successfully saved to ../Data/processed/cqt/bins_36/train.h5\n",
      "Starting to save preprocessed data...\n",
      "Data successfully saved to ../Data/processed/cqt/bins_36/test.h5\n"
     ]
    }
   ],
   "source": [
    "save_preprocessed_data(X_train, y_train, '../Data/processed/cqt/bins_36/', 'train.h5')\n",
    "save_preprocessed_data(X_test, y_test, '../Data/processed/cqt/bins_36/', 'test.h5')"
   ],
   "metadata": {
    "collapsed": false,
    "ExecuteTime": {
     "end_time": "2023-11-27T22:07:44.434238700Z",
     "start_time": "2023-11-27T22:07:16.451386900Z"
    }
   },
   "id": "3ece666b37363f7a"
  }
 ],
 "metadata": {
  "kernelspec": {
   "display_name": "Python 3",
   "language": "python",
   "name": "python3"
  },
  "language_info": {
   "codemirror_mode": {
    "name": "ipython",
    "version": 2
   },
   "file_extension": ".py",
   "mimetype": "text/x-python",
   "name": "python",
   "nbconvert_exporter": "python",
   "pygments_lexer": "ipython2",
   "version": "2.7.6"
  }
 },
 "nbformat": 4,
 "nbformat_minor": 5
}
