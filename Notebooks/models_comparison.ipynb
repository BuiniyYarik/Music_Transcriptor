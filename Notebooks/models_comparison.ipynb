{
 "cells": [
  {
   "cell_type": "markdown",
   "source": [
    "## Comparison of different model architectures on the obtained best dataset"
   ],
   "metadata": {
    "collapsed": false
   },
   "id": "68b5065cabd66926"
  },
  {
   "cell_type": "code",
   "execution_count": 1,
   "outputs": [],
   "source": [
    "from torch.utils.data import DataLoader\n",
    "import torch"
   ],
   "metadata": {
    "collapsed": false,
    "ExecuteTime": {
     "end_time": "2023-11-28T11:37:58.551267200Z",
     "start_time": "2023-11-28T11:37:56.981267400Z"
    }
   },
   "id": "db84ed2f15a1029"
  },
  {
   "cell_type": "code",
   "execution_count": 2,
   "outputs": [],
   "source": [
    "from src.data.make_dataset import AudioDataset"
   ],
   "metadata": {
    "collapsed": false,
    "ExecuteTime": {
     "end_time": "2023-11-28T11:37:58.940267900Z",
     "start_time": "2023-11-28T11:37:58.546267800Z"
    }
   },
   "id": "40c30dca6d08e786"
  },
  {
   "cell_type": "code",
   "execution_count": 4,
   "outputs": [],
   "source": [
    "from src.models.second_cnn_lstm import Second_CNN_LSTM\n",
    "from src.models.third_cnn_lstm import Third_CNN_LSTM\n",
    "from src.models.train import train_model\n",
    "from src.models.evaluate import evaluate_model"
   ],
   "metadata": {
    "collapsed": false,
    "ExecuteTime": {
     "end_time": "2023-11-28T11:37:59.672267600Z",
     "start_time": "2023-11-28T11:37:59.176267700Z"
    }
   },
   "id": "2ee771a6b06a1dc8"
  },
  {
   "cell_type": "code",
   "execution_count": 5,
   "outputs": [
    {
     "name": "stdout",
     "output_type": "stream",
     "text": [
      "Device: cuda\n"
     ]
    }
   ],
   "source": [
    "# Check if CUDA is available\n",
    "device = torch.device(\"cuda\" if torch.cuda.is_available() else \"cpu\")\n",
    "print('Device:', device)"
   ],
   "metadata": {
    "collapsed": false,
    "ExecuteTime": {
     "end_time": "2023-11-28T11:37:59.715267800Z",
     "start_time": "2023-11-28T11:37:59.673267600Z"
    }
   },
   "id": "79d2b1a315b92717"
  },
  {
   "cell_type": "markdown",
   "source": [
    "### Load the best dataset"
   ],
   "metadata": {
    "collapsed": false
   },
   "id": "99a3cfdf47341a5a"
  },
  {
   "cell_type": "code",
   "execution_count": 6,
   "outputs": [],
   "source": [
    "train_dataset = AudioDataset('../Data/processed/cqt/bins_24/', 'train.h5')\n",
    "\n",
    "test_dataset = AudioDataset('../Data/processed/cqt/bins_24/', 'test.h5')\n",
    "test_loader = DataLoader(test_dataset, batch_size=512, shuffle=False, num_workers=16)"
   ],
   "metadata": {
    "collapsed": false,
    "ExecuteTime": {
     "end_time": "2023-11-28T11:37:59.722268200Z",
     "start_time": "2023-11-28T11:37:59.703268Z"
    }
   },
   "id": "fb815428a924630d"
  },
  {
   "cell_type": "markdown",
   "source": [
    "### Model 1: First Topology Model with CNN and LSTM"
   ],
   "metadata": {
    "collapsed": false
   },
   "id": "ae478e6e65add35b"
  },
  {
   "cell_type": "markdown",
   "source": [
    "The results for the first model are obtained from the notebook with datasets comparison:\n",
    "1) Test Accuracy: 0.9035556038227628\n",
    "2) Test Recall: 0.5417140487243636\n",
    "3) Test Precision: 0.7513831136037811\n",
    "4) Test F1: 0.6252571215278818"
   ],
   "metadata": {
    "collapsed": false
   },
   "id": "5487e48437f84fb2"
  },
  {
   "cell_type": "markdown",
   "source": [
    "### Model 2: Second Topology Model with CNN and LSTM"
   ],
   "metadata": {
    "collapsed": false
   },
   "id": "4db763b44ea1a46e"
  },
  {
   "cell_type": "code",
   "execution_count": 12,
   "outputs": [],
   "source": [
    "model = Second_CNN_LSTM().to(device)"
   ],
   "metadata": {
    "collapsed": false,
    "ExecuteTime": {
     "end_time": "2023-11-28T13:20:33.862840500Z",
     "start_time": "2023-11-28T13:20:33.786840800Z"
    }
   },
   "id": "8f9d6d07d2e9231e"
  },
  {
   "cell_type": "code",
   "execution_count": 13,
   "outputs": [
    {
     "name": "stderr",
     "output_type": "stream",
     "text": [
      "Epoch 1/3 - Training, Loss: 0.020: 100%|██████████| 23020/23020 [20:53<00:00, 18.36it/s]\n",
      "Epoch 1/3 - Validation, Loss: 0.015: 100%|██████████| 5755/5755 [03:48<00:00, 25.15it/s]\n"
     ]
    },
    {
     "name": "stdout",
     "output_type": "stream",
     "text": [
      "Epoch [1/3] - Train Loss: 0.020, Validation Loss: 0.015\n",
      "Saved best model state to ../Models/second_topology_note_transcription/cqt_bins_24/best_model_state.pth\n",
      "Saved latest model checkpoint to ../Models/second_topology_note_transcription/cqt_bins_24/latest_model_checkpoint.pth\n"
     ]
    },
    {
     "name": "stderr",
     "output_type": "stream",
     "text": [
      "Epoch 2/3 - Training, Loss: 0.016: 100%|██████████| 23020/23020 [20:48<00:00, 18.44it/s]\n",
      "Epoch 2/3 - Validation, Loss: 0.013: 100%|██████████| 5755/5755 [03:56<00:00, 24.32it/s]\n"
     ]
    },
    {
     "name": "stdout",
     "output_type": "stream",
     "text": [
      "Epoch [2/3] - Train Loss: 0.016, Validation Loss: 0.013\n",
      "Saved best model state to ../Models/second_topology_note_transcription/cqt_bins_24/best_model_state.pth\n",
      "Saved latest model checkpoint to ../Models/second_topology_note_transcription/cqt_bins_24/latest_model_checkpoint.pth\n"
     ]
    },
    {
     "name": "stderr",
     "output_type": "stream",
     "text": [
      "Epoch 3/3 - Training, Loss: 0.015: 100%|██████████| 23020/23020 [20:56<00:00, 18.32it/s]\n",
      "Epoch 3/3 - Validation, Loss: 0.012: 100%|██████████| 5755/5755 [04:12<00:00, 22.75it/s]"
     ]
    },
    {
     "name": "stdout",
     "output_type": "stream",
     "text": [
      "Epoch [3/3] - Train Loss: 0.015, Validation Loss: 0.012\n",
      "Saved best model state to ../Models/second_topology_note_transcription/cqt_bins_24/best_model_state.pth\n",
      "Saved latest model checkpoint to ../Models/second_topology_note_transcription/cqt_bins_24/latest_model_checkpoint.pth\n",
      "Finished Training\n"
     ]
    },
    {
     "name": "stderr",
     "output_type": "stream",
     "text": [
      "\n"
     ]
    }
   ],
   "source": [
    "train_model(model=model, dataset=train_dataset, device=device, val_ratio=0.2,\n",
    "            num_epochs=3, batch_size=512, learning_rate=0.001,\n",
    "            save_dir='../Models/second_topology_note_transcription/cqt_bins_24/')"
   ],
   "metadata": {
    "collapsed": false,
    "ExecuteTime": {
     "end_time": "2023-11-28T14:35:29.443152500Z",
     "start_time": "2023-11-28T13:20:51.895300Z"
    }
   },
   "id": "b46f0a5383dbedb7"
  },
  {
   "cell_type": "code",
   "execution_count": 14,
   "outputs": [
    {
     "name": "stdout",
     "output_type": "stream",
     "text": [
      "Test Accuracy: 0.9059991311902693\n",
      "Test Recall: 0.5238471109208397\n",
      "Test Precision: 0.7816923318486703\n",
      "Test F1: 0.6233683963035466\n"
     ]
    }
   ],
   "source": [
    "second_metrics = evaluate_model(model=model, val_loader=test_loader, device=device, return_metrics=True)"
   ],
   "metadata": {
    "collapsed": false,
    "ExecuteTime": {
     "end_time": "2023-11-28T14:36:09.320956200Z",
     "start_time": "2023-11-28T14:35:29.433638200Z"
    }
   },
   "id": "9ab0848093126b0c"
  },
  {
   "cell_type": "markdown",
   "source": [
    "### Model 3: Third Topology Model with CNN and LSTM"
   ],
   "metadata": {
    "collapsed": false
   },
   "id": "97157482b4ae351d"
  },
  {
   "cell_type": "code",
   "execution_count": 9,
   "outputs": [],
   "source": [
    "model = Third_CNN_LSTM().to(device)"
   ],
   "metadata": {
    "collapsed": false,
    "ExecuteTime": {
     "end_time": "2023-11-28T11:52:02.245781100Z",
     "start_time": "2023-11-28T11:52:02.169636600Z"
    }
   },
   "id": "9bcc8f7f21bd856e"
  },
  {
   "cell_type": "code",
   "execution_count": 10,
   "outputs": [
    {
     "name": "stderr",
     "output_type": "stream",
     "text": [
      "Epoch 1/3 - Training, Loss: 0.019: 100%|██████████| 23020/23020 [19:26<00:00, 19.74it/s]\n",
      "Epoch 1/3 - Validation, Loss: 0.013: 100%|██████████| 5755/5755 [03:41<00:00, 25.95it/s]\n"
     ]
    },
    {
     "name": "stdout",
     "output_type": "stream",
     "text": [
      "Epoch [1/3] - Train Loss: 0.019, Validation Loss: 0.013\n",
      "Saved best model state to ../Models/third_topology_note_transcription/cqt/bins_24/best_model_state.pth\n",
      "Saved latest model checkpoint to ../Models/third_topology_note_transcription/cqt/bins_24/latest_model_checkpoint.pth\n"
     ]
    },
    {
     "name": "stderr",
     "output_type": "stream",
     "text": [
      "Epoch 2/3 - Training, Loss: 0.014: 100%|██████████| 23020/23020 [21:37<00:00, 17.74it/s]\n",
      "Epoch 2/3 - Validation, Loss: 0.011: 100%|██████████| 5755/5755 [03:42<00:00, 25.88it/s]\n"
     ]
    },
    {
     "name": "stdout",
     "output_type": "stream",
     "text": [
      "Epoch [2/3] - Train Loss: 0.014, Validation Loss: 0.011\n",
      "Saved best model state to ../Models/third_topology_note_transcription/cqt/bins_24/best_model_state.pth\n",
      "Saved latest model checkpoint to ../Models/third_topology_note_transcription/cqt/bins_24/latest_model_checkpoint.pth\n"
     ]
    },
    {
     "name": "stderr",
     "output_type": "stream",
     "text": [
      "Epoch 3/3 - Training, Loss: 0.012: 100%|██████████| 23020/23020 [20:40<00:00, 18.56it/s]\n",
      "Epoch 3/3 - Validation, Loss: 0.009: 100%|██████████| 5755/5755 [03:48<00:00, 25.15it/s]\n"
     ]
    },
    {
     "name": "stdout",
     "output_type": "stream",
     "text": [
      "Epoch [3/3] - Train Loss: 0.012, Validation Loss: 0.009\n",
      "Saved best model state to ../Models/third_topology_note_transcription/cqt/bins_24/best_model_state.pth\n",
      "Saved latest model checkpoint to ../Models/third_topology_note_transcription/cqt/bins_24/latest_model_checkpoint.pth\n",
      "Finished Training\n"
     ]
    }
   ],
   "source": [
    "train_model(model=model, dataset=train_dataset, device=device, val_ratio=0.2,\n",
    "            num_epochs=3, batch_size=512, learning_rate=0.001,\n",
    "            save_dir='../Models/third_topology_note_transcription/cqt/bins_24/')"
   ],
   "metadata": {
    "collapsed": false,
    "ExecuteTime": {
     "end_time": "2023-11-28T13:05:03.745102Z",
     "start_time": "2023-11-28T11:52:05.566845900Z"
    }
   },
   "id": "29af47704d0ab74b"
  },
  {
   "cell_type": "code",
   "execution_count": 11,
   "outputs": [
    {
     "name": "stdout",
     "output_type": "stream",
     "text": [
      "Test Accuracy: 0.9053258036490008\n",
      "Test Recall: 0.5631530362422572\n",
      "Test Precision: 0.7455643150316598\n",
      "Test F1: 0.637003774630119\n"
     ]
    }
   ],
   "source": [
    "third_metrics = evaluate_model(model=model, val_loader=test_loader, device=device, return_metrics=True)"
   ],
   "metadata": {
    "collapsed": false,
    "ExecuteTime": {
     "end_time": "2023-11-28T13:05:42.322514Z",
     "start_time": "2023-11-28T13:05:03.752101900Z"
    }
   },
   "id": "bd861fab2d93e86b"
  },
  {
   "cell_type": "code",
   "execution_count": null,
   "outputs": [],
   "source": [],
   "metadata": {
    "collapsed": false
   },
   "id": "d078f293d69f0290"
  }
 ],
 "metadata": {
  "kernelspec": {
   "display_name": "Python 3",
   "language": "python",
   "name": "python3"
  },
  "language_info": {
   "codemirror_mode": {
    "name": "ipython",
    "version": 2
   },
   "file_extension": ".py",
   "mimetype": "text/x-python",
   "name": "python",
   "nbconvert_exporter": "python",
   "pygments_lexer": "ipython2",
   "version": "2.7.6"
  }
 },
 "nbformat": 4,
 "nbformat_minor": 5
}
