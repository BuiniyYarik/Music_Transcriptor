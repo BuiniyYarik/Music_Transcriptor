{
 "cells": [
  {
   "cell_type": "markdown",
   "source": [
    "## Comparison of different datasets using custom model architecture"
   ],
   "metadata": {
    "collapsed": false
   },
   "id": "9e0c0e44ac9b0f33"
  },
  {
   "cell_type": "code",
   "execution_count": 1,
   "outputs": [],
   "source": [
    "from torch.utils.data import DataLoader\n",
    "import torch"
   ],
   "metadata": {
    "collapsed": false,
    "ExecuteTime": {
     "end_time": "2023-11-28T08:15:15.626144800Z",
     "start_time": "2023-11-28T08:15:14.366122400Z"
    }
   },
   "id": "1864462a0214adb6"
  },
  {
   "cell_type": "code",
   "execution_count": 2,
   "outputs": [],
   "source": [
    "from src.data.make_dataset import AudioDataset"
   ],
   "metadata": {
    "collapsed": false,
    "ExecuteTime": {
     "end_time": "2023-11-28T08:15:15.881226900Z",
     "start_time": "2023-11-28T08:15:15.628146800Z"
    }
   },
   "id": "be4d32ce6c71aaa6"
  },
  {
   "cell_type": "code",
   "execution_count": 3,
   "outputs": [],
   "source": [
    "from src.models.first_cnn_lstm import First_CNN_LSTM\n",
    "from src.models.train import train_model\n",
    "from src.models.evaluate import evaluate_model"
   ],
   "metadata": {
    "collapsed": false,
    "ExecuteTime": {
     "end_time": "2023-11-28T08:15:16.240231600Z",
     "start_time": "2023-11-28T08:15:15.881226900Z"
    }
   },
   "id": "234e1aba0b2ef3a5"
  },
  {
   "cell_type": "code",
   "execution_count": 4,
   "outputs": [
    {
     "name": "stdout",
     "output_type": "stream",
     "text": [
      "Device: cuda\n"
     ]
    }
   ],
   "source": [
    "# Check if CUDA is available\n",
    "device = torch.device(\"cuda\" if torch.cuda.is_available() else \"cpu\")\n",
    "print('Device:', device)"
   ],
   "metadata": {
    "collapsed": false,
    "ExecuteTime": {
     "end_time": "2023-11-28T08:15:16.277325600Z",
     "start_time": "2023-11-28T08:15:16.241232100Z"
    }
   },
   "id": "dcdd9bc587cecb27"
  },
  {
   "cell_type": "markdown",
   "source": [
    "#### Experiment 1: CQT dataset with frequency bins = 12"
   ],
   "metadata": {
    "collapsed": false
   },
   "id": "1233d5042923dba3"
  },
  {
   "cell_type": "code",
   "execution_count": 5,
   "outputs": [],
   "source": [
    "train_dataset = AudioDataset('../Data/processed/cqt/bins_12/', 'train.h5')\n",
    "\n",
    "test_dataset = AudioDataset('../Data/processed/cqt/bins_12/', 'test.h5')\n",
    "test_loader = DataLoader(test_dataset, batch_size=512, shuffle=False, num_workers=16)\n"
   ],
   "metadata": {
    "collapsed": false,
    "ExecuteTime": {
     "end_time": "2023-11-27T22:44:39.787577600Z",
     "start_time": "2023-11-27T22:44:39.773577700Z"
    }
   },
   "id": "27c85ab8c054ba60"
  },
  {
   "cell_type": "code",
   "execution_count": 6,
   "outputs": [],
   "source": [
    "model = First_CNN_LSTM().to(device)"
   ],
   "metadata": {
    "collapsed": false,
    "ExecuteTime": {
     "end_time": "2023-11-27T22:44:39.912579Z",
     "start_time": "2023-11-27T22:44:39.788578200Z"
    }
   },
   "id": "8920fd51f399961e"
  },
  {
   "cell_type": "code",
   "execution_count": 7,
   "outputs": [
    {
     "name": "stderr",
     "output_type": "stream",
     "text": [
      "Epoch 1/2 - Training, Loss: 0.023: 100%|██████████| 23020/23020 [13:52<00:00, 27.66it/s]\n",
      "Epoch 1/2 - Validation, Loss: 0.017: 100%|██████████| 5755/5755 [03:35<00:00, 26.70it/s]\n"
     ]
    },
    {
     "name": "stdout",
     "output_type": "stream",
     "text": [
      "Epoch [1/2] - Train Loss: 0.023, Validation Loss: 0.017\n",
      "Saved best model state to ../Models/custom_note_transcription/cqt/bins_12/best_model_state.pth\n",
      "Saved latest model checkpoint to ../Models/custom_note_transcription/cqt/bins_12/latest_model_checkpoint.pth\n"
     ]
    },
    {
     "name": "stderr",
     "output_type": "stream",
     "text": [
      "Epoch 2/2 - Training, Loss: 0.016: 100%|██████████| 23020/23020 [13:09<00:00, 29.16it/s]\n",
      "Epoch 2/2 - Validation, Loss: 0.015: 100%|██████████| 5755/5755 [03:33<00:00, 26.89it/s]"
     ]
    },
    {
     "name": "stdout",
     "output_type": "stream",
     "text": [
      "Epoch [2/2] - Train Loss: 0.016, Validation Loss: 0.015\n",
      "Saved best model state to ../Models/custom_note_transcription/cqt/bins_12/best_model_state.pth\n",
      "Saved latest model checkpoint to ../Models/custom_note_transcription/cqt/bins_12/latest_model_checkpoint.pth\n",
      "Finished Training\n"
     ]
    },
    {
     "name": "stderr",
     "output_type": "stream",
     "text": [
      "\n"
     ]
    }
   ],
   "source": [
    "train_model(model=model, dataset=train_dataset, device=device, val_ratio=0.2, \n",
    "                   num_epochs=2, batch_size=512, learning_rate=0.001,\n",
    "                   save_dir='../Models/custom_note_transcription/cqt/bins_12/')"
   ],
   "metadata": {
    "collapsed": false,
    "ExecuteTime": {
     "end_time": "2023-11-27T23:18:55.547395100Z",
     "start_time": "2023-11-27T22:44:42.910673400Z"
    }
   },
   "id": "36c562b918d4af4e"
  },
  {
   "cell_type": "code",
   "execution_count": 8,
   "outputs": [
    {
     "name": "stdout",
     "output_type": "stream",
     "text": [
      "Test Accuracy: 0.9008861859252824\n",
      "Test Recall: 0.5073715333056845\n",
      "Test Precision: 0.7554029486851561\n",
      "Test F1: 0.6035058273273617\n"
     ]
    }
   ],
   "source": [
    "cqt_bins_12_metrics = evaluate_model(model=model, val_loader=test_loader, device=device, return_metrics=True)"
   ],
   "metadata": {
    "collapsed": false,
    "ExecuteTime": {
     "end_time": "2023-11-27T23:19:44.422428200Z",
     "start_time": "2023-11-27T23:18:55.555394300Z"
    }
   },
   "id": "6d0195d08af23091"
  },
  {
   "cell_type": "markdown",
   "source": [
    "#### Experiment 2: CQT dataset with frequency bins = 24"
   ],
   "metadata": {
    "collapsed": false
   },
   "id": "fb03502880fad31d"
  },
  {
   "cell_type": "code",
   "execution_count": 5,
   "outputs": [],
   "source": [
    "train_dataset = AudioDataset('../Data/processed/cqt/bins_24/', 'train.h5')\n",
    "\n",
    "test_dataset = AudioDataset('../Data/processed/cqt/bins_24/', 'test.h5')\n",
    "test_loader = DataLoader(test_dataset, batch_size=512, shuffle=False, num_workers=16)"
   ],
   "metadata": {
    "collapsed": false,
    "ExecuteTime": {
     "end_time": "2023-11-27T23:33:59.520700300Z",
     "start_time": "2023-11-27T23:33:59.487700900Z"
    }
   },
   "id": "a06765b8b3a14cb0"
  },
  {
   "cell_type": "code",
   "execution_count": 6,
   "outputs": [],
   "source": [
    "model = First_CNN_LSTM().to(device)"
   ],
   "metadata": {
    "collapsed": false,
    "ExecuteTime": {
     "end_time": "2023-11-27T23:34:00.135728900Z",
     "start_time": "2023-11-27T23:33:59.995728600Z"
    }
   },
   "id": "90d89d61840a442c"
  },
  {
   "cell_type": "code",
   "execution_count": 7,
   "outputs": [
    {
     "name": "stderr",
     "output_type": "stream",
     "text": [
      "Epoch 1/2 - Training, Loss: 0.021: 100%|██████████| 23020/23020 [30:07<00:00, 12.73it/s]\n",
      "Epoch 1/2 - Validation, Loss: 0.015: 100%|██████████| 5755/5755 [03:57<00:00, 24.24it/s]\n"
     ]
    },
    {
     "name": "stdout",
     "output_type": "stream",
     "text": [
      "Epoch [1/2] - Train Loss: 0.021, Validation Loss: 0.015\n",
      "Saved best model state to ../Models/custom_note_transcription/cqt/bins_24/best_model_state.pth\n",
      "Saved latest model checkpoint to ../Models/custom_note_transcription/cqt/bins_24/latest_model_checkpoint.pth\n"
     ]
    },
    {
     "name": "stderr",
     "output_type": "stream",
     "text": [
      "Epoch 2/2 - Training, Loss: 0.014: 100%|██████████| 23020/23020 [29:35<00:00, 12.96it/s] \n",
      "Epoch 2/2 - Validation, Loss: 0.012: 100%|██████████| 5755/5755 [04:03<00:00, 23.64it/s]\n"
     ]
    },
    {
     "name": "stdout",
     "output_type": "stream",
     "text": [
      "Epoch [2/2] - Train Loss: 0.014, Validation Loss: 0.012\n",
      "Saved best model state to ../Models/custom_note_transcription/cqt/bins_24/best_model_state.pth\n",
      "Saved latest model checkpoint to ../Models/custom_note_transcription/cqt/bins_24/latest_model_checkpoint.pth\n",
      "Finished Training\n"
     ]
    }
   ],
   "source": [
    "train_model(model=model, dataset=train_dataset, device=device, val_ratio=0.2, \n",
    "                   num_epochs=2, batch_size=512, learning_rate=0.001,\n",
    "                   save_dir='../Models/custom_note_transcription/cqt/bins_24/')"
   ],
   "metadata": {
    "collapsed": false,
    "ExecuteTime": {
     "end_time": "2023-11-28T00:41:46.770969100Z",
     "start_time": "2023-11-27T23:34:00.781760900Z"
    }
   },
   "id": "fadce511a17be726"
  },
  {
   "cell_type": "code",
   "execution_count": 8,
   "outputs": [
    {
     "name": "stdout",
     "output_type": "stream",
     "text": [
      "Test Accuracy: 0.9035556038227628\n",
      "Test Recall: 0.5417140487243636\n",
      "Test Precision: 0.7513831136037811\n",
      "Test F1: 0.6252571215278818\n"
     ]
    }
   ],
   "source": [
    "cqt_bins_24_metrics = evaluate_model(model=model, val_loader=test_loader, device=device, return_metrics=True)"
   ],
   "metadata": {
    "collapsed": false,
    "ExecuteTime": {
     "end_time": "2023-11-28T00:42:39.396790400Z",
     "start_time": "2023-11-28T00:41:46.780969400Z"
    }
   },
   "id": "ee7a86a0f9c66c69"
  },
  {
   "cell_type": "markdown",
   "source": [
    "#### Experiment 3: CQT dataset with frequency bins = 36"
   ],
   "metadata": {
    "collapsed": false
   },
   "id": "623f33823f07080"
  },
  {
   "cell_type": "code",
   "execution_count": 5,
   "outputs": [],
   "source": [
    "train_dataset = AudioDataset('../Data/processed/cqt/bins_36/', 'train.h5')\n",
    "\n",
    "test_dataset = AudioDataset('../Data/processed/cqt/bins_36/', 'test.h5')\n",
    "test_loader = DataLoader(test_dataset, batch_size=512, shuffle=False, num_workers=16)"
   ],
   "metadata": {
    "collapsed": false,
    "ExecuteTime": {
     "end_time": "2023-11-28T08:15:20.461617900Z",
     "start_time": "2023-11-28T08:15:20.441617700Z"
    }
   },
   "id": "765ab363ef39b439"
  },
  {
   "cell_type": "code",
   "execution_count": 6,
   "outputs": [],
   "source": [
    "model = First_CNN_LSTM().to(device)"
   ],
   "metadata": {
    "collapsed": false,
    "ExecuteTime": {
     "end_time": "2023-11-28T08:15:21.251164600Z",
     "start_time": "2023-11-28T08:15:21.108161800Z"
    }
   },
   "id": "41d8aecc176c0d72"
  },
  {
   "cell_type": "code",
   "execution_count": 7,
   "outputs": [
    {
     "name": "stderr",
     "output_type": "stream",
     "text": [
      "Epoch 1/2 - Training, Loss: 0.019: 100%|██████████| 23020/23020 [20:24<00:00, 18.80it/s]\n",
      "Epoch 1/2 - Validation, Loss: 0.014: 100%|██████████| 5755/5755 [04:35<00:00, 20.87it/s]\n"
     ]
    },
    {
     "name": "stdout",
     "output_type": "stream",
     "text": [
      "Epoch [1/2] - Train Loss: 0.019, Validation Loss: 0.014\n",
      "Saved best model state to ../Models/custom_note_transcription/cqt/bins_36/best_model_state.pth\n",
      "Saved latest model checkpoint to ../Models/custom_note_transcription/cqt/bins_36/latest_model_checkpoint.pth\n"
     ]
    },
    {
     "name": "stderr",
     "output_type": "stream",
     "text": [
      "Epoch 2/2 - Training, Loss: 0.012: 100%|██████████| 23020/23020 [20:18<00:00, 18.89it/s]\n",
      "Epoch 2/2 - Validation, Loss: 0.011: 100%|██████████| 5755/5755 [04:30<00:00, 21.31it/s]\n"
     ]
    },
    {
     "name": "stdout",
     "output_type": "stream",
     "text": [
      "Epoch [2/2] - Train Loss: 0.012, Validation Loss: 0.011\n",
      "Saved best model state to ../Models/custom_note_transcription/cqt/bins_36/best_model_state.pth\n",
      "Saved latest model checkpoint to ../Models/custom_note_transcription/cqt/bins_36/latest_model_checkpoint.pth\n",
      "Finished Training\n"
     ]
    }
   ],
   "source": [
    "train_model(model=model, dataset=train_dataset, device=device, val_ratio=0.2,\n",
    "                   num_epochs=2, batch_size=512, learning_rate=0.001,\n",
    "                   save_dir='../Models/custom_note_transcription/cqt/bins_36/')"
   ],
   "metadata": {
    "collapsed": false,
    "ExecuteTime": {
     "end_time": "2023-11-28T09:05:12.226174600Z",
     "start_time": "2023-11-28T08:15:21.606445800Z"
    }
   },
   "id": "df165d8ecaea01c"
  },
  {
   "cell_type": "code",
   "execution_count": 8,
   "outputs": [
    {
     "name": "stdout",
     "output_type": "stream",
     "text": [
      "Test Accuracy: 0.9018462206776716\n",
      "Test Recall: 0.5425903380737689\n",
      "Test Precision: 0.7473143231765956\n",
      "Test F1: 0.6235831627910539\n"
     ]
    }
   ],
   "source": [
    "cqt_bins_36_metrics = evaluate_model(model=model, val_loader=test_loader, device=device, return_metrics=True)"
   ],
   "metadata": {
    "collapsed": false,
    "ExecuteTime": {
     "end_time": "2023-11-28T09:05:51.052434100Z",
     "start_time": "2023-11-28T09:05:12.230174100Z"
    }
   },
   "id": "c1c6f248dcee47b7"
  },
  {
   "cell_type": "markdown",
   "source": [
    "#### Experiment 4: STFT dataset with frame size = 1024"
   ],
   "metadata": {
    "collapsed": false
   },
   "id": "fa99df15115d4e2d"
  },
  {
   "cell_type": "code",
   "execution_count": 8,
   "outputs": [],
   "source": [
    "train_dataset = AudioDataset('../Data/processed/stft/frame_size_1024/', 'train.h5')\n",
    "\n",
    "test_dataset = AudioDataset('../Data/processed/stft/frame_size_1024/', 'test.h5')\n",
    "test_loader = DataLoader(test_dataset, batch_size=512, shuffle=True, num_workers=16)"
   ],
   "metadata": {
    "collapsed": false,
    "ExecuteTime": {
     "end_time": "2023-11-27T19:06:15.189945600Z",
     "start_time": "2023-11-27T19:06:15.159945600Z"
    }
   },
   "id": "e302e1c21aa3c622"
  },
  {
   "cell_type": "code",
   "execution_count": 9,
   "outputs": [],
   "source": [
    "model = First_CNN_LSTM().to(device)"
   ],
   "metadata": {
    "collapsed": false,
    "ExecuteTime": {
     "end_time": "2023-11-27T19:06:15.192945500Z",
     "start_time": "2023-11-27T19:06:15.178946600Z"
    }
   },
   "id": "46d0fd61f587f7a8"
  },
  {
   "cell_type": "code",
   "execution_count": 10,
   "outputs": [
    {
     "name": "stderr",
     "output_type": "stream",
     "text": [
      "Epoch 1/2 - Training, Loss: 0.028: 100%|██████████| 46040/46040 [1:05:20<00:00, 11.74it/s]\n",
      "Epoch 1/2 - Validation, Loss: 0.024: 100%|██████████| 11510/11510 [13:36<00:00, 14.09it/s]\n"
     ]
    },
    {
     "name": "stdout",
     "output_type": "stream",
     "text": [
      "Epoch [1/2] - Train Loss: 0.028, Validation Loss: 0.024\n",
      "Saved best model state to ../Models/custom_note_transcription/stft/frame_size_1024/best_model_state.pth\n",
      "Saved latest model checkpoint to ../Models/custom_note_transcription/stft/frame_size_1024/latest_model_checkpoint.pth\n"
     ]
    },
    {
     "name": "stderr",
     "output_type": "stream",
     "text": [
      "Epoch 2/2 - Training, Loss: 0.023: 100%|██████████| 46040/46040 [1:02:12<00:00, 12.33it/s]\n",
      "Epoch 2/2 - Validation, Loss: 0.022: 100%|██████████| 11510/11510 [12:59<00:00, 14.76it/s]\n"
     ]
    },
    {
     "name": "stdout",
     "output_type": "stream",
     "text": [
      "Epoch [2/2] - Train Loss: 0.023, Validation Loss: 0.022\n",
      "Saved best model state to ../Models/custom_note_transcription/stft/frame_size_1024/best_model_state.pth\n",
      "Saved latest model checkpoint to ../Models/custom_note_transcription/stft/frame_size_1024/latest_model_checkpoint.pth\n",
      "Finished Training\n"
     ]
    }
   ],
   "source": [
    "train_model(model=model, dataset=train_dataset, device=device, val_ratio=0.2,\n",
    "                   num_epochs=2, batch_size=512, learning_rate=0.001,\n",
    "                   save_dir='../Models/custom_note_transcription/stft/frame_size_1024/')"
   ],
   "metadata": {
    "collapsed": false,
    "ExecuteTime": {
     "end_time": "2023-11-27T21:40:27.078552Z",
     "start_time": "2023-11-27T19:06:15.193945500Z"
    }
   },
   "id": "c20b7e338f058c5d"
  },
  {
   "cell_type": "code",
   "execution_count": 11,
   "outputs": [
    {
     "name": "stdout",
     "output_type": "stream",
     "text": [
      "Test Accuracy: 0.8852300741754363\n",
      "Test Recall: 0.31849398698713766\n",
      "Test Precision: 0.6677639661274494\n",
      "Test F1: 0.40786269477312037\n"
     ]
    }
   ],
   "source": [
    "stft_frame_size_1024_metrics = evaluate_model(model=model, val_loader=test_loader, device=device, return_metrics=True)"
   ],
   "metadata": {
    "collapsed": false,
    "ExecuteTime": {
     "end_time": "2023-11-27T21:41:54.655106700Z",
     "start_time": "2023-11-27T21:40:27.108553Z"
    }
   },
   "id": "eadcc3d0f093dfe6"
  },
  {
   "cell_type": "markdown",
   "source": [
    "#### Experiment 5: STFT dataset with frame size = 2048"
   ],
   "metadata": {
    "collapsed": false
   },
   "id": "70b6869d0ce7ce34"
  },
  {
   "cell_type": "code",
   "execution_count": 5,
   "outputs": [],
   "source": [
    "train_dataset = AudioDataset('../Data/processed/stft/frame_size_2048/', 'train.h5')\n",
    "\n",
    "test_dataset = AudioDataset('../Data/processed/stft/frame_size_2048/', 'test.h5')\n",
    "test_loader = DataLoader(test_dataset, batch_size=512, shuffle=False, num_workers=16)"
   ],
   "metadata": {
    "collapsed": false,
    "ExecuteTime": {
     "end_time": "2023-11-28T07:13:19.231895300Z",
     "start_time": "2023-11-28T07:13:19.223895400Z"
    }
   },
   "id": "aa8f6f68e1639bf1"
  },
  {
   "cell_type": "code",
   "execution_count": 6,
   "outputs": [],
   "source": [
    "model = First_CNN_LSTM().to(device)"
   ],
   "metadata": {
    "collapsed": false,
    "ExecuteTime": {
     "end_time": "2023-11-28T07:13:20.258361500Z",
     "start_time": "2023-11-28T07:13:20.125362Z"
    }
   },
   "id": "22f9d50b93cc42dd"
  },
  {
   "cell_type": "code",
   "execution_count": 7,
   "outputs": [
    {
     "name": "stderr",
     "output_type": "stream",
     "text": [
      "Epoch 1/2 - Training, Loss: 0.023: 100%|██████████| 23020/23020 [20:13<00:00, 18.97it/s]\n",
      "Epoch 1/2 - Validation, Loss: 0.017: 100%|██████████| 5755/5755 [04:04<00:00, 23.57it/s]\n"
     ]
    },
    {
     "name": "stdout",
     "output_type": "stream",
     "text": [
      "Epoch [1/2] - Train Loss: 0.023, Validation Loss: 0.017\n",
      "Saved best model state to ../Models/custom_note_transcription/stft/frame_size_2048/best_model_state.pth\n",
      "Saved latest model checkpoint to ../Models/custom_note_transcription/stft/frame_size_2048/latest_model_checkpoint.pth\n"
     ]
    },
    {
     "name": "stderr",
     "output_type": "stream",
     "text": [
      "Epoch 2/2 - Training, Loss: 0.017: 100%|██████████| 23020/23020 [20:17<00:00, 18.91it/s]\n",
      "Epoch 2/2 - Validation, Loss: 0.016: 100%|██████████| 5755/5755 [03:57<00:00, 24.18it/s]"
     ]
    },
    {
     "name": "stdout",
     "output_type": "stream",
     "text": [
      "Epoch [2/2] - Train Loss: 0.017, Validation Loss: 0.016\n",
      "Saved best model state to ../Models/custom_note_transcription/stft/frame_size_2048/best_model_state.pth\n",
      "Saved latest model checkpoint to ../Models/custom_note_transcription/stft/frame_size_2048/latest_model_checkpoint.pth\n",
      "Finished Training\n"
     ]
    },
    {
     "name": "stderr",
     "output_type": "stream",
     "text": [
      "\n"
     ]
    }
   ],
   "source": [
    "train_model(model=model, dataset=train_dataset, device=device, val_ratio=0.2,\n",
    "                   num_epochs=2, batch_size=512, learning_rate=0.001,\n",
    "                   save_dir='../Models/custom_note_transcription/stft/frame_size_2048/')"
   ],
   "metadata": {
    "collapsed": false,
    "ExecuteTime": {
     "end_time": "2023-11-28T08:01:55.045956400Z",
     "start_time": "2023-11-28T07:13:20.939625400Z"
    }
   },
   "id": "f9356775f2dc741d"
  },
  {
   "cell_type": "code",
   "execution_count": 8,
   "outputs": [
    {
     "name": "stdout",
     "output_type": "stream",
     "text": [
      "Test Accuracy: 0.8962684622067767\n",
      "Test Recall: 0.46930311584411416\n",
      "Test Precision: 0.7335218756431129\n",
      "Test F1: 0.5615569907803696\n"
     ]
    }
   ],
   "source": [
    "stft_frame_size_2048_metrics = evaluate_model(model=model, val_loader=test_loader, device=device, return_metrics=True)"
   ],
   "metadata": {
    "collapsed": false,
    "ExecuteTime": {
     "end_time": "2023-11-28T08:02:33.139937400Z",
     "start_time": "2023-11-28T08:01:55.055957100Z"
    }
   },
   "id": "98a8f03062b129c1"
  },
  {
   "cell_type": "markdown",
   "source": [
    "#### Results"
   ],
   "metadata": {
    "collapsed": false
   },
   "id": "5791aeea0657b748"
  },
  {
   "cell_type": "markdown",
   "source": [
    "Best results are obtained with "
   ],
   "metadata": {
    "collapsed": false
   },
   "id": "9a0b093ce39f6ecc"
  }
 ],
 "metadata": {
  "kernelspec": {
   "display_name": "Python 3",
   "language": "python",
   "name": "python3"
  },
  "language_info": {
   "codemirror_mode": {
    "name": "ipython",
    "version": 2
   },
   "file_extension": ".py",
   "mimetype": "text/x-python",
   "name": "python",
   "nbconvert_exporter": "python",
   "pygments_lexer": "ipython2",
   "version": "2.7.6"
  }
 },
 "nbformat": 4,
 "nbformat_minor": 5
}
