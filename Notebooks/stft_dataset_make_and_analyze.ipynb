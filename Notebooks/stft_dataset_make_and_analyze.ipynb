{
 "cells": [
  {
   "cell_type": "markdown",
   "source": [
    "## Analyze data preprocessed using Short-time Fourier transform (STFT) and create several preprocessed datasets with different hyperparameters (frame size)"
   ],
   "metadata": {
    "collapsed": false
   },
   "id": "d8565649cb89e076"
  },
  {
   "cell_type": "code",
   "execution_count": 1,
   "outputs": [],
   "source": [
    "from src.preprocessing.data_preprocessing import generate_note_labels\n",
    "from src.preprocessing.data_preprocessing import calculate_stft_stats\n",
    "from src.preprocessing.data_preprocessing import process_files_using_stft"
   ],
   "metadata": {
    "collapsed": false,
    "ExecuteTime": {
     "end_time": "2023-11-27T18:39:47.992000200Z",
     "start_time": "2023-11-27T18:39:47.321990900Z"
    }
   },
   "id": "19667960768c3c71"
  },
  {
   "cell_type": "code",
   "execution_count": 2,
   "outputs": [],
   "source": [
    "from src.preprocessing.data_utils import find_note_range\n",
    "from src.preprocessing.data_utils import find_max_length\n",
    "from src.preprocessing.data_utils import pad_data\n",
    "from src.preprocessing.data_utils import save_preprocessed_data"
   ],
   "metadata": {
    "collapsed": false,
    "ExecuteTime": {
     "end_time": "2023-11-27T18:39:48.137001Z",
     "start_time": "2023-11-27T18:39:47.994998900Z"
    }
   },
   "id": "65a76ef72e651b7"
  },
  {
   "cell_type": "code",
   "execution_count": 3,
   "outputs": [],
   "source": [
    "# Paths to the directories\n",
    "train_data_dir = '../Data/raw/musicnet/train_data'\n",
    "train_labels_dir = '../Data/raw/musicnet/train_labels'\n",
    "test_data_dir = '../Data/raw/musicnet/test_data'\n",
    "test_labels_dir = '../Data/raw/musicnet/test_labels'"
   ],
   "metadata": {
    "collapsed": false,
    "ExecuteTime": {
     "end_time": "2023-11-27T18:39:48.150001100Z",
     "start_time": "2023-11-27T18:39:48.135000300Z"
    }
   },
   "id": "7380e77e0cb61c1e"
  },
  {
   "cell_type": "markdown",
   "source": [
    "### Explore notes range in dataset"
   ],
   "metadata": {
    "collapsed": false
   },
   "id": "e8c7dccb0b446f26"
  },
  {
   "cell_type": "code",
   "execution_count": 4,
   "outputs": [],
   "source": [
    "all_label_paths = [train_labels_dir, test_labels_dir]\n",
    "min_note_value, max_note_value = find_note_range(all_label_paths)\n",
    "note_range = max_note_value - min_note_value"
   ],
   "metadata": {
    "collapsed": false,
    "ExecuteTime": {
     "end_time": "2023-11-27T18:30:59.920508300Z",
     "start_time": "2023-11-27T18:30:59.030494400Z"
    }
   },
   "id": "30f75fee94f9035c"
  },
  {
   "cell_type": "code",
   "execution_count": 5,
   "outputs": [
    {
     "name": "stdout",
     "output_type": "stream",
     "text": [
      "Min note value: 21\n",
      "Max note value: 105\n",
      "Note range: 84\n"
     ]
    }
   ],
   "source": [
    "print('Min note value:', min_note_value)\n",
    "print('Max note value:', max_note_value)\n",
    "print('Note range:', note_range)"
   ],
   "metadata": {
    "collapsed": false,
    "ExecuteTime": {
     "end_time": "2023-11-27T18:30:59.936508Z",
     "start_time": "2023-11-27T18:30:59.922507600Z"
    }
   },
   "id": "e68860d7b1cb6547"
  },
  {
   "cell_type": "markdown",
   "source": [
    "### Create preprocessed dataset with frame size = 1024"
   ],
   "metadata": {
    "collapsed": false
   },
   "id": "7564371ba3305c11"
  },
  {
   "cell_type": "markdown",
   "source": [
    "#### Initially process audio files to spectrograms and generate labels"
   ],
   "metadata": {
    "collapsed": false
   },
   "id": "13f0bc529aeac4b"
  },
  {
   "cell_type": "code",
   "execution_count": 6,
   "outputs": [
    {
     "name": "stderr",
     "output_type": "stream",
     "text": [
      "Calculating STFT stats: 100%|██████████| 320/320 [02:01<00:00,  2.64it/s]\n",
      "Processing files in '../Data/raw/musicnet/train_data' and '../Data/raw/musicnet/train_labels': 100%|██████████| 320/320 [03:11<00:00,  1.67it/s]\n",
      "Calculating STFT stats: 100%|██████████| 10/10 [00:01<00:00,  6.83it/s]\n",
      "Processing files in '../Data/raw/musicnet/test_data' and '../Data/raw/musicnet/test_labels': 100%|██████████| 10/10 [00:02<00:00,  4.42it/s]\n"
     ]
    }
   ],
   "source": [
    "train_mean, train_std_dev = calculate_stft_stats(train_data_dir, frame_size=1024, data_size=320)\n",
    "X_train, y_train = process_files_using_stft(train_data_dir, train_labels_dir, generate_note_labels, mean=train_mean, std=train_std_dev, frame_size=1024, data_size=320)\n",
    "\n",
    "test_mean, test_std_dev = calculate_stft_stats(test_data_dir, frame_size=1024, data_size=10)\n",
    "X_test, y_test = process_files_using_stft(test_data_dir, test_labels_dir, generate_note_labels, mean=test_mean, std=test_std_dev, frame_size=1024, data_size=10)"
   ],
   "metadata": {
    "collapsed": false,
    "ExecuteTime": {
     "end_time": "2023-11-27T18:36:16.322315400Z",
     "start_time": "2023-11-27T18:30:59.938508800Z"
    }
   },
   "id": "ce9f882d5530ebb4"
  },
  {
   "cell_type": "code",
   "execution_count": 7,
   "outputs": [
    {
     "name": "stdout",
     "output_type": "stream",
     "text": [
      "Number of training examples: 320\n",
      "Number of training labels: 320\n",
      "X_train[0] shape: (38507, 98)\n",
      "y_train[0] shape: (38507, 88)\n"
     ]
    }
   ],
   "source": [
    "print('Number of training examples:', len(X_train))\n",
    "print('Number of training labels:', len(y_train))\n",
    "print(f\"X_train[0] shape: {X_train[0].shape}\")\n",
    "print(f\"y_train[0] shape: {y_train[0].shape}\")\n"
   ],
   "metadata": {
    "collapsed": false,
    "ExecuteTime": {
     "end_time": "2023-11-27T18:36:16.340319Z",
     "start_time": "2023-11-27T18:36:16.314315300Z"
    }
   },
   "id": "10208ed49149a3af"
  },
  {
   "cell_type": "code",
   "execution_count": 8,
   "outputs": [
    {
     "name": "stdout",
     "output_type": "stream",
     "text": [
      "Sample 1 shape: (38507, 98)\n",
      "Sample 2 shape: (21632, 98)\n",
      "Sample 3 shape: (38286, 98)\n",
      "Sample 4 shape: (31743, 98)\n",
      "Sample 5 shape: (47030, 98)\n",
      "Sample 6 shape: (28047, 98)\n",
      "Sample 7 shape: (61578, 98)\n",
      "Sample 8 shape: (42244, 98)\n",
      "Sample 9 shape: (79632, 98)\n",
      "Sample 10 shape: (59981, 98)\n",
      "Sample 11 shape: (67543, 98)\n",
      "Sample 12 shape: (40971, 98)\n",
      "Sample 13 shape: (31242, 98)\n",
      "Sample 14 shape: (19794, 98)\n",
      "Sample 15 shape: (31998, 98)\n",
      "Sample 16 shape: (61207, 98)\n",
      "Sample 17 shape: (40345, 98)\n",
      "Sample 18 shape: (56466, 98)\n",
      "Sample 19 shape: (51708, 98)\n",
      "Sample 20 shape: (37749, 98)\n",
      "Sample 21 shape: (58278, 98)\n",
      "Sample 22 shape: (36810, 98)\n",
      "Sample 23 shape: (25054, 98)\n",
      "Sample 24 shape: (55760, 98)\n",
      "Sample 25 shape: (35958, 98)\n",
      "Sample 26 shape: (26476, 98)\n",
      "Sample 27 shape: (49804, 98)\n",
      "Sample 28 shape: (62541, 98)\n",
      "Sample 29 shape: (54221, 98)\n",
      "Sample 30 shape: (44203, 98)\n",
      "Sample 31 shape: (39736, 98)\n",
      "Sample 32 shape: (27895, 98)\n",
      "Sample 33 shape: (30279, 98)\n",
      "Sample 34 shape: (40723, 98)\n",
      "Sample 35 shape: (43488, 98)\n",
      "Sample 36 shape: (30731, 98)\n",
      "Sample 37 shape: (38280, 98)\n",
      "Sample 38 shape: (42150, 98)\n",
      "Sample 39 shape: (40147, 98)\n",
      "Sample 40 shape: (50990, 98)\n",
      "Sample 41 shape: (21564, 98)\n",
      "Sample 42 shape: (35096, 98)\n",
      "Sample 43 shape: (39672, 98)\n",
      "Sample 44 shape: (21791, 98)\n",
      "Sample 45 shape: (22845, 98)\n",
      "Sample 46 shape: (36291, 98)\n",
      "Sample 47 shape: (20403, 98)\n",
      "Sample 48 shape: (33829, 98)\n",
      "Sample 49 shape: (43882, 98)\n",
      "Sample 50 shape: (31579, 98)\n",
      "Sample 51 shape: (30704, 98)\n",
      "Sample 52 shape: (28067, 98)\n",
      "Sample 53 shape: (58142, 98)\n",
      "Sample 54 shape: (31624, 98)\n",
      "Sample 55 shape: (37408, 98)\n",
      "Sample 56 shape: (34628, 98)\n",
      "Sample 57 shape: (33865, 98)\n",
      "Sample 58 shape: (40612, 98)\n",
      "Sample 59 shape: (21539, 98)\n",
      "Sample 60 shape: (30287, 98)\n",
      "Sample 61 shape: (28339, 98)\n",
      "Sample 62 shape: (21319, 98)\n",
      "Sample 63 shape: (21544, 98)\n",
      "Sample 64 shape: (30663, 98)\n",
      "Sample 65 shape: (24006, 98)\n",
      "Sample 66 shape: (20147, 98)\n",
      "Sample 67 shape: (25833, 98)\n",
      "Sample 68 shape: (29442, 98)\n",
      "Sample 69 shape: (21103, 98)\n",
      "Sample 70 shape: (32017, 98)\n",
      "Sample 71 shape: (25133, 98)\n",
      "Sample 72 shape: (77306, 98)\n",
      "Sample 73 shape: (30393, 98)\n",
      "Sample 74 shape: (34718, 98)\n",
      "Sample 75 shape: (35393, 98)\n",
      "Sample 76 shape: (22919, 98)\n",
      "Sample 77 shape: (19994, 98)\n",
      "Sample 78 shape: (25378, 98)\n",
      "Sample 79 shape: (44672, 98)\n",
      "Sample 80 shape: (23648, 98)\n",
      "Sample 81 shape: (37031, 98)\n",
      "Sample 82 shape: (32864, 98)\n",
      "Sample 83 shape: (43223, 98)\n",
      "Sample 84 shape: (70857, 98)\n",
      "Sample 85 shape: (41027, 98)\n",
      "Sample 86 shape: (51602, 98)\n",
      "Sample 87 shape: (45939, 98)\n",
      "Sample 88 shape: (77022, 98)\n",
      "Sample 89 shape: (52207, 98)\n",
      "Sample 90 shape: (16540, 98)\n",
      "Sample 91 shape: (56937, 98)\n",
      "Sample 92 shape: (41529, 98)\n",
      "Sample 93 shape: (40183, 98)\n",
      "Sample 94 shape: (38500, 98)\n",
      "Sample 95 shape: (34212, 98)\n",
      "Sample 96 shape: (55065, 98)\n",
      "Sample 97 shape: (16664, 98)\n",
      "Sample 98 shape: (52779, 98)\n",
      "Sample 99 shape: (44726, 98)\n",
      "Sample 100 shape: (42278, 98)\n",
      "Sample 101 shape: (30598, 98)\n",
      "Sample 102 shape: (43502, 98)\n",
      "Sample 103 shape: (25297, 98)\n",
      "Sample 104 shape: (18466, 98)\n",
      "Sample 105 shape: (8622, 98)\n",
      "Sample 106 shape: (13361, 98)\n",
      "Sample 107 shape: (6501, 98)\n",
      "Sample 108 shape: (17049, 98)\n",
      "Sample 109 shape: (9779, 98)\n",
      "Sample 110 shape: (11565, 98)\n",
      "Sample 111 shape: (15609, 98)\n",
      "Sample 112 shape: (13453, 98)\n",
      "Sample 113 shape: (11406, 98)\n",
      "Sample 114 shape: (7720, 98)\n",
      "Sample 115 shape: (10404, 98)\n",
      "Sample 116 shape: (13849, 98)\n",
      "Sample 117 shape: (15361, 98)\n",
      "Sample 118 shape: (20433, 98)\n",
      "Sample 119 shape: (14904, 98)\n",
      "Sample 120 shape: (9990, 98)\n",
      "Sample 121 shape: (9246, 98)\n",
      "Sample 122 shape: (10029, 98)\n",
      "Sample 123 shape: (16045, 98)\n",
      "Sample 124 shape: (17224, 98)\n",
      "Sample 125 shape: (22480, 98)\n",
      "Sample 126 shape: (26013, 98)\n",
      "Sample 127 shape: (20772, 98)\n",
      "Sample 128 shape: (17402, 98)\n",
      "Sample 129 shape: (9372, 98)\n",
      "Sample 130 shape: (18405, 98)\n",
      "Sample 131 shape: (11149, 98)\n",
      "Sample 132 shape: (8449, 98)\n",
      "Sample 133 shape: (21067, 98)\n",
      "Sample 134 shape: (7286, 98)\n",
      "Sample 135 shape: (9961, 98)\n",
      "Sample 136 shape: (6768, 98)\n",
      "Sample 137 shape: (5517, 98)\n",
      "Sample 138 shape: (9405, 98)\n",
      "Sample 139 shape: (5169, 98)\n",
      "Sample 140 shape: (10339, 98)\n",
      "Sample 141 shape: (7974, 98)\n",
      "Sample 142 shape: (20862, 98)\n",
      "Sample 143 shape: (26937, 98)\n",
      "Sample 144 shape: (16707, 98)\n",
      "Sample 145 shape: (18464, 98)\n",
      "Sample 146 shape: (6998, 98)\n",
      "Sample 147 shape: (9014, 98)\n",
      "Sample 148 shape: (26982, 98)\n",
      "Sample 149 shape: (16547, 98)\n",
      "Sample 150 shape: (19591, 98)\n",
      "Sample 151 shape: (19463, 98)\n",
      "Sample 152 shape: (16515, 98)\n",
      "Sample 153 shape: (17517, 98)\n",
      "Sample 154 shape: (7866, 98)\n",
      "Sample 155 shape: (26715, 98)\n",
      "Sample 156 shape: (19677, 98)\n",
      "Sample 157 shape: (22347, 98)\n",
      "Sample 158 shape: (25144, 98)\n",
      "Sample 159 shape: (28791, 98)\n",
      "Sample 160 shape: (20516, 98)\n",
      "Sample 161 shape: (9331, 98)\n",
      "Sample 162 shape: (16914, 98)\n",
      "Sample 163 shape: (5612, 98)\n",
      "Sample 164 shape: (11817, 98)\n",
      "Sample 165 shape: (10494, 98)\n",
      "Sample 166 shape: (4759, 98)\n",
      "Sample 167 shape: (51152, 98)\n",
      "Sample 168 shape: (48933, 98)\n",
      "Sample 169 shape: (92079, 98)\n",
      "Sample 170 shape: (55290, 98)\n",
      "Sample 171 shape: (53481, 98)\n",
      "Sample 172 shape: (19186, 98)\n",
      "Sample 173 shape: (55641, 98)\n",
      "Sample 174 shape: (47489, 98)\n",
      "Sample 175 shape: (45837, 98)\n",
      "Sample 176 shape: (35274, 98)\n",
      "Sample 177 shape: (36392, 98)\n",
      "Sample 178 shape: (17040, 98)\n",
      "Sample 179 shape: (39697, 98)\n",
      "Sample 180 shape: (16563, 98)\n",
      "Sample 181 shape: (28672, 98)\n",
      "Sample 182 shape: (38158, 98)\n",
      "Sample 183 shape: (28933, 98)\n",
      "Sample 184 shape: (42525, 98)\n",
      "Sample 185 shape: (23794, 98)\n",
      "Sample 186 shape: (30807, 98)\n",
      "Sample 187 shape: (11880, 98)\n",
      "Sample 188 shape: (26251, 98)\n",
      "Sample 189 shape: (25581, 98)\n",
      "Sample 190 shape: (34657, 98)\n",
      "Sample 191 shape: (81066, 98)\n",
      "Sample 192 shape: (37438, 98)\n",
      "Sample 193 shape: (17681, 98)\n",
      "Sample 194 shape: (19688, 98)\n",
      "Sample 195 shape: (27444, 98)\n",
      "Sample 196 shape: (18651, 98)\n",
      "Sample 197 shape: (50070, 98)\n",
      "Sample 198 shape: (66137, 98)\n",
      "Sample 199 shape: (28791, 98)\n",
      "Sample 200 shape: (48283, 98)\n",
      "Sample 201 shape: (33060, 98)\n",
      "Sample 202 shape: (18336, 98)\n",
      "Sample 203 shape: (40800, 98)\n",
      "Sample 204 shape: (38732, 98)\n",
      "Sample 205 shape: (33773, 98)\n",
      "Sample 206 shape: (40775, 98)\n",
      "Sample 207 shape: (37690, 98)\n",
      "Sample 208 shape: (33003, 98)\n",
      "Sample 209 shape: (53665, 98)\n",
      "Sample 210 shape: (78456, 98)\n",
      "Sample 211 shape: (30850, 98)\n",
      "Sample 212 shape: (34378, 98)\n",
      "Sample 213 shape: (11885, 98)\n",
      "Sample 214 shape: (52718, 98)\n",
      "Sample 215 shape: (27000, 98)\n",
      "Sample 216 shape: (11118, 98)\n",
      "Sample 217 shape: (19636, 98)\n",
      "Sample 218 shape: (19607, 98)\n",
      "Sample 219 shape: (20388, 98)\n",
      "Sample 220 shape: (20806, 98)\n",
      "Sample 221 shape: (25644, 98)\n",
      "Sample 222 shape: (17465, 98)\n",
      "Sample 223 shape: (27588, 98)\n",
      "Sample 224 shape: (16700, 98)\n",
      "Sample 225 shape: (39749, 98)\n",
      "Sample 226 shape: (58948, 98)\n",
      "Sample 227 shape: (68468, 98)\n",
      "Sample 228 shape: (15078, 98)\n",
      "Sample 229 shape: (89159, 98)\n",
      "Sample 230 shape: (66380, 98)\n",
      "Sample 231 shape: (36335, 98)\n",
      "Sample 232 shape: (42156, 98)\n",
      "Sample 233 shape: (26679, 98)\n",
      "Sample 234 shape: (26334, 98)\n",
      "Sample 235 shape: (39065, 98)\n",
      "Sample 236 shape: (18554, 98)\n",
      "Sample 237 shape: (28879, 98)\n",
      "Sample 238 shape: (40865, 98)\n",
      "Sample 239 shape: (19024, 98)\n",
      "Sample 240 shape: (27498, 98)\n",
      "Sample 241 shape: (34077, 98)\n",
      "Sample 242 shape: (30531, 98)\n",
      "Sample 243 shape: (48927, 98)\n",
      "Sample 244 shape: (31649, 98)\n",
      "Sample 245 shape: (38601, 98)\n",
      "Sample 246 shape: (29259, 98)\n",
      "Sample 247 shape: (38010, 98)\n",
      "Sample 248 shape: (44719, 98)\n",
      "Sample 249 shape: (28517, 98)\n",
      "Sample 250 shape: (41405, 98)\n",
      "Sample 251 shape: (25587, 98)\n",
      "Sample 252 shape: (25340, 98)\n",
      "Sample 253 shape: (31626, 98)\n",
      "Sample 254 shape: (23061, 98)\n",
      "Sample 255 shape: (39659, 98)\n",
      "Sample 256 shape: (42150, 98)\n",
      "Sample 257 shape: (16189, 98)\n",
      "Sample 258 shape: (18761, 98)\n",
      "Sample 259 shape: (41720, 98)\n",
      "Sample 260 shape: (38941, 98)\n",
      "Sample 261 shape: (36480, 98)\n",
      "Sample 262 shape: (34965, 98)\n",
      "Sample 263 shape: (33413, 98)\n",
      "Sample 264 shape: (64770, 98)\n",
      "Sample 265 shape: (31349, 98)\n",
      "Sample 266 shape: (48116, 98)\n",
      "Sample 267 shape: (33258, 98)\n",
      "Sample 268 shape: (39942, 98)\n",
      "Sample 269 shape: (23731, 98)\n",
      "Sample 270 shape: (48411, 98)\n",
      "Sample 271 shape: (85453, 98)\n",
      "Sample 272 shape: (47237, 98)\n",
      "Sample 273 shape: (91987, 98)\n",
      "Sample 274 shape: (24714, 98)\n",
      "Sample 275 shape: (18275, 98)\n",
      "Sample 276 shape: (22698, 98)\n",
      "Sample 277 shape: (56073, 98)\n",
      "Sample 278 shape: (15530, 98)\n",
      "Sample 279 shape: (19269, 98)\n",
      "Sample 280 shape: (65655, 98)\n",
      "Sample 281 shape: (32684, 98)\n",
      "Sample 282 shape: (28476, 98)\n",
      "Sample 283 shape: (47712, 98)\n",
      "Sample 284 shape: (34907, 98)\n",
      "Sample 285 shape: (33348, 98)\n",
      "Sample 286 shape: (41180, 98)\n",
      "Sample 287 shape: (43671, 98)\n",
      "Sample 288 shape: (46515, 98)\n",
      "Sample 289 shape: (17316, 98)\n",
      "Sample 290 shape: (29295, 98)\n",
      "Sample 291 shape: (26175, 98)\n",
      "Sample 292 shape: (24093, 98)\n",
      "Sample 293 shape: (29779, 98)\n",
      "Sample 294 shape: (34322, 98)\n",
      "Sample 295 shape: (36986, 98)\n",
      "Sample 296 shape: (45036, 98)\n",
      "Sample 297 shape: (33656, 98)\n",
      "Sample 298 shape: (15460, 98)\n",
      "Sample 299 shape: (44177, 98)\n",
      "Sample 300 shape: (27504, 98)\n",
      "Sample 301 shape: (26503, 98)\n",
      "Sample 302 shape: (28062, 98)\n",
      "Sample 303 shape: (36025, 98)\n",
      "Sample 304 shape: (58053, 98)\n",
      "Sample 305 shape: (33638, 98)\n",
      "Sample 306 shape: (48515, 98)\n",
      "Sample 307 shape: (54709, 98)\n",
      "Sample 308 shape: (31368, 98)\n",
      "Sample 309 shape: (20543, 98)\n",
      "Sample 310 shape: (13770, 98)\n",
      "Sample 311 shape: (55872, 98)\n",
      "Sample 312 shape: (43691, 98)\n",
      "Sample 313 shape: (51159, 98)\n",
      "Sample 314 shape: (27824, 98)\n",
      "Sample 315 shape: (44613, 98)\n",
      "Sample 316 shape: (29448, 98)\n",
      "Sample 317 shape: (19553, 98)\n",
      "Sample 318 shape: (9331, 98)\n",
      "Sample 319 shape: (38352, 98)\n",
      "Sample 320 shape: (40687, 98)\n"
     ]
    }
   ],
   "source": [
    "for i, sample in enumerate(X_train):\n",
    "    print(f\"Sample {i + 1} shape: {sample.shape}\")"
   ],
   "metadata": {
    "collapsed": false,
    "ExecuteTime": {
     "end_time": "2023-11-27T18:36:16.350315500Z",
     "start_time": "2023-11-27T18:36:16.330316400Z"
    }
   },
   "id": "c9b66122db1135fc"
  },
  {
   "cell_type": "markdown",
   "source": [
    "#### Pad data to the same length"
   ],
   "metadata": {
    "collapsed": false
   },
   "id": "a79a035ae5cf7882"
  },
  {
   "cell_type": "code",
   "execution_count": 9,
   "outputs": [
    {
     "name": "stdout",
     "output_type": "stream",
     "text": [
      "Max length: 92079\n"
     ]
    }
   ],
   "source": [
    "max_length = max(find_max_length(X_train), find_max_length(X_test))\n",
    "print('Max length:', max_length)"
   ],
   "metadata": {
    "collapsed": false,
    "ExecuteTime": {
     "end_time": "2023-11-27T18:36:16.360319Z",
     "start_time": "2023-11-27T18:36:16.345318Z"
    }
   },
   "id": "8a82e1197b7b61ab"
  },
  {
   "cell_type": "code",
   "execution_count": null,
   "outputs": [],
   "source": [
    "X_train_padded = pad_data(X_train, max_length)\n",
    "y_train_padded = pad_data(y_train, max_length)\n",
    "X_test_padded = pad_data(X_test, max_length)\n",
    "y_test_padded = pad_data(y_test, max_length)"
   ],
   "metadata": {
    "collapsed": false
   },
   "id": "64f8ba7f315e5d4"
  },
  {
   "cell_type": "code",
   "execution_count": 11,
   "outputs": [
    {
     "name": "stdout",
     "output_type": "stream",
     "text": [
      "X_train_padded shape: (320, 92079, 98)\n",
      "y_train_padded shape: (320, 92079, 88)\n",
      "X_test_padded shape: (10, 92079, 98)\n",
      "y_test_padded shape: (10, 92079, 88)\n"
     ]
    }
   ],
   "source": [
    "print('X_train_padded shape:', X_train_padded.shape)\n",
    "print('y_train_padded shape:', y_train_padded.shape)\n",
    "print('X_test_padded shape:', X_test_padded.shape)\n",
    "print('y_test_padded shape:', y_test_padded.shape)"
   ],
   "metadata": {
    "collapsed": false,
    "ExecuteTime": {
     "end_time": "2023-11-27T18:38:52.509728300Z",
     "start_time": "2023-11-27T18:38:52.498728Z"
    }
   },
   "id": "97ad85c54406fb1b"
  },
  {
   "cell_type": "markdown",
   "source": [
    "#### Reshape data"
   ],
   "metadata": {
    "collapsed": false
   },
   "id": "ccaa890d0b6e4af3"
  },
  {
   "cell_type": "code",
   "execution_count": 12,
   "outputs": [],
   "source": [
    "X_train = X_train_padded.reshape(-1, X_train_padded.shape[2])\n",
    "y_train = y_train_padded.reshape(-1, 88)\n",
    "X_test = X_test_padded.reshape(-1, X_test_padded.shape[2])\n",
    "y_test = y_test_padded.reshape(-1, 88)"
   ],
   "metadata": {
    "collapsed": false,
    "ExecuteTime": {
     "end_time": "2023-11-27T18:38:52.993733900Z",
     "start_time": "2023-11-27T18:38:52.510727900Z"
    }
   },
   "id": "da301527694b8456"
  },
  {
   "cell_type": "code",
   "execution_count": 13,
   "outputs": [
    {
     "name": "stdout",
     "output_type": "stream",
     "text": [
      "X_train shape: (29465280, 98)\n",
      "y_train shape: (29465280, 88)\n",
      "X_test shape: (920790, 98)\n",
      "y_test shape: (920790, 88)\n"
     ]
    }
   ],
   "source": [
    "print('X_train shape:', X_train.shape)\n",
    "print('y_train shape:', y_train.shape)\n",
    "print('X_test shape:', X_test.shape)\n",
    "print('y_test shape:', y_test.shape)"
   ],
   "metadata": {
    "collapsed": false,
    "ExecuteTime": {
     "end_time": "2023-11-27T18:38:53.007734900Z",
     "start_time": "2023-11-27T18:38:52.992734200Z"
    }
   },
   "id": "5c3e826209411c3b"
  },
  {
   "cell_type": "markdown",
   "source": [
    "#### Save preprocessed data"
   ],
   "metadata": {
    "collapsed": false
   },
   "id": "5df19bd1f322f6f7"
  },
  {
   "cell_type": "code",
   "execution_count": 14,
   "outputs": [
    {
     "name": "stdout",
     "output_type": "stream",
     "text": [
      "Starting to save preprocessed data...\n",
      "Data successfully saved to ../Data/processed/stft/frame_size_1024/train.h5\n",
      "Starting to save preprocessed data...\n",
      "Data successfully saved to ../Data/processed/stft/frame_size_1024/test.h5\n"
     ]
    }
   ],
   "source": [
    "save_preprocessed_data(X_train, y_train, '../Data/processed/stft/frame_size_1024/', 'train.h5')\n",
    "save_preprocessed_data(X_test, y_test, '../Data/processed/stft/frame_size_1024/', 'test.h5')"
   ],
   "metadata": {
    "collapsed": false,
    "ExecuteTime": {
     "end_time": "2023-11-27T18:39:21.357745500Z",
     "start_time": "2023-11-27T18:38:53.038734900Z"
    }
   },
   "id": "22982ce2678a86ae"
  },
  {
   "cell_type": "markdown",
   "source": [
    "### Create preprocessed dataset with frame size = 2048"
   ],
   "metadata": {
    "collapsed": false
   },
   "id": "313eb0be2126ef42"
  },
  {
   "cell_type": "code",
   "execution_count": 4,
   "outputs": [
    {
     "name": "stderr",
     "output_type": "stream",
     "text": [
      "Calculating STFT stats: 100%|██████████| 320/320 [02:04<00:00,  2.57it/s]\n",
      "Processing files in '../Data/raw/musicnet/train_data' and '../Data/raw/musicnet/train_labels': 100%|██████████| 320/320 [03:15<00:00,  1.63it/s]\n",
      "Calculating STFT stats: 100%|██████████| 10/10 [00:01<00:00,  6.66it/s]\n",
      "Processing files in '../Data/raw/musicnet/test_data' and '../Data/raw/musicnet/test_labels': 100%|██████████| 10/10 [00:02<00:00,  4.29it/s]\n"
     ]
    }
   ],
   "source": [
    "train_mean, train_std_dev = calculate_stft_stats(train_data_dir, frame_size=2048, data_size=320)\n",
    "X_train, y_train = process_files_using_stft(train_data_dir, train_labels_dir, generate_note_labels, mean=train_mean, std=train_std_dev, frame_size=2048, data_size=320)\n",
    "\n",
    "test_mean, test_std_dev = calculate_stft_stats(test_data_dir, frame_size=2048, data_size=10)\n",
    "X_test, y_test = process_files_using_stft(test_data_dir, test_labels_dir, generate_note_labels, mean=test_mean, std=test_std_dev, frame_size=2048, data_size=10)"
   ],
   "metadata": {
    "collapsed": false,
    "ExecuteTime": {
     "end_time": "2023-11-27T18:45:19.872022100Z",
     "start_time": "2023-11-27T18:39:55.585325300Z"
    }
   },
   "id": "e08921b75eef04f2"
  },
  {
   "cell_type": "markdown",
   "source": [
    "#### Pad data to the same length"
   ],
   "metadata": {
    "collapsed": false
   },
   "id": "eb333cd8e2bbe31c"
  },
  {
   "cell_type": "code",
   "execution_count": 5,
   "outputs": [
    {
     "name": "stdout",
     "output_type": "stream",
     "text": [
      "Number of training examples: 320\n",
      "Number of training labels: 320\n",
      "X_train[0] shape: (19254, 194)\n",
      "y_train[0] shape: (19254, 88)\n"
     ]
    }
   ],
   "source": [
    "print('Number of training examples:', len(X_train))\n",
    "print('Number of training labels:', len(y_train))\n",
    "print(f\"X_train[0] shape: {X_train[0].shape}\")\n",
    "print(f\"y_train[0] shape: {y_train[0].shape}\")"
   ],
   "metadata": {
    "collapsed": false,
    "ExecuteTime": {
     "end_time": "2023-11-27T18:45:19.886022Z",
     "start_time": "2023-11-27T18:45:19.871021600Z"
    }
   },
   "id": "bbcf3b99d592585a"
  },
  {
   "cell_type": "code",
   "execution_count": 6,
   "outputs": [
    {
     "name": "stdout",
     "output_type": "stream",
     "text": [
      "Max length: 46040\n"
     ]
    }
   ],
   "source": [
    "max_length = max(find_max_length(X_train), find_max_length(X_test))\n",
    "print('Max length:', max_length)"
   ],
   "metadata": {
    "collapsed": false,
    "ExecuteTime": {
     "end_time": "2023-11-27T18:45:19.924021700Z",
     "start_time": "2023-11-27T18:45:19.887022200Z"
    }
   },
   "id": "c1f7ad466ca62bde"
  },
  {
   "cell_type": "code",
   "execution_count": null,
   "outputs": [],
   "source": [
    "X_train_padded = pad_data(X_train, max_length)\n",
    "y_train_padded = pad_data(y_train, max_length)\n",
    "X_test_padded = pad_data(X_test, max_length)\n",
    "y_test_padded = pad_data(y_test, max_length)"
   ],
   "metadata": {
    "collapsed": false
   },
   "id": "529371ed3750c0c"
  },
  {
   "cell_type": "code",
   "execution_count": 8,
   "outputs": [
    {
     "name": "stdout",
     "output_type": "stream",
     "text": [
      "X_train_padded shape: (320, 46040, 194)\n",
      "y_train_padded shape: (320, 46040, 88)\n",
      "X_test_padded shape: (10, 46040, 194)\n",
      "y_test_padded shape: (10, 46040, 88)\n"
     ]
    }
   ],
   "source": [
    "print('X_train_padded shape:', X_train_padded.shape)\n",
    "print('y_train_padded shape:', y_train_padded.shape)\n",
    "print('X_test_padded shape:', X_test_padded.shape)\n",
    "print('y_test_padded shape:', y_test_padded.shape)"
   ],
   "metadata": {
    "collapsed": false,
    "ExecuteTime": {
     "end_time": "2023-11-27T18:47:47.482261600Z",
     "start_time": "2023-11-27T18:47:47.465262200Z"
    }
   },
   "id": "2e5cde6dc32183f9"
  },
  {
   "cell_type": "markdown",
   "source": [
    "#### Reshape data"
   ],
   "metadata": {
    "collapsed": false
   },
   "id": "f533a5b9451af8ee"
  },
  {
   "cell_type": "code",
   "execution_count": 9,
   "outputs": [],
   "source": [
    "X_train = X_train_padded.reshape(-1, X_train_padded.shape[2])\n",
    "y_train = y_train_padded.reshape(-1, 88)\n",
    "X_test = X_test_padded.reshape(-1, X_test_padded.shape[2])\n",
    "y_test = y_test_padded.reshape(-1, 88)"
   ],
   "metadata": {
    "collapsed": false,
    "ExecuteTime": {
     "end_time": "2023-11-27T18:47:47.919267400Z",
     "start_time": "2023-11-27T18:47:47.809267500Z"
    }
   },
   "id": "aa61b558d448a890"
  },
  {
   "cell_type": "code",
   "execution_count": 10,
   "outputs": [
    {
     "name": "stdout",
     "output_type": "stream",
     "text": [
      "X_train shape: (14732800, 194)\n",
      "y_train shape: (14732800, 88)\n",
      "X_test shape: (460400, 194)\n",
      "y_test shape: (460400, 88)\n"
     ]
    }
   ],
   "source": [
    "print('X_train shape:', X_train.shape)\n",
    "print('y_train shape:', y_train.shape)\n",
    "print('X_test shape:', X_test.shape)\n",
    "print('y_test shape:', y_test.shape)"
   ],
   "metadata": {
    "collapsed": false,
    "ExecuteTime": {
     "end_time": "2023-11-27T18:47:47.944268900Z",
     "start_time": "2023-11-27T18:47:47.910267200Z"
    }
   },
   "id": "7ae6cac10440ebce"
  },
  {
   "cell_type": "markdown",
   "source": [
    "#### Save preprocessed data"
   ],
   "metadata": {
    "collapsed": false
   },
   "id": "1458a83932bd42a4"
  },
  {
   "cell_type": "code",
   "execution_count": 11,
   "outputs": [
    {
     "name": "stdout",
     "output_type": "stream",
     "text": [
      "Starting to save preprocessed data...\n",
      "Data successfully saved to ../Data/processed/stft/frame_size_2048/train.h5\n",
      "Starting to save preprocessed data...\n",
      "Data successfully saved to ../Data/processed/stft/frame_size_2048/test.h5\n"
     ]
    }
   ],
   "source": [
    "save_preprocessed_data(X_train, y_train, '../Data/processed/stft/frame_size_2048/', 'train.h5')\n",
    "save_preprocessed_data(X_test, y_test, '../Data/processed/stft/frame_size_2048/', 'test.h5')"
   ],
   "metadata": {
    "collapsed": false,
    "ExecuteTime": {
     "end_time": "2023-11-27T18:48:16.062272400Z",
     "start_time": "2023-11-27T18:47:47.910267200Z"
    }
   },
   "id": "769649474f04e0e5"
  }
 ],
 "metadata": {
  "kernelspec": {
   "display_name": "Python 3",
   "language": "python",
   "name": "python3"
  },
  "language_info": {
   "codemirror_mode": {
    "name": "ipython",
    "version": 2
   },
   "file_extension": ".py",
   "mimetype": "text/x-python",
   "name": "python",
   "nbconvert_exporter": "python",
   "pygments_lexer": "ipython2",
   "version": "2.7.6"
  }
 },
 "nbformat": 4,
 "nbformat_minor": 5
}
