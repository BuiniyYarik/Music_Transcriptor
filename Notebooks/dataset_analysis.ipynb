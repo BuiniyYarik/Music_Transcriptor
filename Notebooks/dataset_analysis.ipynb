{
 "cells": [
  {
   "cell_type": "code",
   "execution_count": 1,
   "id": "initial_id",
   "metadata": {
    "collapsed": true,
    "ExecuteTime": {
     "end_time": "2023-11-27T20:02:52.087204900Z",
     "start_time": "2023-11-27T20:02:51.979204700Z"
    }
   },
   "outputs": [],
   "source": [
    "import numpy as np"
   ]
  },
  {
   "cell_type": "code",
   "execution_count": 2,
   "outputs": [],
   "source": [
    "from src.preprocessing.data_utils import load_preprocessed_data\n",
    "from src.preprocessing.data_utils import save_preprocessed_data\n",
    "from src.preprocessing.data_preprocessing import generate_note_with_instrument_labels\n",
    "from src.preprocessing.data_preprocessing import calculate_cqt_stats\n",
    "from src.preprocessing.data_preprocessing import process_files_using_cqt\n",
    "from src.preprocessing.data_preprocessing import calculate_stft_stats\n",
    "from src.preprocessing.data_preprocessing import process_files_using_stft"
   ],
   "metadata": {
    "collapsed": false,
    "ExecuteTime": {
     "end_time": "2023-11-27T20:02:55.767429Z",
     "start_time": "2023-11-27T20:02:54.909411600Z"
    }
   },
   "id": "5f490e2275b06e0a"
  },
  {
   "cell_type": "code",
   "execution_count": 7,
   "outputs": [],
   "source": [
    "train_data_dir = \"../Data/processed/final_data/cqt_bins_24\"\n",
    "train_labels_dir = \"../Data/processed/final_data/cqt_bins_24\""
   ],
   "metadata": {
    "collapsed": false,
    "ExecuteTime": {
     "end_time": "2023-11-27T20:03:47.418557600Z",
     "start_time": "2023-11-27T20:03:47.404559Z"
    }
   },
   "id": "a00e849e9385028b"
  },
  {
   "cell_type": "code",
   "execution_count": 8,
   "outputs": [
    {
     "name": "stderr",
     "output_type": "stream",
     "text": [
      "Calculating STFT stats: 2it [00:00, ?it/s]                   \n"
     ]
    },
    {
     "ename": "TypeError",
     "evalue": "unsupported operand type(s) for /: 'NoneType' and 'int'",
     "output_type": "error",
     "traceback": [
      "\u001B[1;31m---------------------------------------------------------------------------\u001B[0m",
      "\u001B[1;31mTypeError\u001B[0m                                 Traceback (most recent call last)",
      "Cell \u001B[1;32mIn[8], line 1\u001B[0m\n\u001B[1;32m----> 1\u001B[0m train_mean, train_std_dev \u001B[38;5;241m=\u001B[39m \u001B[43mcalculate_stft_stats\u001B[49m\u001B[43m(\u001B[49m\u001B[43mtrain_data_dir\u001B[49m\u001B[43m,\u001B[49m\u001B[43m \u001B[49m\u001B[43mdata_size\u001B[49m\u001B[38;5;241;43m=\u001B[39;49m\u001B[38;5;241;43m1\u001B[39;49m\u001B[43m)\u001B[49m\n\u001B[0;32m      2\u001B[0m X_train, y_train \u001B[38;5;241m=\u001B[39m process_files_using_stft(train_data_dir, train_labels_dir, generate_note_with_instrument_labels, mean\u001B[38;5;241m=\u001B[39mtrain_mean, std\u001B[38;5;241m=\u001B[39mtrain_std_dev, data_size\u001B[38;5;241m=\u001B[39m\u001B[38;5;241m1\u001B[39m)\n",
      "File \u001B[1;32m~\\DataspellProjects\\Music_Transcriptor\\src\\preprocessing\\data_preprocessing.py:82\u001B[0m, in \u001B[0;36mcalculate_stft_stats\u001B[1;34m(data_dir, frame_size, overlap_fac, data_size)\u001B[0m\n\u001B[0;32m     79\u001B[0m         count \u001B[38;5;241m+\u001B[39m\u001B[38;5;241m=\u001B[39m sfft\u001B[38;5;241m.\u001B[39mshape[\u001B[38;5;241m0\u001B[39m]\n\u001B[0;32m     80\u001B[0m         num_file_processed \u001B[38;5;241m+\u001B[39m\u001B[38;5;241m=\u001B[39m \u001B[38;5;241m1\u001B[39m\n\u001B[1;32m---> 82\u001B[0m mean \u001B[38;5;241m=\u001B[39m \u001B[43msum_\u001B[49m\u001B[43m \u001B[49m\u001B[38;5;241;43m/\u001B[39;49m\u001B[43m \u001B[49m\u001B[43mcount\u001B[49m\n\u001B[0;32m     83\u001B[0m variance \u001B[38;5;241m=\u001B[39m (sum_of_squares \u001B[38;5;241m-\u001B[39m (sum_ \u001B[38;5;241m*\u001B[39m\u001B[38;5;241m*\u001B[39m \u001B[38;5;241m2\u001B[39m) \u001B[38;5;241m/\u001B[39m count) \u001B[38;5;241m/\u001B[39m count\n\u001B[0;32m     84\u001B[0m std_dev \u001B[38;5;241m=\u001B[39m np\u001B[38;5;241m.\u001B[39msqrt(variance)\n",
      "\u001B[1;31mTypeError\u001B[0m: unsupported operand type(s) for /: 'NoneType' and 'int'"
     ]
    }
   ],
   "source": [
    "train_mean, train_std_dev = calculate_stft_stats(train_data_dir, data_size=1)\n",
    "X_train, y_train = process_files_using_stft(train_data_dir, train_labels_dir, generate_note_with_instrument_labels, mean=train_mean, std=train_std_dev, data_size=1)"
   ],
   "metadata": {
    "collapsed": false,
    "ExecuteTime": {
     "end_time": "2023-11-27T20:03:47.869576100Z",
     "start_time": "2023-11-27T20:03:47.838574900Z"
    }
   },
   "id": "7edec305f4c4e0c6"
  },
  {
   "cell_type": "code",
   "execution_count": 12,
   "outputs": [],
   "source": [
    "def transform_spectrogram_row(data, row_index, num_rows=5):\n",
    "    \"\"\"\n",
    "    Transforms a specified spectrogram row into a multi-row image by combining it with its neighboring rows.\n",
    "    \n",
    "    Parameters:\n",
    "    data (np.array): Input data (2D array where each row is a time window of the spectrogram)\n",
    "    row_index (int): Index of the row to be transformed\n",
    "    num_rows (int): Total number of rows in the resulting image (including the target row and its neighbors)\n",
    "\n",
    "    Returns:\n",
    "    np.array: Transformed image (2D array)\n",
    "    \"\"\"\n",
    "    if num_rows % 2 == 0:\n",
    "        raise ValueError(\"num_rows must be an odd number.\")\n",
    "\n",
    "    middle_index = num_rows // 2\n",
    "    num_columns = data.shape[1]  # Number of columns in the input data\n",
    "    transformed_row = np.zeros((num_rows, num_columns))\n",
    "\n",
    "    for i in range(num_rows):\n",
    "        current_row_index = row_index + i - middle_index\n",
    "        if 0 <= current_row_index < len(data):\n",
    "            transformed_row[i, :] = data[current_row_index]\n",
    "        else:\n",
    "            # If the current_row_index is out of bounds, it remains filled with zeros.\n",
    "            pass\n",
    "\n",
    "    return transformed_row"
   ],
   "metadata": {
    "collapsed": false,
    "ExecuteTime": {
     "end_time": "2023-11-27T20:06:00.290135300Z",
     "start_time": "2023-11-27T20:06:00.280139200Z"
    }
   },
   "id": "c2bbb70e61693884"
  },
  {
   "cell_type": "code",
   "execution_count": null,
   "outputs": [],
   "source": [],
   "metadata": {
    "collapsed": false
   },
   "id": "58be81b659549745"
  },
  {
   "cell_type": "code",
   "execution_count": null,
   "outputs": [],
   "source": [
    "print(X_train_transformed.shape)"
   ],
   "metadata": {
    "collapsed": false
   },
   "id": "15536a0b8523cb9f"
  },
  {
   "cell_type": "code",
   "execution_count": 7,
   "outputs": [
    {
     "name": "stdout",
     "output_type": "stream",
     "text": [
      "1\n",
      "22822\n",
      "22822\n"
     ]
    }
   ],
   "source": [
    "# Count how many 0 and 1 in y\n",
    "total = 0\n",
    "print(len(y_train))\n",
    "for i in range(len(y_train)):\n",
    "    total += np.sum(y_train[i])\n",
    "    if i % 10**6 == 0:\n",
    "        print(total)\n",
    "print(total)"
   ],
   "metadata": {
    "collapsed": false,
    "ExecuteTime": {
     "end_time": "2023-11-27T19:09:56.868276600Z",
     "start_time": "2023-11-27T19:09:56.856276500Z"
    }
   },
   "id": "58fad645b1c56e02"
  },
  {
   "cell_type": "code",
   "execution_count": 9,
   "outputs": [
    {
     "name": "stdout",
     "output_type": "stream",
     "text": [
      "Starting to save preprocessed data...\n",
      "Data successfully saved to ../Data/test_tmp/saved\\train.h5\n"
     ]
    }
   ],
   "source": [
    "save_preprocessed_data(X_train, y_train, \"../Data/test_tmp/saved\", \"train.h5\")"
   ],
   "metadata": {
    "collapsed": false,
    "ExecuteTime": {
     "end_time": "2023-11-27T18:12:22.716901400Z",
     "start_time": "2023-11-27T18:12:22.674900500Z"
    }
   },
   "id": "e8981abfaed08274"
  },
  {
   "cell_type": "code",
   "execution_count": 10,
   "outputs": [],
   "source": [
    "X_new, y_new = load_preprocessed_data(\"../Data/test_tmp/saved\", \"train.h5\")"
   ],
   "metadata": {
    "collapsed": false,
    "ExecuteTime": {
     "end_time": "2023-11-27T18:13:07.261349500Z",
     "start_time": "2023-11-27T18:13:07.236350300Z"
    }
   },
   "id": "fcfbe466a7b2cccc"
  },
  {
   "cell_type": "code",
   "execution_count": 11,
   "outputs": [
    {
     "name": "stdout",
     "output_type": "stream",
     "text": [
      "1\n",
      "22822\n",
      "22822\n"
     ]
    }
   ],
   "source": [
    "# Count how many 0 and 1 in y_new\n",
    "total = 0\n",
    "print(len(y_new))\n",
    "for i in range(len(y_new)):\n",
    "    total += np.sum(y_new[i])\n",
    "    if i % 10**6 == 0:\n",
    "        print(total)\n",
    "print(total)"
   ],
   "metadata": {
    "collapsed": false,
    "ExecuteTime": {
     "end_time": "2023-11-27T18:13:08.698737300Z",
     "start_time": "2023-11-27T18:13:08.693737200Z"
    }
   },
   "id": "d8197b4658635d38"
  },
  {
   "cell_type": "code",
   "execution_count": 9,
   "outputs": [],
   "source": [
    "X, y = load_preprocessed_data(\"../Data/processed/final_data/cqt_bins_24\", \"train.h5\")"
   ],
   "metadata": {
    "collapsed": false,
    "ExecuteTime": {
     "end_time": "2023-11-27T20:05:31.267783400Z",
     "start_time": "2023-11-27T20:04:50.903679700Z"
    }
   },
   "id": "a3f6bf0ea365ecd6"
  },
  {
   "cell_type": "code",
   "execution_count": 10,
   "outputs": [
    {
     "data": {
      "text/plain": "(168,)"
     },
     "execution_count": 10,
     "metadata": {},
     "output_type": "execute_result"
    }
   ],
   "source": [
    "X[0].shape"
   ],
   "metadata": {
    "collapsed": false,
    "ExecuteTime": {
     "end_time": "2023-11-27T20:05:36.301887600Z",
     "start_time": "2023-11-27T20:05:36.268887800Z"
    }
   },
   "id": "fea9aa6a2e66bdc3"
  },
  {
   "cell_type": "code",
   "execution_count": 14,
   "outputs": [
    {
     "name": "stdout",
     "output_type": "stream",
     "text": [
      "(11, 168)\n"
     ]
    }
   ],
   "source": [
    "X_train_transformed = transform_spectrogram_row(X, 0, num_rows=11)\n",
    "print(X_train_transformed.shape)"
   ],
   "metadata": {
    "collapsed": false,
    "ExecuteTime": {
     "end_time": "2023-11-27T20:06:19.604280200Z",
     "start_time": "2023-11-27T20:06:19.587279400Z"
    }
   },
   "id": "a379b4559114a5ef"
  },
  {
   "cell_type": "code",
   "execution_count": 7,
   "outputs": [
    {
     "name": "stdout",
     "output_type": "stream",
     "text": [
      "14732800\n",
      "0\n",
      "1539574\n",
      "2818211\n",
      "3841920\n",
      "5363460\n",
      "6764760\n",
      "7094242\n",
      "7439390\n",
      "8341165\n",
      "9504707\n",
      "10793439\n",
      "11934067\n",
      "13104221\n",
      "14516343\n",
      "15578357\n",
      "16470462\n"
     ]
    }
   ],
   "source": [
    "# Count how many 0 and 1 in y\n",
    "total = 0\n",
    "print(len(y))\n",
    "for i in range(len(y)):\n",
    "    total += np.sum(y[i])\n",
    "    if i % 10**6 == 0:\n",
    "        print(total)\n",
    "print(total)"
   ],
   "metadata": {
    "collapsed": false,
    "ExecuteTime": {
     "end_time": "2023-11-27T18:18:09.024192600Z",
     "start_time": "2023-11-27T18:17:31.781560700Z"
    }
   },
   "id": "8708824b377f11d0"
  },
  {
   "cell_type": "code",
   "execution_count": 4,
   "outputs": [
    {
     "ename": "BadZipFile",
     "evalue": "File is not a zip file",
     "output_type": "error",
     "traceback": [
      "\u001B[1;31m---------------------------------------------------------------------------\u001B[0m",
      "\u001B[1;31mBadZipFile\u001B[0m                                Traceback (most recent call last)",
      "Cell \u001B[1;32mIn[4], line 1\u001B[0m\n\u001B[1;32m----> 1\u001B[0m data \u001B[38;5;241m=\u001B[39m \u001B[43mnp\u001B[49m\u001B[38;5;241;43m.\u001B[39;49m\u001B[43mload\u001B[49m\u001B[43m(\u001B[49m\u001B[38;5;124;43m\"\u001B[39;49m\u001B[38;5;124;43m../Data/musicnet.npz\u001B[39;49m\u001B[38;5;124;43m\"\u001B[39;49m\u001B[43m,\u001B[49m\u001B[43m \u001B[49m\u001B[43mencoding\u001B[49m\u001B[38;5;241;43m=\u001B[39;49m\u001B[38;5;124;43m\"\u001B[39;49m\u001B[38;5;124;43mlatin1\u001B[39;49m\u001B[38;5;124;43m\"\u001B[39;49m\u001B[43m,\u001B[49m\u001B[43m \u001B[49m\u001B[43mallow_pickle\u001B[49m\u001B[38;5;241;43m=\u001B[39;49m\u001B[38;5;28;43;01mTrue\u001B[39;49;00m\u001B[43m)\u001B[49m\n\u001B[0;32m      3\u001B[0m \u001B[38;5;28;01mfor\u001B[39;00m file \u001B[38;5;129;01min\u001B[39;00m data\u001B[38;5;241m.\u001B[39mfiles:\n\u001B[0;32m      4\u001B[0m     \u001B[38;5;28mprint\u001B[39m(file)\n",
      "File \u001B[1;32m~\\AppData\\Roaming\\Python\\Python310\\site-packages\\numpy\\lib\\npyio.py:444\u001B[0m, in \u001B[0;36mload\u001B[1;34m(file, mmap_mode, allow_pickle, fix_imports, encoding, max_header_size)\u001B[0m\n\u001B[0;32m    440\u001B[0m \u001B[38;5;28;01mif\u001B[39;00m magic\u001B[38;5;241m.\u001B[39mstartswith(_ZIP_PREFIX) \u001B[38;5;129;01mor\u001B[39;00m magic\u001B[38;5;241m.\u001B[39mstartswith(_ZIP_SUFFIX):\n\u001B[0;32m    441\u001B[0m     \u001B[38;5;66;03m# zip-file (assume .npz)\u001B[39;00m\n\u001B[0;32m    442\u001B[0m     \u001B[38;5;66;03m# Potentially transfer file ownership to NpzFile\u001B[39;00m\n\u001B[0;32m    443\u001B[0m     stack\u001B[38;5;241m.\u001B[39mpop_all()\n\u001B[1;32m--> 444\u001B[0m     ret \u001B[38;5;241m=\u001B[39m \u001B[43mNpzFile\u001B[49m\u001B[43m(\u001B[49m\u001B[43mfid\u001B[49m\u001B[43m,\u001B[49m\u001B[43m \u001B[49m\u001B[43mown_fid\u001B[49m\u001B[38;5;241;43m=\u001B[39;49m\u001B[43mown_fid\u001B[49m\u001B[43m,\u001B[49m\u001B[43m \u001B[49m\u001B[43mallow_pickle\u001B[49m\u001B[38;5;241;43m=\u001B[39;49m\u001B[43mallow_pickle\u001B[49m\u001B[43m,\u001B[49m\n\u001B[0;32m    445\u001B[0m \u001B[43m                  \u001B[49m\u001B[43mpickle_kwargs\u001B[49m\u001B[38;5;241;43m=\u001B[39;49m\u001B[43mpickle_kwargs\u001B[49m\u001B[43m,\u001B[49m\n\u001B[0;32m    446\u001B[0m \u001B[43m                  \u001B[49m\u001B[43mmax_header_size\u001B[49m\u001B[38;5;241;43m=\u001B[39;49m\u001B[43mmax_header_size\u001B[49m\u001B[43m)\u001B[49m\n\u001B[0;32m    447\u001B[0m     \u001B[38;5;28;01mreturn\u001B[39;00m ret\n\u001B[0;32m    448\u001B[0m \u001B[38;5;28;01melif\u001B[39;00m magic \u001B[38;5;241m==\u001B[39m \u001B[38;5;28mformat\u001B[39m\u001B[38;5;241m.\u001B[39mMAGIC_PREFIX:\n\u001B[0;32m    449\u001B[0m     \u001B[38;5;66;03m# .npy file\u001B[39;00m\n",
      "File \u001B[1;32m~\\AppData\\Roaming\\Python\\Python310\\site-packages\\numpy\\lib\\npyio.py:190\u001B[0m, in \u001B[0;36mNpzFile.__init__\u001B[1;34m(self, fid, own_fid, allow_pickle, pickle_kwargs, max_header_size)\u001B[0m\n\u001B[0;32m    185\u001B[0m \u001B[38;5;28;01mdef\u001B[39;00m \u001B[38;5;21m__init__\u001B[39m(\u001B[38;5;28mself\u001B[39m, fid, own_fid\u001B[38;5;241m=\u001B[39m\u001B[38;5;28;01mFalse\u001B[39;00m, allow_pickle\u001B[38;5;241m=\u001B[39m\u001B[38;5;28;01mFalse\u001B[39;00m,\n\u001B[0;32m    186\u001B[0m              pickle_kwargs\u001B[38;5;241m=\u001B[39m\u001B[38;5;28;01mNone\u001B[39;00m, \u001B[38;5;241m*\u001B[39m,\n\u001B[0;32m    187\u001B[0m              max_header_size\u001B[38;5;241m=\u001B[39m\u001B[38;5;28mformat\u001B[39m\u001B[38;5;241m.\u001B[39m_MAX_HEADER_SIZE):\n\u001B[0;32m    188\u001B[0m     \u001B[38;5;66;03m# Import is postponed to here since zipfile depends on gzip, an\u001B[39;00m\n\u001B[0;32m    189\u001B[0m     \u001B[38;5;66;03m# optional component of the so-called standard library.\u001B[39;00m\n\u001B[1;32m--> 190\u001B[0m     _zip \u001B[38;5;241m=\u001B[39m \u001B[43mzipfile_factory\u001B[49m\u001B[43m(\u001B[49m\u001B[43mfid\u001B[49m\u001B[43m)\u001B[49m\n\u001B[0;32m    191\u001B[0m     \u001B[38;5;28mself\u001B[39m\u001B[38;5;241m.\u001B[39m_files \u001B[38;5;241m=\u001B[39m _zip\u001B[38;5;241m.\u001B[39mnamelist()\n\u001B[0;32m    192\u001B[0m     \u001B[38;5;28mself\u001B[39m\u001B[38;5;241m.\u001B[39mfiles \u001B[38;5;241m=\u001B[39m []\n",
      "File \u001B[1;32m~\\AppData\\Roaming\\Python\\Python310\\site-packages\\numpy\\lib\\npyio.py:103\u001B[0m, in \u001B[0;36mzipfile_factory\u001B[1;34m(file, *args, **kwargs)\u001B[0m\n\u001B[0;32m    101\u001B[0m \u001B[38;5;28;01mimport\u001B[39;00m \u001B[38;5;21;01mzipfile\u001B[39;00m\n\u001B[0;32m    102\u001B[0m kwargs[\u001B[38;5;124m'\u001B[39m\u001B[38;5;124mallowZip64\u001B[39m\u001B[38;5;124m'\u001B[39m] \u001B[38;5;241m=\u001B[39m \u001B[38;5;28;01mTrue\u001B[39;00m\n\u001B[1;32m--> 103\u001B[0m \u001B[38;5;28;01mreturn\u001B[39;00m zipfile\u001B[38;5;241m.\u001B[39mZipFile(file, \u001B[38;5;241m*\u001B[39margs, \u001B[38;5;241m*\u001B[39m\u001B[38;5;241m*\u001B[39mkwargs)\n",
      "File \u001B[1;32m~\\anaconda3\\envs\\torch_gpu\\lib\\zipfile.py:1269\u001B[0m, in \u001B[0;36mZipFile.__init__\u001B[1;34m(self, file, mode, compression, allowZip64, compresslevel, strict_timestamps)\u001B[0m\n\u001B[0;32m   1267\u001B[0m \u001B[38;5;28;01mtry\u001B[39;00m:\n\u001B[0;32m   1268\u001B[0m     \u001B[38;5;28;01mif\u001B[39;00m mode \u001B[38;5;241m==\u001B[39m \u001B[38;5;124m'\u001B[39m\u001B[38;5;124mr\u001B[39m\u001B[38;5;124m'\u001B[39m:\n\u001B[1;32m-> 1269\u001B[0m         \u001B[38;5;28;43mself\u001B[39;49m\u001B[38;5;241;43m.\u001B[39;49m\u001B[43m_RealGetContents\u001B[49m\u001B[43m(\u001B[49m\u001B[43m)\u001B[49m\n\u001B[0;32m   1270\u001B[0m     \u001B[38;5;28;01melif\u001B[39;00m mode \u001B[38;5;129;01min\u001B[39;00m (\u001B[38;5;124m'\u001B[39m\u001B[38;5;124mw\u001B[39m\u001B[38;5;124m'\u001B[39m, \u001B[38;5;124m'\u001B[39m\u001B[38;5;124mx\u001B[39m\u001B[38;5;124m'\u001B[39m):\n\u001B[0;32m   1271\u001B[0m         \u001B[38;5;66;03m# set the modified flag so central directory gets written\u001B[39;00m\n\u001B[0;32m   1272\u001B[0m         \u001B[38;5;66;03m# even if no files are added to the archive\u001B[39;00m\n\u001B[0;32m   1273\u001B[0m         \u001B[38;5;28mself\u001B[39m\u001B[38;5;241m.\u001B[39m_didModify \u001B[38;5;241m=\u001B[39m \u001B[38;5;28;01mTrue\u001B[39;00m\n",
      "File \u001B[1;32m~\\anaconda3\\envs\\torch_gpu\\lib\\zipfile.py:1336\u001B[0m, in \u001B[0;36mZipFile._RealGetContents\u001B[1;34m(self)\u001B[0m\n\u001B[0;32m   1334\u001B[0m     \u001B[38;5;28;01mraise\u001B[39;00m BadZipFile(\u001B[38;5;124m\"\u001B[39m\u001B[38;5;124mFile is not a zip file\u001B[39m\u001B[38;5;124m\"\u001B[39m)\n\u001B[0;32m   1335\u001B[0m \u001B[38;5;28;01mif\u001B[39;00m \u001B[38;5;129;01mnot\u001B[39;00m endrec:\n\u001B[1;32m-> 1336\u001B[0m     \u001B[38;5;28;01mraise\u001B[39;00m BadZipFile(\u001B[38;5;124m\"\u001B[39m\u001B[38;5;124mFile is not a zip file\u001B[39m\u001B[38;5;124m\"\u001B[39m)\n\u001B[0;32m   1337\u001B[0m \u001B[38;5;28;01mif\u001B[39;00m \u001B[38;5;28mself\u001B[39m\u001B[38;5;241m.\u001B[39mdebug \u001B[38;5;241m>\u001B[39m \u001B[38;5;241m1\u001B[39m:\n\u001B[0;32m   1338\u001B[0m     \u001B[38;5;28mprint\u001B[39m(endrec)\n",
      "\u001B[1;31mBadZipFile\u001B[0m: File is not a zip file"
     ]
    }
   ],
   "source": [
    "data = np.load(\"../Data/musicnet.npz\", encoding=\"latin1\", allow_pickle=True)\n",
    "\n",
    "for file in data.files:\n",
    "    print(file)\n",
    "    print(data[file][0].shape)\n",
    "    print(data[file][0])\n",
    "    print(data[file][1])\n",
    "    break"
   ],
   "metadata": {
    "collapsed": false,
    "ExecuteTime": {
     "end_time": "2023-11-21T15:01:24.754177600Z",
     "start_time": "2023-11-21T15:01:24.631177900Z"
    }
   },
   "id": "9dd215d4f3a747f0"
  },
  {
   "cell_type": "code",
   "execution_count": null,
   "outputs": [],
   "source": [
    "file = data.files[0]\n",
    "X = data[file][0]\n",
    "print(file)\n",
    "print(len(X))"
   ],
   "metadata": {
    "collapsed": false,
    "ExecuteTime": {
     "start_time": "2023-11-21T15:01:24.755177600Z"
    }
   },
   "id": "83ea21be8dd2e4f2"
  },
  {
   "cell_type": "code",
   "execution_count": null,
   "outputs": [],
   "source": [
    "file = data.files[0]\n",
    "labels = data[file][1]\n",
    "for label in labels:\n",
    "    print(label[0])\n",
    "    print(label[1])\n",
    "    print(label[2][0])\n",
    "    break"
   ],
   "metadata": {
    "collapsed": false,
    "ExecuteTime": {
     "end_time": "2023-11-21T15:01:24.756177900Z",
     "start_time": "2023-11-21T15:01:24.755177600Z"
    }
   },
   "id": "18543612f44c1a66"
  },
  {
   "cell_type": "code",
   "execution_count": null,
   "outputs": [],
   "source": [
    "import pandas as pd\n",
    "import os"
   ],
   "metadata": {
    "collapsed": false,
    "ExecuteTime": {
     "start_time": "2023-11-21T15:01:24.756177900Z"
    }
   },
   "id": "3f73a5bf054e89a5"
  },
  {
   "cell_type": "code",
   "execution_count": null,
   "outputs": [],
   "source": [
    "instruments_set = set()\n",
    "for file in os.listdir(\"musicnet/test_labels\"):\n",
    "    data = pd.read_csv(\"musicnet/test_labels/\" + file)\n",
    "    instruments_set = instruments_set.union(set(data[\"instrument\"].unique()))\n",
    "\n",
    "for file in os.listdir(\"musicnet/train_labels\"):\n",
    "    data = pd.read_csv(\"musicnet/train_labels/\" + file)\n",
    "    instruments_set = instruments_set.union(set(data[\"instrument\"].unique()))\n",
    "        \n",
    "print(instruments_set)"
   ],
   "metadata": {
    "collapsed": false,
    "ExecuteTime": {
     "start_time": "2023-11-21T15:01:24.757178Z"
    }
   },
   "id": "27793fe112b02f54"
  },
  {
   "cell_type": "code",
   "execution_count": null,
   "outputs": [],
   "source": [
    "instruments_mapping = {}\n",
    "for i, instrument in enumerate(instruments_set):\n",
    "    instruments_mapping[instrument] = i"
   ],
   "metadata": {
    "collapsed": false,
    "ExecuteTime": {
     "start_time": "2023-11-21T15:01:24.758177900Z"
    }
   },
   "id": "13a53b1fec770062"
  },
  {
   "cell_type": "code",
   "execution_count": null,
   "outputs": [],
   "source": [
    "instruments_mapping = {\n",
    "    1: 0,\n",
    "    7: 1,\n",
    "    41: 2,\n",
    "    42: 3,\n",
    "    43: 4,\n",
    "    44: 5,\n",
    "    61: 6,\n",
    "    69: 7,\n",
    "    71: 8,\n",
    "    72: 9,\n",
    "    74: 10\n",
    "}"
   ],
   "metadata": {
    "collapsed": false,
    "ExecuteTime": {
     "end_time": "2023-11-21T15:01:24.762177300Z",
     "start_time": "2023-11-21T15:01:24.759178600Z"
    }
   },
   "id": "f3060727daef0966"
  },
  {
   "cell_type": "code",
   "execution_count": null,
   "outputs": [],
   "source": [
    "import numpy as np\n",
    "import librosa\n",
    "import librosa.display\n",
    "import matplotlib.pyplot as plt\n",
    "\n",
    "# Function to convert audio waveform to spectrogram\n",
    "def audio_to_spectrogram(audio, sr, hop_length=512, n_fft=2048):\n",
    "    # Compute the spectrogram\n",
    "    S = np.abs(librosa.cqt(audio, sr=sr, hop_length=hop_length, n_fft=n_fft)\n",
    "    # Convert to decibel scale\n",
    "    S_db = librosa.amplitude_to_db(S, ref=np.max)\n",
    "    return S_db\n",
    "\n",
    "# Example of processing a single audio file from the dataset\n",
    "def process_single_file(file_id, data):\n",
    "    audio_data = data[file_id][0]  # Raw audio waveform\n",
    "    sr = 44100  # Sample rate of the MusicNet dataset is 44.1 kHz\n",
    "\n",
    "    # Convert the raw audio to a spectrogram\n",
    "    S_db = audio_to_spectrogram(audio_data, sr)\n",
    "\n",
    "    # Plot the spectrogram\n",
    "    plt.figure(figsize=(14, 5))\n",
    "    librosa.display.specshow(S_db, sr=sr, x_axis='time', y_axis='log')\n",
    "    plt.colorbar(format='%+2.0f dB')\n",
    "    plt.title('Spectrogram')\n",
    "    plt.show()\n",
    "\n",
    "    return S_db\n",
    "\n",
    "\n",
    "npz_file_path = \"musicnet.npz\"\n",
    "data = np.load(npz_file_path, allow_pickle=True, encoding=\"latin1\")\n",
    "\n",
    "file_id = '1788' if '1788' in data.files else data.files[0]  # Use the first file if '1788' is not available\n",
    "spectrogram = process_single_file(file_id, data)"
   ],
   "metadata": {
    "collapsed": false,
    "ExecuteTime": {
     "start_time": "2023-11-21T15:01:24.760178300Z"
    }
   },
   "id": "44969fa7858abfa1"
  },
  {
   "cell_type": "code",
   "execution_count": null,
   "outputs": [],
   "source": [
    "from Data.preprocessing import DataPreprocessor\n",
    "\n",
    "preprocessor = DataPreprocessor(transform_type='fft', file_path=\"../Data/musicnet.npz\", metadata_path=\"../Data/musicnet_metadata.csv\")\n",
    "X, y = preprocessor.load_data()"
   ],
   "metadata": {
    "collapsed": false,
    "ExecuteTime": {
     "start_time": "2023-11-21T15:01:24.761177500Z"
    }
   },
   "id": "52b0fecc29218692"
  },
  {
   "cell_type": "code",
   "execution_count": null,
   "outputs": [],
   "source": [
    "import numpy as np"
   ],
   "metadata": {
    "collapsed": false,
    "ExecuteTime": {
     "end_time": "2023-11-21T15:01:24.762177300Z",
     "start_time": "2023-11-21T15:01:24.762177300Z"
    }
   },
   "id": "99286b5f9f485379"
  },
  {
   "cell_type": "code",
   "execution_count": null,
   "outputs": [],
   "source": [
    "print(X[0].shape)"
   ],
   "metadata": {
    "collapsed": false,
    "ExecuteTime": {
     "start_time": "2023-11-21T15:01:24.763177300Z"
    }
   },
   "id": "53c3d69945c41a7a"
  },
  {
   "cell_type": "code",
   "execution_count": null,
   "outputs": [],
   "source": [
    "print(y.shape)"
   ],
   "metadata": {
    "collapsed": false,
    "ExecuteTime": {
     "start_time": "2023-11-21T15:01:24.763177300Z"
    }
   },
   "id": "dc7c00074d8a6bef"
  },
  {
   "cell_type": "code",
   "execution_count": null,
   "outputs": [],
   "source": [
    "print(y[0].shape)"
   ],
   "metadata": {
    "collapsed": false,
    "ExecuteTime": {
     "start_time": "2023-11-21T15:01:24.764177600Z"
    }
   },
   "id": "2dcbc50ada53523"
  },
  {
   "cell_type": "code",
   "execution_count": null,
   "outputs": [],
   "source": [
    "max_value = -np.inf\n",
    "for i in range(len(X)):\n",
    "    max_value = max(max_value, np.max(X[i]))\n",
    "print(max_value)"
   ],
   "metadata": {
    "collapsed": false,
    "ExecuteTime": {
     "start_time": "2023-11-21T15:01:24.765178400Z"
    }
   },
   "id": "4fd0d46b6f5dde80"
  },
  {
   "cell_type": "code",
   "execution_count": null,
   "outputs": [],
   "source": [],
   "metadata": {
    "collapsed": false,
    "ExecuteTime": {
     "start_time": "2023-11-21T15:01:24.765178400Z"
    }
   },
   "id": "622708afb8aa9666"
  }
 ],
 "metadata": {
  "kernelspec": {
   "display_name": "Python 3",
   "language": "python",
   "name": "python3"
  },
  "language_info": {
   "codemirror_mode": {
    "name": "ipython",
    "version": 2
   },
   "file_extension": ".py",
   "mimetype": "text/x-python",
   "name": "python",
   "nbconvert_exporter": "python",
   "pygments_lexer": "ipython2",
   "version": "2.7.6"
  }
 },
 "nbformat": 4,
 "nbformat_minor": 5
}
