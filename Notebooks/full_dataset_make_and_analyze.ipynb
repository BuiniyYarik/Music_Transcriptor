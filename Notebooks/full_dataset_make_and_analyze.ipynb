{
 "cells": [
  {
   "cell_type": "markdown",
   "source": [
    "## Analyze data preprocessed using Constant-Q Transform and create several preprocessed datasets with different hyperparameters (in particular, different number of frequency bins per octave)"
   ],
   "metadata": {
    "collapsed": false
   },
   "id": "d8565649cb89e076"
  },
  {
   "cell_type": "code",
   "execution_count": 1,
   "outputs": [],
   "source": [
    "from src.preprocessing.data_preprocessing import generate_note_with_instrument_labels\n",
    "from src.preprocessing.data_preprocessing import calculate_cqt_stats\n",
    "from src.preprocessing.data_preprocessing import process_files_using_cqt\n",
    "from src.preprocessing.data_preprocessing import calculate_stft_stats\n",
    "from src.preprocessing.data_preprocessing import process_files_using_stft"
   ],
   "metadata": {
    "collapsed": false,
    "ExecuteTime": {
     "end_time": "2023-11-28T11:19:50.226224300Z",
     "start_time": "2023-11-28T11:19:49.699224200Z"
    }
   },
   "id": "19667960768c3c71"
  },
  {
   "cell_type": "code",
   "execution_count": 2,
   "outputs": [],
   "source": [
    "from src.preprocessing.data_utils import find_max_length\n",
    "from src.preprocessing.data_utils import pad_data\n",
    "from src.preprocessing.data_utils import save_preprocessed_data"
   ],
   "metadata": {
    "collapsed": false,
    "ExecuteTime": {
     "end_time": "2023-11-28T11:19:50.287223300Z",
     "start_time": "2023-11-28T11:19:50.225224300Z"
    }
   },
   "id": "65a76ef72e651b7"
  },
  {
   "cell_type": "code",
   "execution_count": 3,
   "outputs": [],
   "source": [
    "import numpy as np"
   ],
   "metadata": {
    "collapsed": false,
    "ExecuteTime": {
     "end_time": "2023-11-28T11:19:50.303223500Z",
     "start_time": "2023-11-28T11:19:50.287223300Z"
    }
   },
   "id": "fde06939e53b5316"
  },
  {
   "cell_type": "code",
   "execution_count": 4,
   "outputs": [],
   "source": [
    "# Paths to the directories\n",
    "train_data_dir = '../Data/raw/musicnet/train_data'\n",
    "train_labels_dir = '../Data/raw/musicnet/train_labels'\n",
    "test_data_dir = '../Data/raw/musicnet/test_data'\n",
    "test_labels_dir = '../Data/raw/musicnet/test_labels'"
   ],
   "metadata": {
    "collapsed": false,
    "ExecuteTime": {
     "end_time": "2023-11-28T11:19:50.323223300Z",
     "start_time": "2023-11-28T11:19:50.304223800Z"
    }
   },
   "id": "7380e77e0cb61c1e"
  },
  {
   "cell_type": "markdown",
   "source": [
    "### Create preprocessed dataset with CQT frequency bins per octave = 24"
   ],
   "metadata": {
    "collapsed": false
   },
   "id": "7564371ba3305c11"
  },
  {
   "cell_type": "markdown",
   "source": [
    "#### Initially process audio files to spectrograms and generate labels"
   ],
   "metadata": {
    "collapsed": false
   },
   "id": "13f0bc529aeac4b"
  },
  {
   "cell_type": "code",
   "execution_count": 5,
   "outputs": [
    {
     "name": "stderr",
     "output_type": "stream",
     "text": [
      "Calculating CQT stats: 100%|██████████| 320/320 [02:44<00:00,  1.95it/s]\n",
      "Processing files in '../Data/raw/musicnet/train_data' and '../Data/raw/musicnet/train_labels': 100%|██████████| 320/320 [03:19<00:00,  1.60it/s]\n",
      "Calculating CQT stats: 100%|██████████| 10/10 [00:02<00:00,  4.62it/s]\n",
      "Processing files in '../Data/raw/musicnet/test_data' and '../Data/raw/musicnet/test_labels': 100%|██████████| 10/10 [00:02<00:00,  3.84it/s]\n"
     ]
    }
   ],
   "source": [
    "train_mean, train_std_dev = calculate_cqt_stats(train_data_dir, bins_per_octave=24, data_size=320)\n",
    "X_train, y_train = process_files_using_cqt(train_data_dir, train_labels_dir, generate_note_with_instrument_labels, mean=train_mean, std=train_std_dev, bins_per_octave=24, data_size=320)\n",
    "\n",
    "test_mean, test_std_dev = calculate_cqt_stats(test_data_dir, bins_per_octave=24, data_size=10)\n",
    "X_test, y_test = process_files_using_cqt(test_data_dir, test_labels_dir, generate_note_with_instrument_labels, mean=test_mean, std=test_std_dev, bins_per_octave=24, data_size=10)"
   ],
   "metadata": {
    "collapsed": false,
    "ExecuteTime": {
     "end_time": "2023-11-28T11:25:59.218352100Z",
     "start_time": "2023-11-28T11:19:50.321223800Z"
    }
   },
   "id": "ce9f882d5530ebb4"
  },
  {
   "cell_type": "code",
   "execution_count": 6,
   "outputs": [
    {
     "name": "stdout",
     "output_type": "stream",
     "text": [
      "Number of training examples: 320\n",
      "Number of training labels: 320\n",
      "X_train[0] shape: (19254, 168)\n",
      "y_train[0] shape: (19254, 1056)\n"
     ]
    }
   ],
   "source": [
    "print('Number of training examples:', len(X_train))\n",
    "print('Number of training labels:', len(y_train))\n",
    "print(f\"X_train[0] shape: {X_train[0].shape}\")\n",
    "print(f\"y_train[0] shape: {y_train[0].shape}\")"
   ],
   "metadata": {
    "collapsed": false,
    "ExecuteTime": {
     "end_time": "2023-11-28T11:25:59.242352300Z",
     "start_time": "2023-11-28T11:25:59.238351900Z"
    }
   },
   "id": "10208ed49149a3af"
  },
  {
   "cell_type": "markdown",
   "source": [
    "#### Pad data to the same length"
   ],
   "metadata": {
    "collapsed": false
   },
   "id": "a79a035ae5cf7882"
  },
  {
   "cell_type": "code",
   "execution_count": 7,
   "outputs": [
    {
     "name": "stdout",
     "output_type": "stream",
     "text": [
      "Max length: 46040\n"
     ]
    }
   ],
   "source": [
    "max_length = max(find_max_length(X_train), find_max_length(X_test))\n",
    "print('Max length:', max_length)"
   ],
   "metadata": {
    "collapsed": false,
    "ExecuteTime": {
     "end_time": "2023-11-28T11:25:59.257352300Z",
     "start_time": "2023-11-28T11:25:59.244352300Z"
    }
   },
   "id": "8a82e1197b7b61ab"
  },
  {
   "cell_type": "code",
   "execution_count": 8,
   "outputs": [],
   "source": [
    "X_train_padded = pad_data(X_train, max_length)\n",
    "y_train_padded = pad_data(y_train, max_length, return_type=np.int8)\n",
    "X_test_padded = pad_data(X_test, max_length)\n",
    "y_test_padded = pad_data(y_test, max_length, return_type=np.int8)"
   ],
   "metadata": {
    "collapsed": false,
    "ExecuteTime": {
     "end_time": "2023-11-28T11:28:50.760460400Z",
     "start_time": "2023-11-28T11:25:59.258352100Z"
    }
   },
   "id": "64f8ba7f315e5d4"
  },
  {
   "cell_type": "code",
   "execution_count": 9,
   "outputs": [
    {
     "name": "stdout",
     "output_type": "stream",
     "text": [
      "X_train_padded shape: (320, 46040, 168)\n",
      "y_train_padded shape: (320, 46040, 1056)\n",
      "X_test_padded shape: (10, 46040, 168)\n",
      "y_test_padded shape: (10, 46040, 1056)\n"
     ]
    }
   ],
   "source": [
    "print('X_train_padded shape:', X_train_padded.shape)\n",
    "print('y_train_padded shape:', y_train_padded.shape)\n",
    "print('X_test_padded shape:', X_test_padded.shape)\n",
    "print('y_test_padded shape:', y_test_padded.shape)"
   ],
   "metadata": {
    "collapsed": false,
    "ExecuteTime": {
     "end_time": "2023-11-28T11:28:50.767460100Z",
     "start_time": "2023-11-28T11:28:50.759460100Z"
    }
   },
   "id": "97ad85c54406fb1b"
  },
  {
   "cell_type": "markdown",
   "source": [
    "#### Reshape data"
   ],
   "metadata": {
    "collapsed": false
   },
   "id": "34348da46e7bba1"
  },
  {
   "cell_type": "code",
   "execution_count": 10,
   "outputs": [],
   "source": [
    "X_train = X_train_padded.reshape(-1, X_train_padded.shape[2])\n",
    "y_train = y_train_padded.reshape(-1, 88 * 12)  # 88 notes * 11 instruments + 1 note was not played\n",
    "X_test = X_test_padded.reshape(-1, X_test_padded.shape[2])\n",
    "y_test = y_test_padded.reshape(-1, 88 * 12)  # 88 notes * 11 instruments + 1 note was not played"
   ],
   "metadata": {
    "collapsed": false,
    "ExecuteTime": {
     "end_time": "2023-11-28T11:28:51.393461Z",
     "start_time": "2023-11-28T11:28:50.770460600Z"
    }
   },
   "id": "da301527694b8456"
  },
  {
   "cell_type": "code",
   "execution_count": 11,
   "outputs": [
    {
     "name": "stdout",
     "output_type": "stream",
     "text": [
      "X_train shape: (14732800, 168)\n",
      "y_train shape: (14732800, 1056)\n",
      "X_test shape: (460400, 168)\n",
      "y_test shape: (460400, 1056)\n"
     ]
    }
   ],
   "source": [
    "print('X_train shape:', X_train.shape)\n",
    "print('y_train shape:', y_train.shape)\n",
    "print('X_test shape:', X_test.shape)\n",
    "print('y_test shape:', y_test.shape)"
   ],
   "metadata": {
    "collapsed": false,
    "ExecuteTime": {
     "end_time": "2023-11-28T11:28:51.410461Z",
     "start_time": "2023-11-28T11:28:51.395459500Z"
    }
   },
   "id": "5c3e826209411c3b"
  },
  {
   "cell_type": "markdown",
   "source": [
    "#### Save preprocessed data"
   ],
   "metadata": {
    "collapsed": false
   },
   "id": "5df19bd1f322f6f7"
  },
  {
   "cell_type": "code",
   "execution_count": 12,
   "outputs": [
    {
     "name": "stdout",
     "output_type": "stream",
     "text": [
      "Starting to save preprocessed data...\n",
      "Data successfully saved to ../Data/processed/final_data/cqt_bins_24/train.h5\n",
      "Starting to save preprocessed data...\n",
      "Data successfully saved to ../Data/processed/final_data/cqt_bins_24/test.h5\n"
     ]
    }
   ],
   "source": [
    "save_preprocessed_data(X_train, y_train, '../Data/processed/final_data/cqt_bins_24/', 'train.h5')\n",
    "save_preprocessed_data(X_test, y_test, '../Data/processed/final_data/cqt_bins_24/', 'test.h5')"
   ],
   "metadata": {
    "collapsed": false,
    "ExecuteTime": {
     "end_time": "2023-11-28T11:29:24.322272700Z",
     "start_time": "2023-11-28T11:28:51.412461300Z"
    }
   },
   "id": "22982ce2678a86ae"
  },
  {
   "cell_type": "markdown",
   "source": [
    "### Create preprocessed dataset with CQT frequency bins per octave = 36"
   ],
   "metadata": {
    "collapsed": false
   },
   "id": "ce67570ea4674866"
  },
  {
   "cell_type": "markdown",
   "source": [
    "#### Initially process audio files to spectrograms and generate labels"
   ],
   "metadata": {
    "collapsed": false
   },
   "id": "a52a2f7e99762a20"
  },
  {
   "cell_type": "code",
   "execution_count": 13,
   "outputs": [
    {
     "name": "stderr",
     "output_type": "stream",
     "text": [
      "Calculating CQT stats: 100%|██████████| 320/320 [05:08<00:00,  1.04it/s]\n",
      "Processing files in '../Data/raw/musicnet/train_data' and '../Data/raw/musicnet/train_labels':  52%|█████▏    | 166/320 [02:41<02:30,  1.03it/s]\n"
     ]
    },
    {
     "ename": "KeyboardInterrupt",
     "evalue": "",
     "output_type": "error",
     "traceback": [
      "\u001B[1;31m---------------------------------------------------------------------------\u001B[0m",
      "\u001B[1;31mKeyboardInterrupt\u001B[0m                         Traceback (most recent call last)",
      "Cell \u001B[1;32mIn[13], line 2\u001B[0m\n\u001B[0;32m      1\u001B[0m train_mean, train_std_dev \u001B[38;5;241m=\u001B[39m calculate_cqt_stats(train_data_dir, bins_per_octave\u001B[38;5;241m=\u001B[39m\u001B[38;5;241m36\u001B[39m, data_size\u001B[38;5;241m=\u001B[39m\u001B[38;5;241m320\u001B[39m)\n\u001B[1;32m----> 2\u001B[0m X_train, y_train \u001B[38;5;241m=\u001B[39m \u001B[43mprocess_files_using_cqt\u001B[49m\u001B[43m(\u001B[49m\u001B[43mtrain_data_dir\u001B[49m\u001B[43m,\u001B[49m\u001B[43m \u001B[49m\u001B[43mtrain_labels_dir\u001B[49m\u001B[43m,\u001B[49m\u001B[43m \u001B[49m\u001B[43mgenerate_note_with_instrument_labels\u001B[49m\u001B[43m,\u001B[49m\u001B[43m \u001B[49m\u001B[43mmean\u001B[49m\u001B[38;5;241;43m=\u001B[39;49m\u001B[43mtrain_mean\u001B[49m\u001B[43m,\u001B[49m\u001B[43m \u001B[49m\u001B[43mstd\u001B[49m\u001B[38;5;241;43m=\u001B[39;49m\u001B[43mtrain_std_dev\u001B[49m\u001B[43m,\u001B[49m\u001B[43m \u001B[49m\u001B[43mbins_per_octave\u001B[49m\u001B[38;5;241;43m=\u001B[39;49m\u001B[38;5;241;43m36\u001B[39;49m\u001B[43m,\u001B[49m\u001B[43m \u001B[49m\u001B[43mdata_size\u001B[49m\u001B[38;5;241;43m=\u001B[39;49m\u001B[38;5;241;43m320\u001B[39;49m\u001B[43m)\u001B[49m\n\u001B[0;32m      4\u001B[0m test_mean, test_std_dev \u001B[38;5;241m=\u001B[39m calculate_cqt_stats(test_data_dir, bins_per_octave\u001B[38;5;241m=\u001B[39m\u001B[38;5;241m36\u001B[39m, data_size\u001B[38;5;241m=\u001B[39m\u001B[38;5;241m10\u001B[39m)\n\u001B[0;32m      5\u001B[0m X_test, y_test \u001B[38;5;241m=\u001B[39m process_files_using_cqt(test_data_dir, test_labels_dir, generate_note_with_instrument_labels, mean\u001B[38;5;241m=\u001B[39mtest_mean, std\u001B[38;5;241m=\u001B[39mtest_std_dev, bins_per_octave\u001B[38;5;241m=\u001B[39m\u001B[38;5;241m36\u001B[39m, data_size\u001B[38;5;241m=\u001B[39m\u001B[38;5;241m10\u001B[39m)\n",
      "File \u001B[1;32m~\\DataspellProjects\\Music_Transcriptor\\src\\preprocessing\\data_preprocessing.py:296\u001B[0m, in \u001B[0;36mprocess_files_using_cqt\u001B[1;34m(data_dir, label_dir, preprocess_labels, frame_size, overlap_fac, bins_per_octave, n_octaves, sr, mean, std, data_size)\u001B[0m\n\u001B[0;32m    294\u001B[0m     \u001B[38;5;28;01mbreak\u001B[39;00m\n\u001B[0;32m    295\u001B[0m \u001B[38;5;28;01mif\u001B[39;00m file\u001B[38;5;241m.\u001B[39mendswith(\u001B[38;5;124m'\u001B[39m\u001B[38;5;124m.wav\u001B[39m\u001B[38;5;124m'\u001B[39m):\n\u001B[1;32m--> 296\u001B[0m     audio_processing \u001B[38;5;241m=\u001B[39m \u001B[43mgenerate_cqt\u001B[49m\u001B[43m(\u001B[49m\u001B[43mos\u001B[49m\u001B[38;5;241;43m.\u001B[39;49m\u001B[43mpath\u001B[49m\u001B[38;5;241;43m.\u001B[39;49m\u001B[43mjoin\u001B[49m\u001B[43m(\u001B[49m\u001B[43mdata_dir\u001B[49m\u001B[43m,\u001B[49m\u001B[43m \u001B[49m\u001B[43mfile\u001B[49m\u001B[43m)\u001B[49m\u001B[43m,\u001B[49m\u001B[43m \u001B[49m\u001B[43mframe_size\u001B[49m\u001B[43m,\u001B[49m\u001B[43m \u001B[49m\u001B[43moverlap_fac\u001B[49m\u001B[43m,\u001B[49m\u001B[43m \u001B[49m\u001B[43mbins_per_octave\u001B[49m\u001B[43m,\u001B[49m\n\u001B[0;32m    297\u001B[0m \u001B[43m                                    \u001B[49m\u001B[43mn_octaves\u001B[49m\u001B[43m,\u001B[49m\u001B[43m \u001B[49m\u001B[43mmean\u001B[49m\u001B[43m,\u001B[49m\u001B[43m \u001B[49m\u001B[43mstd\u001B[49m\u001B[43m)\u001B[49m\n\u001B[0;32m    298\u001B[0m     n_frames \u001B[38;5;241m=\u001B[39m audio_processing\u001B[38;5;241m.\u001B[39mshape[\u001B[38;5;241m0\u001B[39m]\n\u001B[0;32m    299\u001B[0m     label_file \u001B[38;5;241m=\u001B[39m os\u001B[38;5;241m.\u001B[39mpath\u001B[38;5;241m.\u001B[39mjoin(label_dir, file\u001B[38;5;241m.\u001B[39mreplace(\u001B[38;5;124m'\u001B[39m\u001B[38;5;124m.wav\u001B[39m\u001B[38;5;124m'\u001B[39m, \u001B[38;5;124m'\u001B[39m\u001B[38;5;124m.csv\u001B[39m\u001B[38;5;124m'\u001B[39m))\n",
      "File \u001B[1;32m~\\DataspellProjects\\Music_Transcriptor\\src\\preprocessing\\data_preprocessing.py:108\u001B[0m, in \u001B[0;36mgenerate_cqt\u001B[1;34m(audio_file, frame_size, overlap_fac, bins_per_octave, n_octaves, mean, std)\u001B[0m\n\u001B[0;32m    105\u001B[0m y, sr \u001B[38;5;241m=\u001B[39m librosa\u001B[38;5;241m.\u001B[39mload(audio_file, sr\u001B[38;5;241m=\u001B[39m\u001B[38;5;241m44100\u001B[39m)\n\u001B[0;32m    106\u001B[0m hop_length \u001B[38;5;241m=\u001B[39m \u001B[38;5;28mint\u001B[39m(frame_size \u001B[38;5;241m-\u001B[39m (overlap_fac \u001B[38;5;241m*\u001B[39m frame_size))\n\u001B[1;32m--> 108\u001B[0m C \u001B[38;5;241m=\u001B[39m \u001B[43mlibrosa\u001B[49m\u001B[38;5;241;43m.\u001B[39;49m\u001B[43mcqt\u001B[49m\u001B[43m(\u001B[49m\u001B[43my\u001B[49m\u001B[43m,\u001B[49m\u001B[43m \u001B[49m\u001B[43msr\u001B[49m\u001B[38;5;241;43m=\u001B[39;49m\u001B[43msr\u001B[49m\u001B[43m,\u001B[49m\u001B[43m \u001B[49m\u001B[43mhop_length\u001B[49m\u001B[38;5;241;43m=\u001B[39;49m\u001B[43mhop_length\u001B[49m\u001B[43m,\u001B[49m\u001B[43m \u001B[49m\u001B[43mbins_per_octave\u001B[49m\u001B[38;5;241;43m=\u001B[39;49m\u001B[43mbins_per_octave\u001B[49m\u001B[43m,\u001B[49m\u001B[43m \u001B[49m\u001B[43mn_bins\u001B[49m\u001B[38;5;241;43m=\u001B[39;49m\u001B[43mn_octaves\u001B[49m\u001B[38;5;241;43m*\u001B[39;49m\u001B[43mbins_per_octave\u001B[49m\u001B[43m)\u001B[49m\n\u001B[0;32m    109\u001B[0m C_dB \u001B[38;5;241m=\u001B[39m librosa\u001B[38;5;241m.\u001B[39mamplitude_to_db(\u001B[38;5;28mabs\u001B[39m(C))\n\u001B[0;32m    111\u001B[0m \u001B[38;5;28;01mif\u001B[39;00m mean \u001B[38;5;129;01mis\u001B[39;00m \u001B[38;5;129;01mnot\u001B[39;00m \u001B[38;5;28;01mNone\u001B[39;00m \u001B[38;5;129;01mand\u001B[39;00m std \u001B[38;5;129;01mis\u001B[39;00m \u001B[38;5;129;01mnot\u001B[39;00m \u001B[38;5;28;01mNone\u001B[39;00m:\n",
      "File \u001B[1;32m~\\anaconda3\\envs\\torch_gpu\\lib\\site-packages\\librosa\\core\\constantq.py:171\u001B[0m, in \u001B[0;36mcqt\u001B[1;34m(y, sr, hop_length, fmin, n_bins, bins_per_octave, tuning, filter_scale, norm, sparsity, window, scale, pad_mode, res_type, dtype)\u001B[0m\n\u001B[0;32m     46\u001B[0m \u001B[38;5;250m\u001B[39m\u001B[38;5;124;03m\"\"\"Compute the constant-Q transform of an audio signal.\u001B[39;00m\n\u001B[0;32m     47\u001B[0m \n\u001B[0;32m     48\u001B[0m \u001B[38;5;124;03mThis implementation is based on the recursive sub-sampling method\u001B[39;00m\n\u001B[1;32m   (...)\u001B[0m\n\u001B[0;32m    168\u001B[0m \u001B[38;5;124;03m       [5.147e-02, 6.959e-02, ..., 1.694e-05, 5.811e-06]])\u001B[39;00m\n\u001B[0;32m    169\u001B[0m \u001B[38;5;124;03m\"\"\"\u001B[39;00m\n\u001B[0;32m    170\u001B[0m \u001B[38;5;66;03m# CQT is the special case of VQT with gamma=0\u001B[39;00m\n\u001B[1;32m--> 171\u001B[0m \u001B[38;5;28;01mreturn\u001B[39;00m \u001B[43mvqt\u001B[49m\u001B[43m(\u001B[49m\n\u001B[0;32m    172\u001B[0m \u001B[43m    \u001B[49m\u001B[43my\u001B[49m\u001B[38;5;241;43m=\u001B[39;49m\u001B[43my\u001B[49m\u001B[43m,\u001B[49m\n\u001B[0;32m    173\u001B[0m \u001B[43m    \u001B[49m\u001B[43msr\u001B[49m\u001B[38;5;241;43m=\u001B[39;49m\u001B[43msr\u001B[49m\u001B[43m,\u001B[49m\n\u001B[0;32m    174\u001B[0m \u001B[43m    \u001B[49m\u001B[43mhop_length\u001B[49m\u001B[38;5;241;43m=\u001B[39;49m\u001B[43mhop_length\u001B[49m\u001B[43m,\u001B[49m\n\u001B[0;32m    175\u001B[0m \u001B[43m    \u001B[49m\u001B[43mfmin\u001B[49m\u001B[38;5;241;43m=\u001B[39;49m\u001B[43mfmin\u001B[49m\u001B[43m,\u001B[49m\n\u001B[0;32m    176\u001B[0m \u001B[43m    \u001B[49m\u001B[43mn_bins\u001B[49m\u001B[38;5;241;43m=\u001B[39;49m\u001B[43mn_bins\u001B[49m\u001B[43m,\u001B[49m\n\u001B[0;32m    177\u001B[0m \u001B[43m    \u001B[49m\u001B[43mintervals\u001B[49m\u001B[38;5;241;43m=\u001B[39;49m\u001B[38;5;124;43m\"\u001B[39;49m\u001B[38;5;124;43mequal\u001B[39;49m\u001B[38;5;124;43m\"\u001B[39;49m\u001B[43m,\u001B[49m\n\u001B[0;32m    178\u001B[0m \u001B[43m    \u001B[49m\u001B[43mgamma\u001B[49m\u001B[38;5;241;43m=\u001B[39;49m\u001B[38;5;241;43m0\u001B[39;49m\u001B[43m,\u001B[49m\n\u001B[0;32m    179\u001B[0m \u001B[43m    \u001B[49m\u001B[43mbins_per_octave\u001B[49m\u001B[38;5;241;43m=\u001B[39;49m\u001B[43mbins_per_octave\u001B[49m\u001B[43m,\u001B[49m\n\u001B[0;32m    180\u001B[0m \u001B[43m    \u001B[49m\u001B[43mtuning\u001B[49m\u001B[38;5;241;43m=\u001B[39;49m\u001B[43mtuning\u001B[49m\u001B[43m,\u001B[49m\n\u001B[0;32m    181\u001B[0m \u001B[43m    \u001B[49m\u001B[43mfilter_scale\u001B[49m\u001B[38;5;241;43m=\u001B[39;49m\u001B[43mfilter_scale\u001B[49m\u001B[43m,\u001B[49m\n\u001B[0;32m    182\u001B[0m \u001B[43m    \u001B[49m\u001B[43mnorm\u001B[49m\u001B[38;5;241;43m=\u001B[39;49m\u001B[43mnorm\u001B[49m\u001B[43m,\u001B[49m\n\u001B[0;32m    183\u001B[0m \u001B[43m    \u001B[49m\u001B[43msparsity\u001B[49m\u001B[38;5;241;43m=\u001B[39;49m\u001B[43msparsity\u001B[49m\u001B[43m,\u001B[49m\n\u001B[0;32m    184\u001B[0m \u001B[43m    \u001B[49m\u001B[43mwindow\u001B[49m\u001B[38;5;241;43m=\u001B[39;49m\u001B[43mwindow\u001B[49m\u001B[43m,\u001B[49m\n\u001B[0;32m    185\u001B[0m \u001B[43m    \u001B[49m\u001B[43mscale\u001B[49m\u001B[38;5;241;43m=\u001B[39;49m\u001B[43mscale\u001B[49m\u001B[43m,\u001B[49m\n\u001B[0;32m    186\u001B[0m \u001B[43m    \u001B[49m\u001B[43mpad_mode\u001B[49m\u001B[38;5;241;43m=\u001B[39;49m\u001B[43mpad_mode\u001B[49m\u001B[43m,\u001B[49m\n\u001B[0;32m    187\u001B[0m \u001B[43m    \u001B[49m\u001B[43mres_type\u001B[49m\u001B[38;5;241;43m=\u001B[39;49m\u001B[43mres_type\u001B[49m\u001B[43m,\u001B[49m\n\u001B[0;32m    188\u001B[0m \u001B[43m    \u001B[49m\u001B[43mdtype\u001B[49m\u001B[38;5;241;43m=\u001B[39;49m\u001B[43mdtype\u001B[49m\u001B[43m,\u001B[49m\n\u001B[0;32m    189\u001B[0m \u001B[43m\u001B[49m\u001B[43m)\u001B[49m\n",
      "File \u001B[1;32m~\\anaconda3\\envs\\torch_gpu\\lib\\site-packages\\librosa\\core\\constantq.py:1018\u001B[0m, in \u001B[0;36mvqt\u001B[1;34m(y, sr, hop_length, fmin, n_bins, intervals, gamma, bins_per_octave, tuning, filter_scale, norm, sparsity, window, scale, pad_mode, res_type, dtype)\u001B[0m\n\u001B[0;32m   1014\u001B[0m fft_basis[:] \u001B[38;5;241m*\u001B[39m\u001B[38;5;241m=\u001B[39m np\u001B[38;5;241m.\u001B[39msqrt(sr \u001B[38;5;241m/\u001B[39m my_sr)\n\u001B[0;32m   1016\u001B[0m \u001B[38;5;66;03m# Compute the vqt filter response and append to the stack\u001B[39;00m\n\u001B[0;32m   1017\u001B[0m vqt_resp\u001B[38;5;241m.\u001B[39mappend(\n\u001B[1;32m-> 1018\u001B[0m     \u001B[43m__cqt_response\u001B[49m\u001B[43m(\u001B[49m\u001B[43mmy_y\u001B[49m\u001B[43m,\u001B[49m\u001B[43m \u001B[49m\u001B[43mn_fft\u001B[49m\u001B[43m,\u001B[49m\u001B[43m \u001B[49m\u001B[43mmy_hop\u001B[49m\u001B[43m,\u001B[49m\u001B[43m \u001B[49m\u001B[43mfft_basis\u001B[49m\u001B[43m,\u001B[49m\u001B[43m \u001B[49m\u001B[43mpad_mode\u001B[49m\u001B[43m,\u001B[49m\u001B[43m \u001B[49m\u001B[43mdtype\u001B[49m\u001B[38;5;241;43m=\u001B[39;49m\u001B[43mdtype\u001B[49m\u001B[43m)\u001B[49m\n\u001B[0;32m   1019\u001B[0m )\n\u001B[0;32m   1021\u001B[0m \u001B[38;5;28;01mif\u001B[39;00m my_hop \u001B[38;5;241m%\u001B[39m \u001B[38;5;241m2\u001B[39m \u001B[38;5;241m==\u001B[39m \u001B[38;5;241m0\u001B[39m:\n\u001B[0;32m   1022\u001B[0m     my_hop \u001B[38;5;241m/\u001B[39m\u001B[38;5;241m/\u001B[39m\u001B[38;5;241m=\u001B[39m \u001B[38;5;241m2\u001B[39m\n",
      "File \u001B[1;32m~\\anaconda3\\envs\\torch_gpu\\lib\\site-packages\\librosa\\core\\constantq.py:1126\u001B[0m, in \u001B[0;36m__cqt_response\u001B[1;34m(y, n_fft, hop_length, fft_basis, mode, window, phase, dtype)\u001B[0m\n\u001B[0;32m   1124\u001B[0m \u001B[38;5;250m\u001B[39m\u001B[38;5;124;03m\"\"\"Compute the filter response with a target STFT hop.\"\"\"\u001B[39;00m\n\u001B[0;32m   1125\u001B[0m \u001B[38;5;66;03m# Compute the STFT matrix\u001B[39;00m\n\u001B[1;32m-> 1126\u001B[0m D \u001B[38;5;241m=\u001B[39m \u001B[43mstft\u001B[49m\u001B[43m(\u001B[49m\n\u001B[0;32m   1127\u001B[0m \u001B[43m    \u001B[49m\u001B[43my\u001B[49m\u001B[43m,\u001B[49m\u001B[43m \u001B[49m\u001B[43mn_fft\u001B[49m\u001B[38;5;241;43m=\u001B[39;49m\u001B[43mn_fft\u001B[49m\u001B[43m,\u001B[49m\u001B[43m \u001B[49m\u001B[43mhop_length\u001B[49m\u001B[38;5;241;43m=\u001B[39;49m\u001B[43mhop_length\u001B[49m\u001B[43m,\u001B[49m\u001B[43m \u001B[49m\u001B[43mwindow\u001B[49m\u001B[38;5;241;43m=\u001B[39;49m\u001B[43mwindow\u001B[49m\u001B[43m,\u001B[49m\u001B[43m \u001B[49m\u001B[43mpad_mode\u001B[49m\u001B[38;5;241;43m=\u001B[39;49m\u001B[43mmode\u001B[49m\u001B[43m,\u001B[49m\u001B[43m \u001B[49m\u001B[43mdtype\u001B[49m\u001B[38;5;241;43m=\u001B[39;49m\u001B[43mdtype\u001B[49m\n\u001B[0;32m   1128\u001B[0m \u001B[43m\u001B[49m\u001B[43m)\u001B[49m\n\u001B[0;32m   1130\u001B[0m \u001B[38;5;28;01mif\u001B[39;00m \u001B[38;5;129;01mnot\u001B[39;00m phase:\n\u001B[0;32m   1131\u001B[0m     D \u001B[38;5;241m=\u001B[39m np\u001B[38;5;241m.\u001B[39mabs(D)\n",
      "File \u001B[1;32m~\\anaconda3\\envs\\torch_gpu\\lib\\site-packages\\librosa\\core\\spectrum.py:378\u001B[0m, in \u001B[0;36mstft\u001B[1;34m(y, n_fft, hop_length, win_length, window, center, dtype, pad_mode, out)\u001B[0m\n\u001B[0;32m    375\u001B[0m \u001B[38;5;28;01mfor\u001B[39;00m bl_s \u001B[38;5;129;01min\u001B[39;00m \u001B[38;5;28mrange\u001B[39m(\u001B[38;5;241m0\u001B[39m, y_frames\u001B[38;5;241m.\u001B[39mshape[\u001B[38;5;241m-\u001B[39m\u001B[38;5;241m1\u001B[39m], n_columns):\n\u001B[0;32m    376\u001B[0m     bl_t \u001B[38;5;241m=\u001B[39m \u001B[38;5;28mmin\u001B[39m(bl_s \u001B[38;5;241m+\u001B[39m n_columns, y_frames\u001B[38;5;241m.\u001B[39mshape[\u001B[38;5;241m-\u001B[39m\u001B[38;5;241m1\u001B[39m])\n\u001B[1;32m--> 378\u001B[0m     stft_matrix[\u001B[38;5;241m.\u001B[39m\u001B[38;5;241m.\u001B[39m\u001B[38;5;241m.\u001B[39m, bl_s \u001B[38;5;241m+\u001B[39m off_start : bl_t \u001B[38;5;241m+\u001B[39m off_start] \u001B[38;5;241m=\u001B[39m \u001B[43mfft\u001B[49m\u001B[38;5;241;43m.\u001B[39;49m\u001B[43mrfft\u001B[49m\u001B[43m(\u001B[49m\n\u001B[0;32m    379\u001B[0m \u001B[43m        \u001B[49m\u001B[43mfft_window\u001B[49m\u001B[43m \u001B[49m\u001B[38;5;241;43m*\u001B[39;49m\u001B[43m \u001B[49m\u001B[43my_frames\u001B[49m\u001B[43m[\u001B[49m\u001B[38;5;241;43m.\u001B[39;49m\u001B[38;5;241;43m.\u001B[39;49m\u001B[38;5;241;43m.\u001B[39;49m\u001B[43m,\u001B[49m\u001B[43m \u001B[49m\u001B[43mbl_s\u001B[49m\u001B[43m:\u001B[49m\u001B[43mbl_t\u001B[49m\u001B[43m]\u001B[49m\u001B[43m,\u001B[49m\u001B[43m \u001B[49m\u001B[43maxis\u001B[49m\u001B[38;5;241;43m=\u001B[39;49m\u001B[38;5;241;43m-\u001B[39;49m\u001B[38;5;241;43m2\u001B[39;49m\n\u001B[0;32m    380\u001B[0m \u001B[43m    \u001B[49m\u001B[43m)\u001B[49m\n\u001B[0;32m    381\u001B[0m \u001B[38;5;28;01mreturn\u001B[39;00m stft_matrix\n",
      "File \u001B[1;32m~\\AppData\\Roaming\\Python\\Python310\\site-packages\\numpy\\fft\\_pocketfft.py:409\u001B[0m, in \u001B[0;36mrfft\u001B[1;34m(a, n, axis, norm)\u001B[0m\n\u001B[0;32m    407\u001B[0m     n \u001B[38;5;241m=\u001B[39m a\u001B[38;5;241m.\u001B[39mshape[axis]\n\u001B[0;32m    408\u001B[0m inv_norm \u001B[38;5;241m=\u001B[39m _get_forward_norm(n, norm)\n\u001B[1;32m--> 409\u001B[0m output \u001B[38;5;241m=\u001B[39m \u001B[43m_raw_fft\u001B[49m\u001B[43m(\u001B[49m\u001B[43ma\u001B[49m\u001B[43m,\u001B[49m\u001B[43m \u001B[49m\u001B[43mn\u001B[49m\u001B[43m,\u001B[49m\u001B[43m \u001B[49m\u001B[43maxis\u001B[49m\u001B[43m,\u001B[49m\u001B[43m \u001B[49m\u001B[38;5;28;43;01mTrue\u001B[39;49;00m\u001B[43m,\u001B[49m\u001B[43m \u001B[49m\u001B[38;5;28;43;01mTrue\u001B[39;49;00m\u001B[43m,\u001B[49m\u001B[43m \u001B[49m\u001B[43minv_norm\u001B[49m\u001B[43m)\u001B[49m\n\u001B[0;32m    410\u001B[0m \u001B[38;5;28;01mreturn\u001B[39;00m output\n",
      "File \u001B[1;32m~\\AppData\\Roaming\\Python\\Python310\\site-packages\\numpy\\fft\\_pocketfft.py:73\u001B[0m, in \u001B[0;36m_raw_fft\u001B[1;34m(a, n, axis, is_real, is_forward, inv_norm)\u001B[0m\n\u001B[0;32m     71\u001B[0m \u001B[38;5;28;01melse\u001B[39;00m:\n\u001B[0;32m     72\u001B[0m     a \u001B[38;5;241m=\u001B[39m swapaxes(a, axis, \u001B[38;5;241m-\u001B[39m\u001B[38;5;241m1\u001B[39m)\n\u001B[1;32m---> 73\u001B[0m     r \u001B[38;5;241m=\u001B[39m \u001B[43mpfi\u001B[49m\u001B[38;5;241;43m.\u001B[39;49m\u001B[43mexecute\u001B[49m\u001B[43m(\u001B[49m\u001B[43ma\u001B[49m\u001B[43m,\u001B[49m\u001B[43m \u001B[49m\u001B[43mis_real\u001B[49m\u001B[43m,\u001B[49m\u001B[43m \u001B[49m\u001B[43mis_forward\u001B[49m\u001B[43m,\u001B[49m\u001B[43m \u001B[49m\u001B[43mfct\u001B[49m\u001B[43m)\u001B[49m\n\u001B[0;32m     74\u001B[0m     r \u001B[38;5;241m=\u001B[39m swapaxes(r, axis, \u001B[38;5;241m-\u001B[39m\u001B[38;5;241m1\u001B[39m)\n\u001B[0;32m     75\u001B[0m \u001B[38;5;28;01mreturn\u001B[39;00m r\n",
      "\u001B[1;31mKeyboardInterrupt\u001B[0m: "
     ]
    }
   ],
   "source": [
    "train_mean, train_std_dev = calculate_cqt_stats(train_data_dir, bins_per_octave=36, data_size=320)\n",
    "X_train, y_train = process_files_using_cqt(train_data_dir, train_labels_dir, generate_note_with_instrument_labels, mean=train_mean, std=train_std_dev, bins_per_octave=36, data_size=320)\n",
    "\n",
    "test_mean, test_std_dev = calculate_cqt_stats(test_data_dir, bins_per_octave=36, data_size=10)\n",
    "X_test, y_test = process_files_using_cqt(test_data_dir, test_labels_dir, generate_note_with_instrument_labels, mean=test_mean, std=test_std_dev, bins_per_octave=36, data_size=10)"
   ],
   "metadata": {
    "collapsed": false,
    "ExecuteTime": {
     "end_time": "2023-11-28T11:37:15.309330900Z",
     "start_time": "2023-11-28T11:29:24.337272700Z"
    }
   },
   "id": "fc66c3eda7056ce3"
  },
  {
   "cell_type": "code",
   "execution_count": null,
   "outputs": [],
   "source": [
    "print('Number of training examples:', len(X_train))\n",
    "print('Number of training labels:', len(y_train))\n",
    "print(f\"X_train[0] shape: {X_train[0].shape}\")\n",
    "print(f\"y_train[0] shape: {y_train[0].shape}\")"
   ],
   "metadata": {
    "collapsed": false,
    "ExecuteTime": {
     "start_time": "2023-11-28T11:37:15.308330400Z"
    }
   },
   "id": "509626ba1520193d"
  },
  {
   "cell_type": "markdown",
   "source": [
    "#### Pad data to the same length"
   ],
   "metadata": {
    "collapsed": false
   },
   "id": "550402ba5ca3f9a2"
  },
  {
   "cell_type": "code",
   "execution_count": null,
   "outputs": [],
   "source": [
    "max_length = max(find_max_length(X_train), find_max_length(X_test))\n",
    "print('Max length:', max_length)"
   ],
   "metadata": {
    "collapsed": false,
    "ExecuteTime": {
     "start_time": "2023-11-28T11:37:15.309330900Z"
    }
   },
   "id": "d9acf86815984982"
  },
  {
   "cell_type": "code",
   "execution_count": null,
   "outputs": [],
   "source": [
    "X_train_padded = pad_data(X_train, max_length)\n",
    "y_train_padded = pad_data(y_train, max_length, return_type=np.int8)\n",
    "X_test_padded = pad_data(X_test, max_length)\n",
    "y_test_padded = pad_data(y_test, max_length, return_type=np.int8)"
   ],
   "metadata": {
    "collapsed": false,
    "ExecuteTime": {
     "start_time": "2023-11-28T11:37:15.310330600Z"
    }
   },
   "id": "6ca6b86e7b8ce1"
  },
  {
   "cell_type": "code",
   "execution_count": null,
   "outputs": [],
   "source": [
    "print('X_train_padded shape:', X_train_padded.shape)\n",
    "print('y_train_padded shape:', y_train_padded.shape)\n",
    "print('X_test_padded shape:', X_test_padded.shape)\n",
    "print('y_test_padded shape:', y_test_padded.shape)"
   ],
   "metadata": {
    "collapsed": false,
    "ExecuteTime": {
     "end_time": "2023-11-28T11:37:15.312330700Z",
     "start_time": "2023-11-28T11:37:15.311330Z"
    }
   },
   "id": "3c7e022f5a06431e"
  },
  {
   "cell_type": "markdown",
   "source": [
    "#### Reshape data"
   ],
   "metadata": {
    "collapsed": false
   },
   "id": "9fe95c1c47c2ce32"
  },
  {
   "cell_type": "code",
   "execution_count": null,
   "outputs": [],
   "source": [
    "X_train = X_train_padded.reshape(-1, X_train_padded.shape[2])\n",
    "y_train = y_train_padded.reshape(-1, 88 * 12)  # 88 notes * 11 instruments + 1 note was not played\n",
    "X_test = X_test_padded.reshape(-1, X_test_padded.shape[2])\n",
    "y_test = y_test_padded.reshape(-1, 88 * 12)  # 88 notes * 11 instruments + 1 note was not played"
   ],
   "metadata": {
    "collapsed": false,
    "ExecuteTime": {
     "start_time": "2023-11-28T11:37:15.312330700Z"
    }
   },
   "id": "7940f5f3be152642"
  },
  {
   "cell_type": "code",
   "execution_count": null,
   "outputs": [],
   "source": [
    "print('X_train shape:', X_train.shape)\n",
    "print('y_train shape:', y_train.shape)\n",
    "print('X_test shape:', X_test.shape)\n",
    "print('y_test shape:', y_test.shape)"
   ],
   "metadata": {
    "collapsed": false,
    "ExecuteTime": {
     "start_time": "2023-11-28T11:37:15.312330700Z"
    }
   },
   "id": "45f96f6494e76f8d"
  },
  {
   "cell_type": "markdown",
   "source": [
    "#### Save preprocessed data"
   ],
   "metadata": {
    "collapsed": false
   },
   "id": "9d9456f804cb6d0c"
  },
  {
   "cell_type": "code",
   "execution_count": null,
   "outputs": [],
   "source": [
    "save_preprocessed_data(X_train, y_train, '../Data/processed/final_data/cqt_bins_36/', 'train.h5')\n",
    "save_preprocessed_data(X_test, y_test, '../Data/processed/final_data/cqt_bins_36/', 'test.h5')"
   ],
   "metadata": {
    "collapsed": false,
    "ExecuteTime": {
     "end_time": "2023-11-28T11:37:15.313330500Z",
     "start_time": "2023-11-28T11:37:15.313330500Z"
    }
   },
   "id": "bced4061f2850ec2"
  }
 ],
 "metadata": {
  "kernelspec": {
   "display_name": "Python 3",
   "language": "python",
   "name": "python3"
  },
  "language_info": {
   "codemirror_mode": {
    "name": "ipython",
    "version": 2
   },
   "file_extension": ".py",
   "mimetype": "text/x-python",
   "name": "python",
   "nbconvert_exporter": "python",
   "pygments_lexer": "ipython2",
   "version": "2.7.6"
  }
 },
 "nbformat": 4,
 "nbformat_minor": 5
}
